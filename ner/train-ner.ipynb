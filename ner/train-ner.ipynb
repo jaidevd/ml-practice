{
 "cells": [
  {
   "cell_type": "code",
   "execution_count": 2,
   "id": "0e296e5a-da1d-48a6-b618-23a50e40d550",
   "metadata": {},
   "outputs": [
    {
     "data": {
      "text/plain": [
       "[{'text': '#BREAKINGNEWS MALAYSIA AIRLINES FLIGHT #MH17 CONFIRMED SHOT DOWN OVER #DONETSK OBLAST, SHORTLY BEFORE REACHING RUSSIAN AIR SPACE',\n",
       "  'labels': [{'start': 14, 'end': 31, 'label': 'ORG'},\n",
       "   {'start': 70, 'end': 85, 'label': 'LOC'},\n",
       "   {'start': 111, 'end': 118, 'label': 'LOC'}]},\n",
       " {'text': \"Here's a route map of @MAS #MH17, which @flightaware lost track of right at the Ukraine/Poland border http://t.co/IGvQJnkU7B\",\n",
       "  'labels': [{'start': 22, 'end': 26, 'label': 'ORG'},\n",
       "   {'start': 40, 'end': 52, 'label': 'ORG'},\n",
       "   {'start': 80, 'end': 87, 'label': 'LOC'},\n",
       "   {'start': 88, 'end': 101, 'label': 'LOC'}]},\n",
       " {'text': \"Can somebody confirm this. RT @KennySkyNews: Reports Malaysia Airlines MH17 has crashed near Ukraine's border with Russia. #MH17 #Malaysia\",\n",
       "  'labels': [{'start': 53, 'end': 70, 'label': 'ORG'},\n",
       "   {'start': 93, 'end': 100, 'label': 'LOC'},\n",
       "   {'start': 115, 'end': 121, 'label': 'LOC'},\n",
       "   {'start': 129, 'end': 138, 'label': 'ORG'}]}]"
      ]
     },
     "execution_count": 2,
     "metadata": {},
     "output_type": "execute_result"
    }
   ],
   "source": [
    "import json\n",
    "import spacy\n",
    "from transformers import pipeline\n",
    "\n",
    "with open('ner-train.json', 'r') as fin:\n",
    "    data = json.load(fin)\n",
    "data[:3]"
   ]
  },
  {
   "cell_type": "code",
   "execution_count": 7,
   "id": "47167a05-82ba-4c0f-aefa-4caf3cbc6bc1",
   "metadata": {},
   "outputs": [],
   "source": [
    "# json -> spacy docs\n",
    "nlp = spacy.load('en_core_web_sm')\n",
    "docs = []\n",
    "for tweet in data:\n",
    "    doc = nlp(tweet['text'])\n",
    "    spans = []\n",
    "    for ent in tweet['labels']:\n",
    "        spans.append(doc.char_span(ent['start'], ent['end'], label=ent['label']))\n",
    "    doc.set_ents(spans)\n",
    "    docs.append(doc)"
   ]
  },
  {
   "cell_type": "code",
   "execution_count": 11,
   "id": "c1ede031-b00e-49ca-9572-5c3a4933ecfc",
   "metadata": {},
   "outputs": [],
   "source": [
    "# spacy docs to biluo tags\n",
    "from spacy.training import offsets_to_biluo_tags\n",
    "\n",
    "tags = []\n",
    "for doc in docs:\n",
    "    tag = offsets_to_biluo_tags(doc, [(e.start_char, e.end_char, e.label_) for e in doc.ents])\n",
    "    tags.append(tag)\n"
   ]
  },
  {
   "cell_type": "code",
   "execution_count": 12,
   "id": "dc2b9635-0ea9-4508-b552-7acd60c8f709",
   "metadata": {},
   "outputs": [],
   "source": [
    "# bilou tags to iob tags\n",
    "def bilou2iob(tags):\n",
    "    # Replace L\n",
    "    tags = [t.replace('L-', 'I-') for t in tags]\n",
    "    # Replace U\n",
    "    tags = [t.replace('U-', 'B-') for t in tags]\n",
    "    return tags\n",
    "\n",
    "tags = [bilou2iob(tag) for tag in tags]"
   ]
  },
  {
   "cell_type": "code",
   "execution_count": 31,
   "id": "0a0acd1e-dee5-418b-ac08-81f8d4795b78",
   "metadata": {},
   "outputs": [
    {
     "data": {
      "text/plain": [
       "{'B-LOC', 'B-ORG', 'B-PER', 'I-LOC', 'I-ORG', 'I-PER', 'O'}"
      ]
     },
     "execution_count": 31,
     "metadata": {},
     "output_type": "execute_result"
    }
   ],
   "source": [
    "from itertools import chain\n",
    "set(chain(*tags))"
   ]
  },
  {
   "cell_type": "code",
   "execution_count": 13,
   "id": "29efdd67-dc6a-4327-8337-b7f51b25343e",
   "metadata": {},
   "outputs": [],
   "source": [
    "# Huggingface training"
   ]
  },
  {
   "cell_type": "code",
   "execution_count": 14,
   "id": "98ac74e8-ba89-43e4-b7f4-846515309286",
   "metadata": {},
   "outputs": [],
   "source": [
    "# Evaluate on the data first"
   ]
  },
  {
   "cell_type": "code",
   "execution_count": 15,
   "id": "8a0d9149-9414-4185-980c-87568edc25c8",
   "metadata": {},
   "outputs": [],
   "source": [
    "from datasets import load_metric"
   ]
  },
  {
   "cell_type": "code",
   "execution_count": 16,
   "id": "5ac9b894-0332-426b-af06-fd34eb71d00a",
   "metadata": {},
   "outputs": [],
   "source": [
    "metric = load_metric('seqeval')"
   ]
  },
  {
   "cell_type": "code",
   "execution_count": 35,
   "id": "3eb99fef-57f6-4077-ae1f-b4777bc3676d",
   "metadata": {},
   "outputs": [],
   "source": [
    "clf = pipeline('ner', aggregation_strategy='first')"
   ]
  },
  {
   "cell_type": "code",
   "execution_count": 36,
   "id": "365c5013-fef1-4c2b-884c-c2418337fc4c",
   "metadata": {},
   "outputs": [
    {
     "data": {
      "text/plain": [
       "[{'entity_group': 'LOC',\n",
       "  'score': 0.4011522,\n",
       "  'word': 'MALAYSIA',\n",
       "  'start': 14,\n",
       "  'end': 22},\n",
       " {'entity_group': 'ORG',\n",
       "  'score': 0.5026202,\n",
       "  'word': 'AIRLINES',\n",
       "  'start': 23,\n",
       "  'end': 31},\n",
       " {'entity_group': 'ORG',\n",
       "  'score': 0.4480394,\n",
       "  'word': 'DONETSK',\n",
       "  'start': 71,\n",
       "  'end': 78},\n",
       " {'entity_group': 'MISC',\n",
       "  'score': 0.99558073,\n",
       "  'word': 'RUSSIAN',\n",
       "  'start': 111,\n",
       "  'end': 118}]"
      ]
     },
     "execution_count": 36,
     "metadata": {},
     "output_type": "execute_result"
    }
   ],
   "source": [
    "pred = clf([doc.text for doc in docs])\n",
    "pred[0]"
   ]
  },
  {
   "cell_type": "code",
   "execution_count": 41,
   "id": "9488684b-8421-46c4-af7e-010d4d797427",
   "metadata": {
    "scrolled": true,
    "tags": []
   },
   "outputs": [
    {
     "name": "stderr",
     "output_type": "stream",
     "text": [
      "/home/jaidevd/conda/lib/python3.7/site-packages/spacy/training/iob_utils.py:144: UserWarning: [W030] Some entities could not be aligned in the text \"Can somebody confirm this. RT @KennySkyNews: Repor...\" with entities \"[(27, 29, 'ORG'), (31, 43, 'ORG'), (53, 70, 'ORG')...\". Use `spacy.training.offsets_to_biluo_tags(nlp.make_doc(text), entities)` to check the alignment. Misaligned entities ('-') will be ignored during training.\n",
      "  entities=ent_str[:50] + \"...\" if len(ent_str) > 50 else ent_str,\n",
      "/home/jaidevd/conda/lib/python3.7/site-packages/spacy/training/iob_utils.py:144: UserWarning: [W030] Some entities could not be aligned in the text \".@MAS says it \"lost contact\" with #MH17. @Bloomber...\" with entities \"[(2, 5, 'ORG'), (35, 39, 'ORG'), (42, 53, 'ORG'), ...\". Use `spacy.training.offsets_to_biluo_tags(nlp.make_doc(text), entities)` to check the alignment. Misaligned entities ('-') will be ignored during training.\n",
      "  entities=ent_str[:50] + \"...\" if len(ent_str) > 50 else ent_str,\n",
      "/home/jaidevd/conda/lib/python3.7/site-packages/spacy/training/iob_utils.py:144: UserWarning: [W030] Some entities could not be aligned in the text \"Update from @HuffPostUK: Ukrainian minister says r...\" with entities \"[(13, 23, 'ORG'), (25, 34, 'MISC'), (72, 89, 'ORG'...\". Use `spacy.training.offsets_to_biluo_tags(nlp.make_doc(text), entities)` to check the alignment. Misaligned entities ('-') will be ignored during training.\n",
      "  entities=ent_str[:50] + \"...\" if len(ent_str) > 50 else ent_str,\n",
      "/home/jaidevd/conda/lib/python3.7/site-packages/spacy/training/iob_utils.py:144: UserWarning: [W030] Some entities could not be aligned in the text \"I am also in touch with MOT “@AircrewBuzz: RT @FHa...\" with entities \"[(30, 41, 'ORG'), (54, 58, 'ORG')]\". Use `spacy.training.offsets_to_biluo_tags(nlp.make_doc(text), entities)` to check the alignment. Misaligned entities ('-') will be ignored during training.\n",
      "  entities=ent_str[:50] + \"...\" if len(ent_str) > 50 else ent_str,\n",
      "/home/jaidevd/conda/lib/python3.7/site-packages/spacy/training/iob_utils.py:144: UserWarning: [W030] Some entities could not be aligned in the text \"#Russia'n cmdr Strelkov commented on downed #MH17 ...\" with entities \"[(1, 7, 'LOC'), (15, 23, 'PER'), (45, 49, 'MISC'),...\". Use `spacy.training.offsets_to_biluo_tags(nlp.make_doc(text), entities)` to check the alignment. Misaligned entities ('-') will be ignored during training.\n",
      "  entities=ent_str[:50] + \"...\" if len(ent_str) > 50 else ent_str,\n",
      "/home/jaidevd/conda/lib/python3.7/site-packages/spacy/training/iob_utils.py:144: UserWarning: [W030] Some entities could not be aligned in the text \"Full @poroshenko's stmt on #MH17 crash in Eastern ...\" with entities \"[(6, 16, 'PER'), (28, 32, 'MISC'), (42, 57, 'LOC')...\". Use `spacy.training.offsets_to_biluo_tags(nlp.make_doc(text), entities)` to check the alignment. Misaligned entities ('-') will be ignored during training.\n",
      "  entities=ent_str[:50] + \"...\" if len(ent_str) > 50 else ent_str,\n",
      "/home/jaidevd/conda/lib/python3.7/site-packages/spacy/training/iob_utils.py:144: UserWarning: [W030] Some entities could not be aligned in the text \"Malaysian Airlines flight #MH17 reported to have b...\" with entities \"[(0, 18, 'ORG'), (67, 73, 'MISC'), (105, 115, 'ORG...\". Use `spacy.training.offsets_to_biluo_tags(nlp.make_doc(text), entities)` to check the alignment. Misaligned entities ('-') will be ignored during training.\n",
      "  entities=ent_str[:50] + \"...\" if len(ent_str) > 50 else ent_str,\n",
      "/home/jaidevd/conda/lib/python3.7/site-packages/spacy/training/iob_utils.py:144: UserWarning: [W030] Some entities could not be aligned in the text \"Photo from @MatevzNovak appears to show wreckage f...\" with entities \"[(12, 23, 'ORG'), (62, 66, 'MISC'), (70, 77, 'LOC'...\". Use `spacy.training.offsets_to_biluo_tags(nlp.make_doc(text), entities)` to check the alignment. Misaligned entities ('-') will be ignored during training.\n",
      "  entities=ent_str[:50] + \"...\" if len(ent_str) > 50 else ent_str,\n",
      "/home/jaidevd/conda/lib/python3.7/site-packages/spacy/training/iob_utils.py:144: UserWarning: [W030] Some entities could not be aligned in the text \"Flight path of Malaysia Airlines flight #MH17. Wat...\" with entities \"[(15, 32, 'ORG'), (63, 70, 'ORG')]\". Use `spacy.training.offsets_to_biluo_tags(nlp.make_doc(text), entities)` to check the alignment. Misaligned entities ('-') will be ignored during training.\n",
      "  entities=ent_str[:50] + \"...\" if len(ent_str) > 50 else ent_str,\n",
      "/home/jaidevd/conda/lib/python3.7/site-packages/spacy/training/iob_utils.py:144: UserWarning: [W030] Some entities could not be aligned in the text \"U.S. warned of unsafe airspace over Crimea, but no...\" with entities \"[(0, 1, 'LOC'), (2, 3, 'LOC'), (36, 42, 'LOC')]\". Use `spacy.training.offsets_to_biluo_tags(nlp.make_doc(text), entities)` to check the alignment. Misaligned entities ('-') will be ignored during training.\n",
      "  entities=ent_str[:50] + \"...\" if len(ent_str) > 50 else ent_str,\n",
      "/home/jaidevd/conda/lib/python3.7/site-packages/spacy/training/iob_utils.py:144: UserWarning: [W030] Some entities could not be aligned in the text \"Before #MH17 crash in #Ukraine, separatist leader ...\" with entities \"[(8, 12, 'MISC'), (23, 30, 'LOC'), (112, 122, 'ORG...\". Use `spacy.training.offsets_to_biluo_tags(nlp.make_doc(text), entities)` to check the alignment. Misaligned entities ('-') will be ignored during training.\n",
      "  entities=ent_str[:50] + \"...\" if len(ent_str) > 50 else ent_str,\n",
      "/home/jaidevd/conda/lib/python3.7/site-packages/spacy/training/iob_utils.py:144: UserWarning: [W030] Some entities could not be aligned in the text \"Aftermath of the #MH17 crash in Ukraine (Dominique...\" with entities \"[(17, 22, 'MISC'), (32, 39, 'LOC'), (41, 56, 'PER'...\". Use `spacy.training.offsets_to_biluo_tags(nlp.make_doc(text), entities)` to check the alignment. Misaligned entities ('-') will be ignored during training.\n",
      "  entities=ent_str[:50] + \"...\" if len(ent_str) > 50 else ent_str,\n",
      "/home/jaidevd/conda/lib/python3.7/site-packages/spacy/training/iob_utils.py:144: UserWarning: [W030] Some entities could not be aligned in the text \"With 295 confirmed dead, #MH17 is the deadliest te...\" with entities \"[(95, 96, 'MISC'), (97, 99, 'MISC')]\". Use `spacy.training.offsets_to_biluo_tags(nlp.make_doc(text), entities)` to check the alignment. Misaligned entities ('-') will be ignored during training.\n",
      "  entities=ent_str[:50] + \"...\" if len(ent_str) > 50 else ent_str,\n",
      "/home/jaidevd/conda/lib/python3.7/site-packages/spacy/training/iob_utils.py:144: UserWarning: [W030] Some entities could not be aligned in the text \"Meanwhile #Moscow residents write 'Excuse us' at t...\" with entities \"[(11, 17, 'LOC'), (53, 58, 'MISC'), (71, 77, 'LOC'...\". Use `spacy.training.offsets_to_biluo_tags(nlp.make_doc(text), entities)` to check the alignment. Misaligned entities ('-') will be ignored during training.\n",
      "  entities=ent_str[:50] + \"...\" if len(ent_str) > 50 else ent_str,\n",
      "/home/jaidevd/conda/lib/python3.7/site-packages/spacy/training/iob_utils.py:144: UserWarning: [W030] Some entities could not be aligned in the text \"RT @MichelSidibe: My thoughts & prayers to familie...\" with entities \"[(4, 16, 'ORG'), (88, 92, 'MISC'), (127, 135, 'MIS...\". Use `spacy.training.offsets_to_biluo_tags(nlp.make_doc(text), entities)` to check the alignment. Misaligned entities ('-') will be ignored during training.\n",
      "  entities=ent_str[:50] + \"...\" if len(ent_str) > 50 else ent_str,\n",
      "/home/jaidevd/conda/lib/python3.7/site-packages/spacy/training/iob_utils.py:144: UserWarning: [W030] Some entities could not be aligned in the text \"#ASEAN expresses its sympathy to family of crew & ...\" with entities \"[(1, 6, 'ORG'), (65, 68, 'ORG'), (69, 75, 'MISC'),...\". Use `spacy.training.offsets_to_biluo_tags(nlp.make_doc(text), entities)` to check the alignment. Misaligned entities ('-') will be ignored during training.\n",
      "  entities=ent_str[:50] + \"...\" if len(ent_str) > 50 else ent_str,\n",
      "/home/jaidevd/conda/lib/python3.7/site-packages/spacy/training/iob_utils.py:144: UserWarning: [W030] Some entities could not be aligned in the text \".@SingaporeAir flight SQ351 was just 25km from las...\" with entities \"[(2, 14, 'ORG')]\". Use `spacy.training.offsets_to_biluo_tags(nlp.make_doc(text), entities)` to check the alignment. Misaligned entities ('-') will be ignored during training.\n",
      "  entities=ent_str[:50] + \"...\" if len(ent_str) > 50 else ent_str,\n",
      "/home/jaidevd/conda/lib/python3.7/site-packages/spacy/training/iob_utils.py:144: UserWarning: [W030] Some entities could not be aligned in the text \"Incredible satellite images of the #MH17 crash sit...\" with entities \"[(36, 40, 'MISC'), (65, 74, 'ORG'), (77, 95, 'ORG'...\". Use `spacy.training.offsets_to_biluo_tags(nlp.make_doc(text), entities)` to check the alignment. Misaligned entities ('-') will be ignored during training.\n",
      "  entities=ent_str[:50] + \"...\" if len(ent_str) > 50 else ent_str,\n",
      "/home/jaidevd/conda/lib/python3.7/site-packages/spacy/training/iob_utils.py:144: UserWarning: [W030] Some entities could not be aligned in the text \"\"We're very appreciative ofthe Malaysian governmen...\" with entities \"[(31, 40, 'MISC'), (99, 105, 'LOC')]\". Use `spacy.training.offsets_to_biluo_tags(nlp.make_doc(text), entities)` to check the alignment. Misaligned entities ('-') will be ignored during training.\n",
      "  entities=ent_str[:50] + \"...\" if len(ent_str) > 50 else ent_str,\n",
      "/home/jaidevd/conda/lib/python3.7/site-packages/spacy/training/iob_utils.py:144: UserWarning: [W030] Some entities could not be aligned in the text \"U.S. to reveal intelligence today that supports cl...\" with entities \"[(0, 1, 'LOC'), (2, 4, 'LOC'), (124, 134, 'ORG')]\". Use `spacy.training.offsets_to_biluo_tags(nlp.make_doc(text), entities)` to check the alignment. Misaligned entities ('-') will be ignored during training.\n",
      "  entities=ent_str[:50] + \"...\" if len(ent_str) > 50 else ent_str,\n",
      "/home/jaidevd/conda/lib/python3.7/site-packages/spacy/training/iob_utils.py:144: UserWarning: [W030] Some entities could not be aligned in the text \"U.S. Admits Its #MH17 ‘Evidence’ is Based on YouTu...\" with entities \"[(0, 1, 'LOC'), (2, 3, 'LOC')]\". Use `spacy.training.offsets_to_biluo_tags(nlp.make_doc(text), entities)` to check the alignment. Misaligned entities ('-') will be ignored during training.\n",
      "  entities=ent_str[:50] + \"...\" if len(ent_str) > 50 else ent_str,\n",
      "/home/jaidevd/conda/lib/python3.7/site-packages/spacy/training/iob_utils.py:144: UserWarning: [W030] Some entities could not be aligned in the text \"Heartwarming to see Leader of the Opposition @anwa...\" with entities \"[(46, 58, 'PER'), (105, 115, 'PER')]\". Use `spacy.training.offsets_to_biluo_tags(nlp.make_doc(text), entities)` to check the alignment. Misaligned entities ('-') will be ignored during training.\n",
      "  entities=ent_str[:50] + \"...\" if len(ent_str) > 50 else ent_str,\n",
      "/home/jaidevd/conda/lib/python3.7/site-packages/spacy/training/iob_utils.py:144: UserWarning: [W030] Some entities could not be aligned in the text \"I want to wish Selamat Hari Jadi to Prime Minister...\" with entities \"[(15, 22, 'MISC'), (23, 27, 'PER'), (28, 32, 'MISC...\". Use `spacy.training.offsets_to_biluo_tags(nlp.make_doc(text), entities)` to check the alignment. Misaligned entities ('-') will be ignored during training.\n",
      "  entities=ent_str[:50] + \"...\" if len(ent_str) > 50 else ent_str,\n",
      "/home/jaidevd/conda/lib/python3.7/site-packages/spacy/training/iob_utils.py:144: UserWarning: [W030] Some entities could not be aligned in the text \"Dutch air accident investigators find no evidence ...\" with entities \"[(0, 5, 'MISC'), (111, 121, 'ORG')]\". Use `spacy.training.offsets_to_biluo_tags(nlp.make_doc(text), entities)` to check the alignment. Misaligned entities ('-') will be ignored during training.\n",
      "  entities=ent_str[:50] + \"...\" if len(ent_str) > 50 else ent_str,\n"
     ]
    }
   ],
   "source": [
    "# Predictions to IOB tags\n",
    "\n",
    "def pred2biluo(text, entities):\n",
    "    ents = [(ent['start'], ent['end'], ent['entity_group']) for ent in entities]\n",
    "    tags = offsets_to_biluo_tags(nlp(text), ents)\n",
    "    return bilou2iob(tags)\n",
    "    \n",
    "pred_iob = [pred2biluo(doc.text, p) for doc, p in zip(docs, pred)]"
   ]
  },
  {
   "cell_type": "code",
   "execution_count": 50,
   "id": "895dea91-1b65-406c-99e2-08ebc6f72a67",
   "metadata": {},
   "outputs": [
    {
     "name": "stderr",
     "output_type": "stream",
     "text": [
      "/home/jaidevd/conda/lib/python3.7/site-packages/seqeval/metrics/sequence_labeling.py:171: UserWarning: - seems not to be NE tag.\n",
      "  warnings.warn('{} seems not to be NE tag.'.format(chunk))\n",
      "/home/jaidevd/conda/lib/python3.7/site-packages/seqeval/metrics/v1.py:57: UndefinedMetricWarning: Recall and F-score are ill-defined and being set to 0.0 in labels with no true samples. Use `zero_division` parameter to control this behavior.\n",
      "  _warn_prf(average, modifier, msg_start, len(result))\n"
     ]
    },
    {
     "data": {
      "text/html": [
       "<div>\n",
       "<style scoped>\n",
       "    .dataframe tbody tr th:only-of-type {\n",
       "        vertical-align: middle;\n",
       "    }\n",
       "\n",
       "    .dataframe tbody tr th {\n",
       "        vertical-align: top;\n",
       "    }\n",
       "\n",
       "    .dataframe thead th {\n",
       "        text-align: right;\n",
       "    }\n",
       "</style>\n",
       "<table border=\"1\" class=\"dataframe\">\n",
       "  <thead>\n",
       "    <tr style=\"text-align: right;\">\n",
       "      <th></th>\n",
       "      <th>LOC</th>\n",
       "      <th>MISC</th>\n",
       "      <th>ORG</th>\n",
       "      <th>PER</th>\n",
       "    </tr>\n",
       "  </thead>\n",
       "  <tbody>\n",
       "    <tr>\n",
       "      <th>precision</th>\n",
       "      <td>0.546099</td>\n",
       "      <td>0.0</td>\n",
       "      <td>0.544444</td>\n",
       "      <td>0.609756</td>\n",
       "    </tr>\n",
       "    <tr>\n",
       "      <th>recall</th>\n",
       "      <td>0.531034</td>\n",
       "      <td>0.0</td>\n",
       "      <td>0.471154</td>\n",
       "      <td>0.555556</td>\n",
       "    </tr>\n",
       "    <tr>\n",
       "      <th>f1</th>\n",
       "      <td>0.538462</td>\n",
       "      <td>0.0</td>\n",
       "      <td>0.505155</td>\n",
       "      <td>0.581395</td>\n",
       "    </tr>\n",
       "    <tr>\n",
       "      <th>number</th>\n",
       "      <td>145.000000</td>\n",
       "      <td>0.0</td>\n",
       "      <td>104.000000</td>\n",
       "      <td>45.000000</td>\n",
       "    </tr>\n",
       "  </tbody>\n",
       "</table>\n",
       "</div>"
      ],
      "text/plain": [
       "                  LOC  MISC         ORG        PER\n",
       "precision    0.546099   0.0    0.544444   0.609756\n",
       "recall       0.531034   0.0    0.471154   0.555556\n",
       "f1           0.538462   0.0    0.505155   0.581395\n",
       "number     145.000000   0.0  104.000000  45.000000"
      ]
     },
     "execution_count": 50,
     "metadata": {},
     "output_type": "execute_result"
    }
   ],
   "source": [
    "# Compute the metrics\n",
    "import pandas as pd\n",
    "\n",
    "metrics = metric.compute(references=tags, predictions=pred_iob)\n",
    "mdf = pd.DataFrame({k: v for k, v in metrics.items() if k in ['LOC', 'MISC', 'ORG', 'PER']})\n",
    "mdf"
   ]
  },
  {
   "cell_type": "code",
   "execution_count": 55,
   "id": "fd953ea3-0953-4c93-bacf-960ed9007964",
   "metadata": {},
   "outputs": [],
   "source": [
    "# Train!!!"
   ]
  },
  {
   "cell_type": "code",
   "execution_count": 59,
   "id": "7dba4d1d-3f52-4ffb-a099-7d0cd0e34316",
   "metadata": {},
   "outputs": [],
   "source": [
    "# Original data to dataset\n",
    "# Each sample needs: {'text': '...', 'ner_tags': [0, ,1, 2, 3.. each mapping to an IOB tag]}"
   ]
  },
  {
   "cell_type": "code",
   "execution_count": 60,
   "id": "4758807a-0e7d-4ad3-8061-3f645bb4c2db",
   "metadata": {},
   "outputs": [
    {
     "data": {
      "text/plain": [
       "[{'text': '#BREAKINGNEWS MALAYSIA AIRLINES FLIGHT #MH17 CONFIRMED SHOT DOWN OVER #DONETSK OBLAST, SHORTLY BEFORE REACHING RUSSIAN AIR SPACE',\n",
       "  'labels': [{'start': 14, 'end': 31, 'label': 'ORG'},\n",
       "   {'start': 70, 'end': 85, 'label': 'LOC'},\n",
       "   {'start': 111, 'end': 118, 'label': 'LOC'}]},\n",
       " {'text': \"Here's a route map of @MAS #MH17, which @flightaware lost track of right at the Ukraine/Poland border http://t.co/IGvQJnkU7B\",\n",
       "  'labels': [{'start': 22, 'end': 26, 'label': 'ORG'},\n",
       "   {'start': 40, 'end': 52, 'label': 'ORG'},\n",
       "   {'start': 80, 'end': 87, 'label': 'LOC'},\n",
       "   {'start': 88, 'end': 101, 'label': 'LOC'}]}]"
      ]
     },
     "execution_count": 60,
     "metadata": {},
     "output_type": "execute_result"
    }
   ],
   "source": [
    "data[:2]"
   ]
  },
  {
   "cell_type": "code",
   "execution_count": 70,
   "id": "e66016ce-8fab-449a-bb3b-a1bce5c0c08f",
   "metadata": {},
   "outputs": [],
   "source": [
    "def iob2nertags(iob):\n",
    "    return [clf.model.config.label2id.get(k, 0) for k in iob]\n",
    "\n",
    "def span2nertags(text, labels):\n",
    "    doc = nlp(text)\n",
    "    spans = [doc.char_span(ent['start'], ent['end'], label=ent['label']) for ent in labels]\n",
    "    doc.set_ents(spans)\n",
    "    tags = offsets_to_biluo_tags(doc, [(e.start_char, e.end_char, e.label_) for e in doc.ents])\n",
    "    tags = bilou2iob(tags)\n",
    "    return iob2nertags(tags)\n",
    "    "
   ]
  },
  {
   "cell_type": "code",
   "execution_count": 101,
   "id": "9abd06e5-1ad6-4b7e-8988-fca22d6a156c",
   "metadata": {},
   "outputs": [],
   "source": [
    "train_data = {'text': [[c.text for c in nlp(d['text'])] for d in data], 'ner_tags': [span2nertags(**d) for d in data]}"
   ]
  },
  {
   "cell_type": "code",
   "execution_count": 102,
   "id": "851e0951-f2ca-4f23-a98d-2ae0a43e9b10",
   "metadata": {},
   "outputs": [
    {
     "data": {
      "text/plain": [
       "[['#',\n",
       "  'BREAKINGNEWS',\n",
       "  'MALAYSIA',\n",
       "  'AIRLINES',\n",
       "  'FLIGHT',\n",
       "  '#',\n",
       "  'MH17',\n",
       "  'CONFIRMED',\n",
       "  'SHOT',\n",
       "  'DOWN',\n",
       "  'OVER',\n",
       "  '#',\n",
       "  'DONETSK',\n",
       "  'OBLAST',\n",
       "  ',',\n",
       "  'SHORTLY',\n",
       "  'BEFORE',\n",
       "  'REACHING',\n",
       "  'RUSSIAN',\n",
       "  'AIR',\n",
       "  'SPACE'],\n",
       " ['Here',\n",
       "  \"'s\",\n",
       "  'a',\n",
       "  'route',\n",
       "  'map',\n",
       "  'of',\n",
       "  '@MAS',\n",
       "  '#',\n",
       "  'MH17',\n",
       "  ',',\n",
       "  'which',\n",
       "  '@flightaware',\n",
       "  'lost',\n",
       "  'track',\n",
       "  'of',\n",
       "  'right',\n",
       "  'at',\n",
       "  'the',\n",
       "  'Ukraine',\n",
       "  '/',\n",
       "  'Poland',\n",
       "  'border',\n",
       "  'http://t.co/IGvQJnkU7B']]"
      ]
     },
     "execution_count": 102,
     "metadata": {},
     "output_type": "execute_result"
    }
   ],
   "source": [
    "train_data['text'][:2]"
   ]
  },
  {
   "cell_type": "code",
   "execution_count": 103,
   "id": "5f7f0efd-8f8f-4b98-8ef8-b69a0ddf80c2",
   "metadata": {},
   "outputs": [
    {
     "data": {
      "text/plain": [
       "[[0, 0, 5, 6, 0, 0, 0, 0, 0, 0, 0, 7, 8, 8, 0, 0, 0, 0, 7, 0, 0],\n",
       " [0, 0, 0, 0, 0, 0, 5, 0, 0, 0, 0, 5, 0, 0, 0, 0, 0, 0, 7, 0, 7, 8, 0]]"
      ]
     },
     "execution_count": 103,
     "metadata": {},
     "output_type": "execute_result"
    }
   ],
   "source": [
    "train_data['ner_tags'][:2]"
   ]
  },
  {
   "cell_type": "code",
   "execution_count": 73,
   "id": "3429816d-ef1e-47f4-9169-5490a35d64e4",
   "metadata": {},
   "outputs": [],
   "source": [
    "from datasets import Dataset"
   ]
  },
  {
   "cell_type": "code",
   "execution_count": 104,
   "id": "ba692c2a-5dd1-4f91-a06e-ad06a4714798",
   "metadata": {},
   "outputs": [],
   "source": [
    "ds = Dataset.from_dict(train_data)"
   ]
  },
  {
   "cell_type": "code",
   "execution_count": 122,
   "id": "045daf83-bad4-47a5-94e0-ab1b5fc0f0ee",
   "metadata": {},
   "outputs": [
    {
     "data": {
      "application/vnd.jupyter.widget-view+json": {
       "model_id": "9c0d1abb561e45aeb87d0721718c067b",
       "version_major": 2,
       "version_minor": 0
      },
      "text/plain": [
       "  0%|          | 0/1 [00:00<?, ?ba/s]"
      ]
     },
     "metadata": {},
     "output_type": "display_data"
    }
   ],
   "source": [
    "def tokenize_and_align_labels(examples, tokenizer):\n",
    "    tokenized_inputs = tokenizer(examples[\"text\"], truncation=True, is_split_into_words=True)\n",
    "\n",
    "    labels = []\n",
    "    for i, label in enumerate(examples[f\"ner_tags\"]):\n",
    "        word_ids = tokenized_inputs.word_ids(batch_index=i)  # Map tokens to their respective word.\n",
    "        previous_word_idx = None\n",
    "        label_ids = []\n",
    "        for word_idx in word_ids:  # Set the special tokens to -100.\n",
    "            if word_idx is None:\n",
    "                label_ids.append(-100)\n",
    "            elif word_idx != previous_word_idx:  # Only label the first token of a given word.\n",
    "                label_ids.append(label[word_idx])\n",
    "            else:\n",
    "                label_ids.append(-100)\n",
    "            previous_word_idx = word_idx\n",
    "        labels.append(label_ids)\n",
    "\n",
    "    tokenized_inputs[\"labels\"] = labels\n",
    "    return tokenized_inputs\n",
    "\n",
    "tokenized = ds.map(lambda x: tokenize_and_align_labels(x, clf.tokenizer), batched=True)"
   ]
  },
  {
   "cell_type": "code",
   "execution_count": 107,
   "id": "84710247-9c75-48be-87c2-3a69755ac750",
   "metadata": {},
   "outputs": [],
   "source": [
    "from transformers import TrainingArguments, Trainer"
   ]
  },
  {
   "cell_type": "code",
   "execution_count": 125,
   "id": "3583279f-7181-4951-9537-ac47d7e8bdd7",
   "metadata": {},
   "outputs": [
    {
     "name": "stderr",
     "output_type": "stream",
     "text": [
      "PyTorch: setting up devices\n",
      "The default value for the training argument `--report_to` will change in v5 (from all installed integrations to none). In v5, you will need to use `--report_to all` to get the same behavior as now. You should start updating your code and make this info disappear :-).\n",
      "The following columns in the training set  don't have a corresponding argument in `BertForTokenClassification.forward` and have been ignored: ner_tags, text.\n",
      "***** Running training *****\n",
      "  Num examples = 200\n",
      "  Num Epochs = 3\n",
      "  Instantaneous batch size per device = 8\n",
      "  Total train batch size (w. parallel, distributed & accumulation) = 8\n",
      "  Gradient Accumulation steps = 1\n",
      "  Total optimization steps = 75\n"
     ]
    },
    {
     "data": {
      "text/html": [
       "\n",
       "    <div>\n",
       "      \n",
       "      <progress value='75' max='75' style='width:300px; height:20px; vertical-align: middle;'></progress>\n",
       "      [75/75 00:21, Epoch 3/3]\n",
       "    </div>\n",
       "    <table border=\"1\" class=\"dataframe\">\n",
       "  <thead>\n",
       "    <tr style=\"text-align: left;\">\n",
       "      <th>Epoch</th>\n",
       "      <th>Training Loss</th>\n",
       "      <th>Validation Loss</th>\n",
       "    </tr>\n",
       "  </thead>\n",
       "  <tbody>\n",
       "    <tr>\n",
       "      <td>1</td>\n",
       "      <td>No log</td>\n",
       "      <td>0.062503</td>\n",
       "    </tr>\n",
       "    <tr>\n",
       "      <td>2</td>\n",
       "      <td>No log</td>\n",
       "      <td>0.029004</td>\n",
       "    </tr>\n",
       "    <tr>\n",
       "      <td>3</td>\n",
       "      <td>No log</td>\n",
       "      <td>0.017964</td>\n",
       "    </tr>\n",
       "  </tbody>\n",
       "</table><p>"
      ],
      "text/plain": [
       "<IPython.core.display.HTML object>"
      ]
     },
     "metadata": {},
     "output_type": "display_data"
    },
    {
     "name": "stderr",
     "output_type": "stream",
     "text": [
      "The following columns in the evaluation set  don't have a corresponding argument in `BertForTokenClassification.forward` and have been ignored: ner_tags, text.\n",
      "***** Running Evaluation *****\n",
      "  Num examples = 200\n",
      "  Batch size = 8\n",
      "The following columns in the evaluation set  don't have a corresponding argument in `BertForTokenClassification.forward` and have been ignored: ner_tags, text.\n",
      "***** Running Evaluation *****\n",
      "  Num examples = 200\n",
      "  Batch size = 8\n",
      "The following columns in the evaluation set  don't have a corresponding argument in `BertForTokenClassification.forward` and have been ignored: ner_tags, text.\n",
      "***** Running Evaluation *****\n",
      "  Num examples = 200\n",
      "  Batch size = 8\n",
      "\n",
      "\n",
      "Training completed. Do not forget to share your model on huggingface.co/models =)\n",
      "\n",
      "\n"
     ]
    },
    {
     "data": {
      "text/plain": [
       "TrainOutput(global_step=75, training_loss=0.07440160751342774, metrics={'train_runtime': 21.594, 'train_samples_per_second': 27.785, 'train_steps_per_second': 3.473, 'total_flos': 71445315223872.0, 'train_loss': 0.07440160751342774, 'epoch': 3.0})"
      ]
     },
     "execution_count": 125,
     "metadata": {},
     "output_type": "execute_result"
    }
   ],
   "source": [
    "from transformers import DataCollatorForTokenClassification\n",
    "collator = DataCollatorForTokenClassification(tokenizer=clf.tokenizer)\n",
    "\n",
    "args = TrainingArguments(output_dir=\"./session\", evaluation_strategy=\"epoch\")\n",
    "trainer = Trainer(model=clf.model, args=args, train_dataset=tokenized, eval_dataset=tokenized, tokenizer=clf.tokenizer, data_collator=collator)\n",
    "\n",
    "trainer.train()"
   ]
  },
  {
   "cell_type": "code",
   "execution_count": 126,
   "id": "71227ec8-5235-4215-a7bd-06155e16dc0e",
   "metadata": {},
   "outputs": [],
   "source": [
    "# Check the metrics again"
   ]
  },
  {
   "cell_type": "code",
   "execution_count": 130,
   "id": "28ccea30-72bd-4271-8bb7-61eb7bb4c5b1",
   "metadata": {},
   "outputs": [
    {
     "name": "stderr",
     "output_type": "stream",
     "text": [
      "/home/jaidevd/conda/lib/python3.7/site-packages/spacy/training/iob_utils.py:144: UserWarning: [W030] Some entities could not be aligned in the text \"CONFIRMED: Malaysia Airlines has lost contact of #...\" with entities \"[(11, 28, 'ORG'), (60, 70, 'LOC'), (94, 95, 'ORG')...\". Use `spacy.training.offsets_to_biluo_tags(nlp.make_doc(text), entities)` to check the alignment. Misaligned entities ('-') will be ignored during training.\n",
      "  entities=ent_str[:50] + \"...\" if len(ent_str) > 50 else ent_str,\n",
      "/home/jaidevd/conda/lib/python3.7/site-packages/spacy/training/iob_utils.py:144: UserWarning: [W030] Some entities could not be aligned in the text \"\"@W7VOA: MT @myroslavapetsa #Ukraine Air Traffic a...\" with entities \"[(12, 13, 'PER'), (13, 27, 'PER'), (28, 55, 'ORG')...\". Use `spacy.training.offsets_to_biluo_tags(nlp.make_doc(text), entities)` to check the alignment. Misaligned entities ('-') will be ignored during training.\n",
      "  entities=ent_str[:50] + \"...\" if len(ent_str) > 50 else ent_str,\n",
      "/home/jaidevd/conda/lib/python3.7/site-packages/spacy/training/iob_utils.py:144: UserWarning: [W030] Some entities could not be aligned in the text \".@MAS says it \"lost contact\" with #MH17. @Bloomber...\" with entities \"[(0, 1, 'ORG'), (1, 5, 'ORG'), (41, 42, 'ORG'), (4...\". Use `spacy.training.offsets_to_biluo_tags(nlp.make_doc(text), entities)` to check the alignment. Misaligned entities ('-') will be ignored during training.\n",
      "  entities=ent_str[:50] + \"...\" if len(ent_str) > 50 else ent_str,\n",
      "/home/jaidevd/conda/lib/python3.7/site-packages/spacy/training/iob_utils.py:144: UserWarning: [W030] Some entities could not be aligned in the text \"Watch astro awani.it's comfirmed.Just not yet conf...\" with entities \"[(6, 17, 'ORG'), (116, 122, 'LOC'), (125, 132, 'LO...\". Use `spacy.training.offsets_to_biluo_tags(nlp.make_doc(text), entities)` to check the alignment. Misaligned entities ('-') will be ignored during training.\n",
      "  entities=ent_str[:50] + \"...\" if len(ent_str) > 50 else ent_str,\n",
      "/home/jaidevd/conda/lib/python3.7/site-packages/spacy/training/iob_utils.py:144: UserWarning: [W030] Some entities could not be aligned in the text \"#Russia'n cmdr Strelkov commented on downed #MH17 ...\" with entities \"[(0, 7, 'LOC'), (15, 23, 'PER')]\". Use `spacy.training.offsets_to_biluo_tags(nlp.make_doc(text), entities)` to check the alignment. Misaligned entities ('-') will be ignored during training.\n",
      "  entities=ent_str[:50] + \"...\" if len(ent_str) > 50 else ent_str,\n",
      "/home/jaidevd/conda/lib/python3.7/site-packages/spacy/training/iob_utils.py:144: UserWarning: [W030] Some entities could not be aligned in the text \"Full @poroshenko's stmt on #MH17 crash in Eastern ...\" with entities \"[(5, 6, 'PER'), (6, 16, 'PER'), (42, 57, 'LOC')]\". Use `spacy.training.offsets_to_biluo_tags(nlp.make_doc(text), entities)` to check the alignment. Misaligned entities ('-') will be ignored during training.\n",
      "  entities=ent_str[:50] + \"...\" if len(ent_str) > 50 else ent_str,\n",
      "/home/jaidevd/conda/lib/python3.7/site-packages/spacy/training/iob_utils.py:144: UserWarning: [W030] Some entities could not be aligned in the text \"Malaysian Airlines flight #MH17 reported to have b...\" with entities \"[(0, 18, 'ORG'), (105, 115, 'ORG')]\". Use `spacy.training.offsets_to_biluo_tags(nlp.make_doc(text), entities)` to check the alignment. Misaligned entities ('-') will be ignored during training.\n",
      "  entities=ent_str[:50] + \"...\" if len(ent_str) > 50 else ent_str,\n",
      "/home/jaidevd/conda/lib/python3.7/site-packages/spacy/training/iob_utils.py:144: UserWarning: [W030] Some entities could not be aligned in the text \"i have no words. \"@BhasChat: How is it Malaysian A...\" with entities \"[(18, 19, 'ORG'), (39, 57, 'ORG')]\". Use `spacy.training.offsets_to_biluo_tags(nlp.make_doc(text), entities)` to check the alignment. Misaligned entities ('-') will be ignored during training.\n",
      "  entities=ent_str[:50] + \"...\" if len(ent_str) > 50 else ent_str,\n",
      "/home/jaidevd/conda/lib/python3.7/site-packages/spacy/training/iob_utils.py:144: UserWarning: [W030] Some entities could not be aligned in the text \"And here it is, spotted today in #Snezhnoye. #Russ...\" with entities \"[(33, 43, 'LOC'), (45, 52, 'LOC'), (92, 93, 'PER')...\". Use `spacy.training.offsets_to_biluo_tags(nlp.make_doc(text), entities)` to check the alignment. Misaligned entities ('-') will be ignored during training.\n",
      "  entities=ent_str[:50] + \"...\" if len(ent_str) > 50 else ent_str,\n",
      "/home/jaidevd/conda/lib/python3.7/site-packages/spacy/training/iob_utils.py:144: UserWarning: [W030] Some entities could not be aligned in the text \"U.S. warned of unsafe airspace over Crimea, but no...\" with entities \"[(0, 1, 'LOC'), (2, 3, 'LOC'), (36, 42, 'LOC')]\". Use `spacy.training.offsets_to_biluo_tags(nlp.make_doc(text), entities)` to check the alignment. Misaligned entities ('-') will be ignored during training.\n",
      "  entities=ent_str[:50] + \"...\" if len(ent_str) > 50 else ent_str,\n",
      "/home/jaidevd/conda/lib/python3.7/site-packages/spacy/training/iob_utils.py:144: UserWarning: [W030] Some entities could not be aligned in the text \"Aftermath of the #MH17 crash in Ukraine (Dominique...\" with entities \"[(32, 39, 'LOC'), (41, 56, 'PER'), (56, 57, 'ORG')...\". Use `spacy.training.offsets_to_biluo_tags(nlp.make_doc(text), entities)` to check the alignment. Misaligned entities ('-') will be ignored during training.\n",
      "  entities=ent_str[:50] + \"...\" if len(ent_str) > 50 else ent_str,\n",
      "/home/jaidevd/conda/lib/python3.7/site-packages/spacy/training/iob_utils.py:144: UserWarning: [W030] Some entities could not be aligned in the text \"BREAKING: @MAS revises up #MH17 count to 298: 283 ...\" with entities \"[(10, 11, 'ORG'), (11, 14, 'ORG')]\". Use `spacy.training.offsets_to_biluo_tags(nlp.make_doc(text), entities)` to check the alignment. Misaligned entities ('-') will be ignored during training.\n",
      "  entities=ent_str[:50] + \"...\" if len(ent_str) > 50 else ent_str,\n",
      "/home/jaidevd/conda/lib/python3.7/site-packages/spacy/training/iob_utils.py:144: UserWarning: [W030] Some entities could not be aligned in the text \"RT @MichelSidibe: My thoughts & prayers to familie...\" with entities \"[(3, 4, 'PER'), (4, 16, 'PER')]\". Use `spacy.training.offsets_to_biluo_tags(nlp.make_doc(text), entities)` to check the alignment. Misaligned entities ('-') will be ignored during training.\n",
      "  entities=ent_str[:50] + \"...\" if len(ent_str) > 50 else ent_str,\n",
      "/home/jaidevd/conda/lib/python3.7/site-packages/spacy/training/iob_utils.py:144: UserWarning: [W030] Some entities could not be aligned in the text \".@SingaporeAir flight SQ351 was just 25km from las...\" with entities \"[(0, 1, 'ORG'), (1, 14, 'ORG')]\". Use `spacy.training.offsets_to_biluo_tags(nlp.make_doc(text), entities)` to check the alignment. Misaligned entities ('-') will be ignored during training.\n",
      "  entities=ent_str[:50] + \"...\" if len(ent_str) > 50 else ent_str,\n",
      "/home/jaidevd/conda/lib/python3.7/site-packages/spacy/training/iob_utils.py:144: UserWarning: [W030] Some entities could not be aligned in the text \"Incredible satellite images of the #MH17 crash sit...\" with entities \"[(65, 74, 'ORG'), (77, 95, 'ORG'), (101, 102, 'PER...\". Use `spacy.training.offsets_to_biluo_tags(nlp.make_doc(text), entities)` to check the alignment. Misaligned entities ('-') will be ignored during training.\n",
      "  entities=ent_str[:50] + \"...\" if len(ent_str) > 50 else ent_str,\n",
      "/home/jaidevd/conda/lib/python3.7/site-packages/spacy/training/iob_utils.py:144: UserWarning: [W030] Some entities could not be aligned in the text \"\"We're very appreciative ofthe Malaysian governmen...\" with entities \"[(31, 51, 'ORG'), (98, 99, 'LOC'), (99, 105, 'LOC'...\". Use `spacy.training.offsets_to_biluo_tags(nlp.make_doc(text), entities)` to check the alignment. Misaligned entities ('-') will be ignored during training.\n",
      "  entities=ent_str[:50] + \"...\" if len(ent_str) > 50 else ent_str,\n",
      "/home/jaidevd/conda/lib/python3.7/site-packages/spacy/training/iob_utils.py:144: UserWarning: [W030] Some entities could not be aligned in the text \"U.S. to reveal intelligence today that supports cl...\" with entities \"[(0, 1, 'LOC'), (2, 3, 'LOC'), (124, 134, 'ORG')]\". Use `spacy.training.offsets_to_biluo_tags(nlp.make_doc(text), entities)` to check the alignment. Misaligned entities ('-') will be ignored during training.\n",
      "  entities=ent_str[:50] + \"...\" if len(ent_str) > 50 else ent_str,\n",
      "/home/jaidevd/conda/lib/python3.7/site-packages/spacy/training/iob_utils.py:144: UserWarning: [W030] Some entities could not be aligned in the text \"U.S. Admits Its #MH17 ‘Evidence’ is Based on YouTu...\" with entities \"[(0, 1, 'LOC'), (2, 3, 'LOC'), (45, 52, 'ORG')]\". Use `spacy.training.offsets_to_biluo_tags(nlp.make_doc(text), entities)` to check the alignment. Misaligned entities ('-') will be ignored during training.\n",
      "  entities=ent_str[:50] + \"...\" if len(ent_str) > 50 else ent_str,\n",
      "/home/jaidevd/conda/lib/python3.7/site-packages/spacy/training/iob_utils.py:144: UserWarning: [W030] Some entities could not be aligned in the text \"Heartwarming to see Leader of the Opposition @anwa...\" with entities \"[(45, 58, 'PER'), (104, 105, 'PER'), (105, 115, 'P...\". Use `spacy.training.offsets_to_biluo_tags(nlp.make_doc(text), entities)` to check the alignment. Misaligned entities ('-') will be ignored during training.\n",
      "  entities=ent_str[:50] + \"...\" if len(ent_str) > 50 else ent_str,\n",
      "/home/jaidevd/conda/lib/python3.7/site-packages/spacy/training/iob_utils.py:144: UserWarning: [W030] Some entities could not be aligned in the text \"I want to wish Selamat Hari Jadi to Prime Minister...\" with entities \"[(51, 52, 'PER'), (52, 62, 'PER')]\". Use `spacy.training.offsets_to_biluo_tags(nlp.make_doc(text), entities)` to check the alignment. Misaligned entities ('-') will be ignored during training.\n",
      "  entities=ent_str[:50] + \"...\" if len(ent_str) > 50 else ent_str,\n",
      "/home/jaidevd/conda/lib/python3.7/site-packages/seqeval/metrics/sequence_labeling.py:171: UserWarning: - seems not to be NE tag.\n",
      "  warnings.warn('{} seems not to be NE tag.'.format(chunk))\n",
      "/home/jaidevd/conda/lib/python3.7/site-packages/seqeval/metrics/v1.py:57: UndefinedMetricWarning: Recall and F-score are ill-defined and being set to 0.0 in labels with no true samples. Use `zero_division` parameter to control this behavior.\n",
      "  _warn_prf(average, modifier, msg_start, len(result))\n"
     ]
    },
    {
     "data": {
      "text/html": [
       "<div>\n",
       "<style scoped>\n",
       "    .dataframe tbody tr th:only-of-type {\n",
       "        vertical-align: middle;\n",
       "    }\n",
       "\n",
       "    .dataframe tbody tr th {\n",
       "        vertical-align: top;\n",
       "    }\n",
       "\n",
       "    .dataframe thead th {\n",
       "        text-align: right;\n",
       "    }\n",
       "</style>\n",
       "<table border=\"1\" class=\"dataframe\">\n",
       "  <thead>\n",
       "    <tr style=\"text-align: right;\">\n",
       "      <th></th>\n",
       "      <th>LOC</th>\n",
       "      <th>ORG</th>\n",
       "      <th>PER</th>\n",
       "    </tr>\n",
       "  </thead>\n",
       "  <tbody>\n",
       "    <tr>\n",
       "      <th>precision</th>\n",
       "      <td>0.964539</td>\n",
       "      <td>0.957895</td>\n",
       "      <td>0.948718</td>\n",
       "    </tr>\n",
       "    <tr>\n",
       "      <th>recall</th>\n",
       "      <td>0.937931</td>\n",
       "      <td>0.875000</td>\n",
       "      <td>0.822222</td>\n",
       "    </tr>\n",
       "    <tr>\n",
       "      <th>f1</th>\n",
       "      <td>0.951049</td>\n",
       "      <td>0.914573</td>\n",
       "      <td>0.880952</td>\n",
       "    </tr>\n",
       "    <tr>\n",
       "      <th>number</th>\n",
       "      <td>145.000000</td>\n",
       "      <td>104.000000</td>\n",
       "      <td>45.000000</td>\n",
       "    </tr>\n",
       "  </tbody>\n",
       "</table>\n",
       "</div>"
      ],
      "text/plain": [
       "                  LOC         ORG        PER\n",
       "precision    0.964539    0.957895   0.948718\n",
       "recall       0.937931    0.875000   0.822222\n",
       "f1           0.951049    0.914573   0.880952\n",
       "number     145.000000  104.000000  45.000000"
      ]
     },
     "execution_count": 130,
     "metadata": {},
     "output_type": "execute_result"
    }
   ],
   "source": [
    "clf.model.to('cpu')\n",
    "\n",
    "pred = clf([doc.text for doc in docs])\n",
    "pred_iob = [pred2biluo(doc.text, p) for doc, p in zip(docs, pred)]\n",
    "\n",
    "metrics = metric.compute(references=tags, predictions=pred_iob)\n",
    "mdf = pd.DataFrame({k: v for k, v in metrics.items() if k in ['LOC', 'MISC', 'ORG', 'PER']})\n",
    "mdf"
   ]
  },
  {
   "cell_type": "code",
   "execution_count": 129,
   "id": "e14ff343-c0a0-45ea-9649-97f509bd3a56",
   "metadata": {},
   "outputs": [
    {
     "data": {
      "text/plain": [
       "device(type='cuda', index=0)"
      ]
     },
     "execution_count": 129,
     "metadata": {},
     "output_type": "execute_result"
    }
   ],
   "source": [
    "clf.model.device"
   ]
  },
  {
   "cell_type": "code",
   "execution_count": null,
   "id": "dbc12802-f1b6-46a4-91c3-3eb2beaade09",
   "metadata": {},
   "outputs": [],
   "source": []
  }
 ],
 "metadata": {
  "kernelspec": {
   "display_name": "Python 3 (ipykernel)",
   "language": "python",
   "name": "python3"
  },
  "language_info": {
   "codemirror_mode": {
    "name": "ipython",
    "version": 3
   },
   "file_extension": ".py",
   "mimetype": "text/x-python",
   "name": "python",
   "nbconvert_exporter": "python",
   "pygments_lexer": "ipython3",
   "version": "3.7.11"
  }
 },
 "nbformat": 4,
 "nbformat_minor": 5
}
