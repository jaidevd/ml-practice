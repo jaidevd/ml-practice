{
 "cells": [
  {
   "cell_type": "code",
   "execution_count": 1,
   "id": "4c528aa1-03fb-4682-a73b-f1b883742c4a",
   "metadata": {},
   "outputs": [],
   "source": [
    "from sklearn.datasets import fetch_california_housing\n",
    "from sklearn.linear_model import LinearRegression, SGDRegressor\n",
    "from sklearn.model_selection import train_test_split\n",
    "from sklearn.preprocessing import StandardScaler\n",
    "from sklearn import metrics\n",
    "import pandas as pd"
   ]
  },
  {
   "cell_type": "code",
   "execution_count": 2,
   "id": "3dd308d3-96f7-4097-8642-28c409296747",
   "metadata": {},
   "outputs": [],
   "source": [
    "cal = fetch_california_housing()\n",
    "df = pd.DataFrame(cal, columns=cal.feature_names)"
   ]
  },
  {
   "cell_type": "code",
   "execution_count": 3,
   "id": "7d325af1-bcaa-4671-9702-cfdf547b27f9",
   "metadata": {},
   "outputs": [],
   "source": [
    "xtr, xts, ytr, yts = train_test_split(cal.data, cal.target, random_state=0, shuffle=False, test_size=0.2)"
   ]
  },
  {
   "cell_type": "code",
   "execution_count": 4,
   "id": "78595e20-e392-4b9d-8edf-979a971e3bd3",
   "metadata": {},
   "outputs": [],
   "source": [
    "scaler = StandardScaler()\n",
    "xscl = scaler.fit_transform(xtr)\n",
    "\n",
    "lr = LinearRegression().fit(xscl, ytr)\n",
    "\n",
    "y_pred = lr.predict(scaler.transform(xts))"
   ]
  },
  {
   "cell_type": "code",
   "execution_count": 7,
   "id": "1b2854d6-ded7-461a-94b0-d6ef89c66c04",
   "metadata": {},
   "outputs": [
    {
     "data": {
      "text/plain": [
       "0.6605140591531992"
      ]
     },
     "execution_count": 7,
     "metadata": {},
     "output_type": "execute_result"
    }
   ],
   "source": [
    "metrics.r2_score(yts, y_pred)"
   ]
  },
  {
   "cell_type": "code",
   "execution_count": 11,
   "id": "335621fc-ea40-41c4-a044-02b6bbc5a3f0",
   "metadata": {},
   "outputs": [
    {
     "name": "stderr",
     "output_type": "stream",
     "text": [
      "/home/jaidevd/conda/lib/python3.7/site-packages/ipykernel_launcher.py:1: FutureWarning: The pandas.np module is deprecated and will be removed from pandas in a future version. Import numpy directly instead\n",
      "  \"\"\"Entry point for launching an IPython kernel.\n"
     ]
    },
    {
     "data": {
      "text/plain": [
       "0.7033383507521879"
      ]
     },
     "execution_count": 11,
     "metadata": {},
     "output_type": "execute_result"
    }
   ],
   "source": [
    "pd.np.sqrt(metrics.mean_squared_error(yts, y_pred))"
   ]
  },
  {
   "cell_type": "code",
   "execution_count": 13,
   "id": "87affa82-cc7f-42e8-9ade-441e4c780122",
   "metadata": {},
   "outputs": [
    {
     "data": {
      "text/plain": [
       "0.6605500501742703"
      ]
     },
     "execution_count": 13,
     "metadata": {},
     "output_type": "execute_result"
    }
   ],
   "source": [
    "metrics.explained_variance_score(yts, y_pred)"
   ]
  },
  {
   "cell_type": "code",
   "execution_count": 15,
   "id": "4356deac-a0dc-48e7-937a-a02a036ff37b",
   "metadata": {},
   "outputs": [
    {
     "data": {
      "text/plain": [
       "7.260453292958394"
      ]
     },
     "execution_count": 15,
     "metadata": {},
     "output_type": "execute_result"
    }
   ],
   "source": [
    "metrics.max_error(yts, y_pred)"
   ]
  },
  {
   "cell_type": "code",
   "execution_count": 16,
   "id": "b0c2e409-f4ac-4b87-ae4b-ed47f4a899d9",
   "metadata": {},
   "outputs": [
    {
     "data": {
      "text/plain": [
       "0.5168526993787044"
      ]
     },
     "execution_count": 16,
     "metadata": {},
     "output_type": "execute_result"
    }
   ],
   "source": [
    "metrics.mean_absolute_error(yts, y_pred)"
   ]
  },
  {
   "cell_type": "code",
   "execution_count": 17,
   "id": "83d429fd-d409-4881-a7f7-75d1c30d9e4a",
   "metadata": {},
   "outputs": [
    {
     "data": {
      "text/plain": [
       "0.4946848356388076"
      ]
     },
     "execution_count": 17,
     "metadata": {},
     "output_type": "execute_result"
    }
   ],
   "source": [
    "metrics.mean_squared_error(yts, y_pred)"
   ]
  },
  {
   "cell_type": "code",
   "execution_count": 18,
   "id": "622a425a-d81c-47f3-8d0a-d96d5e43ea0a",
   "metadata": {},
   "outputs": [],
   "source": [
    "sgd = SGDRegressor(random_state=0)"
   ]
  },
  {
   "cell_type": "code",
   "execution_count": 19,
   "id": "f59f3ef0-7702-4f5a-9bdb-36ac52be622c",
   "metadata": {},
   "outputs": [
    {
     "data": {
      "text/plain": [
       "SGDRegressor(random_state=0)"
      ]
     },
     "execution_count": 19,
     "metadata": {},
     "output_type": "execute_result"
    }
   ],
   "source": [
    "sgd.fit(xscl, ytr)"
   ]
  },
  {
   "cell_type": "code",
   "execution_count": 20,
   "id": "a43eacca-51f3-44dc-9506-6116f8d81220",
   "metadata": {},
   "outputs": [
    {
     "data": {
      "text/plain": [
       "array([2.01123921])"
      ]
     },
     "execution_count": 20,
     "metadata": {},
     "output_type": "execute_result"
    }
   ],
   "source": [
    "sgd.intercept_"
   ]
  },
  {
   "cell_type": "code",
   "execution_count": 21,
   "id": "af5fbe00-307e-4153-ae67-43bdf9011450",
   "metadata": {},
   "outputs": [
    {
     "data": {
      "text/plain": [
       "array([ 0.84046697,  0.112331  , -0.41213039,  0.21595971, -0.01781887,\n",
       "       -0.01480892, -0.87394103, -0.83913104])"
      ]
     },
     "execution_count": 21,
     "metadata": {},
     "output_type": "execute_result"
    }
   ],
   "source": [
    "sgd.coef_"
   ]
  },
  {
   "cell_type": "code",
   "execution_count": null,
   "id": "cdec39a1-b523-4238-9b3b-d5d9c97eb6a5",
   "metadata": {},
   "outputs": [],
   "source": []
  }
 ],
 "metadata": {
  "kernelspec": {
   "display_name": "Python 3 (ipykernel)",
   "language": "python",
   "name": "python3"
  },
  "language_info": {
   "codemirror_mode": {
    "name": "ipython",
    "version": 3
   },
   "file_extension": ".py",
   "mimetype": "text/x-python",
   "name": "python",
   "nbconvert_exporter": "python",
   "pygments_lexer": "ipython3",
   "version": "3.7.11"
  }
 },
 "nbformat": 4,
 "nbformat_minor": 5
}
