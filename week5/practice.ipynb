{
 "cells": [
  {
   "cell_type": "code",
   "execution_count": 1,
   "id": "d5ab1137-7281-44e2-90f7-19eb265b5544",
   "metadata": {},
   "outputs": [],
   "source": [
    "from sklearn.datasets import fetch_openml"
   ]
  },
  {
   "cell_type": "code",
   "execution_count": 2,
   "id": "c0ca160b-c5f5-465f-9ae4-f40b1b9ff31d",
   "metadata": {},
   "outputs": [],
   "source": [
    "mnist = fetch_openml('mnist_784', version=1)"
   ]
  },
  {
   "cell_type": "code",
   "execution_count": 3,
   "id": "7e69bfee-cb85-4a76-9bb7-97cb3a6af032",
   "metadata": {},
   "outputs": [],
   "source": [
    "X = mnist.data"
   ]
  },
  {
   "cell_type": "code",
   "execution_count": 4,
   "id": "4454f9c0-adf8-4dbf-aad9-14579c063eac",
   "metadata": {},
   "outputs": [
    {
     "data": {
      "text/plain": [
       "(70000, 784)"
      ]
     },
     "execution_count": 4,
     "metadata": {},
     "output_type": "execute_result"
    }
   ],
   "source": [
    "X.shape"
   ]
  },
  {
   "cell_type": "code",
   "execution_count": 8,
   "id": "2503d730-cd73-4cb7-8c51-df91eb779ed8",
   "metadata": {},
   "outputs": [
    {
     "data": {
      "text/plain": [
       "pixel1      0.0\n",
       "pixel2      0.0\n",
       "pixel3      0.0\n",
       "pixel4      0.0\n",
       "pixel5      0.0\n",
       "           ... \n",
       "pixel780    0.0\n",
       "pixel781    0.0\n",
       "pixel782    0.0\n",
       "pixel783    0.0\n",
       "pixel784    0.0\n",
       "Name: 2022, Length: 784, dtype: float64"
      ]
     },
     "execution_count": 8,
     "metadata": {},
     "output_type": "execute_result"
    }
   ],
   "source": [
    "X.loc[2022]"
   ]
  },
  {
   "cell_type": "code",
   "execution_count": 9,
   "id": "9e53cdd1-0e68-4090-809e-0a4ddb8002bb",
   "metadata": {},
   "outputs": [],
   "source": [
    "y = mnist.target"
   ]
  },
  {
   "cell_type": "code",
   "execution_count": 12,
   "id": "b80b9bbb-e1b2-43be-ac80-84631793b204",
   "metadata": {},
   "outputs": [
    {
     "data": {
      "text/plain": [
       "'2'"
      ]
     },
     "execution_count": 12,
     "metadata": {},
     "output_type": "execute_result"
    }
   ],
   "source": [
    "y.loc[2022]"
   ]
  },
  {
   "cell_type": "code",
   "execution_count": 13,
   "id": "ee3a3145-4f99-422c-a8ad-ec8c002b2b4a",
   "metadata": {},
   "outputs": [
    {
     "data": {
      "text/plain": [
       "27.761479591836736"
      ]
     },
     "execution_count": 13,
     "metadata": {},
     "output_type": "execute_result"
    }
   ],
   "source": [
    "X.loc[2022].mean()"
   ]
  },
  {
   "cell_type": "code",
   "execution_count": 14,
   "id": "6ffde342-dadf-4593-a8ab-3b67310ec250",
   "metadata": {},
   "outputs": [
    {
     "data": {
      "text/plain": [
       "643"
      ]
     },
     "execution_count": 14,
     "metadata": {},
     "output_type": "execute_result"
    }
   ],
   "source": [
    "(X.loc[2022] == 0).sum()"
   ]
  },
  {
   "cell_type": "code",
   "execution_count": 15,
   "id": "2f5e440b-bce2-4e1b-b1fd-2a0b97aa1244",
   "metadata": {},
   "outputs": [],
   "source": [
    "xtrain, xtest, ytrain, ytest = X.iloc[:10_000], X.iloc[10_000:12_000], y.iloc[:10_000], y.iloc[10_000:12_000]"
   ]
  },
  {
   "cell_type": "code",
   "execution_count": 16,
   "id": "8c31c616-948b-4a7f-86d0-b0b2ce051f46",
   "metadata": {},
   "outputs": [
    {
     "data": {
      "text/plain": [
       "[(10000, 784), (2000, 784), (10000,), (2000,)]"
      ]
     },
     "execution_count": 16,
     "metadata": {},
     "output_type": "execute_result"
    }
   ],
   "source": [
    "[c.shape for c in (xtrain, xtest, ytrain, ytest)]"
   ]
  },
  {
   "cell_type": "code",
   "execution_count": 19,
   "id": "aad06b5c-54cc-4feb-b789-16738049dde3",
   "metadata": {},
   "outputs": [],
   "source": [
    "import pandas as pd"
   ]
  },
  {
   "cell_type": "code",
   "execution_count": 21,
   "id": "c18b7d8b-b272-4076-96da-cc297b93510f",
   "metadata": {},
   "outputs": [],
   "source": [
    "sixes_train = xtrain.iloc[ytrain.values == '6']\n",
    "nines_train = xtrain.iloc[ytrain.values == '9']\n",
    "six_nine_train = pd.concat((sixes_train, nines_train), axis=0)\n",
    "\n",
    "sixes_test = xtest.iloc[ytest.values == '6']\n",
    "nines_test = xtest.iloc[ytest.values == '9']\n",
    "six_nine_test = pd.concat((sixes_test, nines_test), axis=0)"
   ]
  },
  {
   "cell_type": "code",
   "execution_count": 23,
   "id": "7aaa2e94-bf42-4a67-ad4c-604f2ef768fc",
   "metadata": {},
   "outputs": [
    {
     "data": {
      "text/plain": [
       "13      6\n",
       "18      6\n",
       "32      6\n",
       "36      6\n",
       "39      6\n",
       "       ..\n",
       "9943    6\n",
       "9946    6\n",
       "9961    6\n",
       "9967    6\n",
       "9997    6\n",
       "Name: class, Length: 1014, dtype: category\n",
       "Categories (10, object): ['0', '1', '2', '3', ..., '6', '7', '8', '9']"
      ]
     },
     "execution_count": 23,
     "metadata": {},
     "output_type": "execute_result"
    }
   ],
   "source": [
    "ytrain[ytrain.values == '6']"
   ]
  },
  {
   "cell_type": "code",
   "execution_count": 27,
   "id": "99f507dc-5613-46ec-b5f0-29cd63cea254",
   "metadata": {},
   "outputs": [],
   "source": [
    "y_69_train = pd.concat((ytrain[ytrain.values == '6'], ytrain[ytrain.values == '9']), axis=0)\n",
    "y_69_test = pd.concat((ytest[ytest.values == '6'], ytest[ytest.values == '9']), axis=0)"
   ]
  },
  {
   "cell_type": "code",
   "execution_count": 30,
   "id": "b4bec1dc-5af9-4d0d-ac36-4066626a9046",
   "metadata": {},
   "outputs": [
    {
     "data": {
      "text/plain": [
       "(1992, 784)"
      ]
     },
     "execution_count": 30,
     "metadata": {},
     "output_type": "execute_result"
    }
   ],
   "source": [
    "six_nine_train.shape"
   ]
  },
  {
   "cell_type": "code",
   "execution_count": 31,
   "id": "c66e0161-e5f7-422c-b831-cf02a9da8093",
   "metadata": {},
   "outputs": [
    {
     "data": {
      "text/plain": [
       "(1992,)"
      ]
     },
     "execution_count": 31,
     "metadata": {},
     "output_type": "execute_result"
    }
   ],
   "source": [
    "y_69_train.shape"
   ]
  },
  {
   "cell_type": "code",
   "execution_count": 32,
   "id": "ca7f26d5-1915-47b8-9033-e826ed1623e5",
   "metadata": {},
   "outputs": [
    {
     "data": {
      "text/plain": [
       "(409, 784)"
      ]
     },
     "execution_count": 32,
     "metadata": {},
     "output_type": "execute_result"
    }
   ],
   "source": [
    "six_nine_test.shape"
   ]
  },
  {
   "cell_type": "code",
   "execution_count": 33,
   "id": "3f6429ea-20f4-4768-b117-1f4583609376",
   "metadata": {},
   "outputs": [
    {
     "data": {
      "text/plain": [
       "(409,)"
      ]
     },
     "execution_count": 33,
     "metadata": {},
     "output_type": "execute_result"
    }
   ],
   "source": [
    "y_69_test.shape"
   ]
  },
  {
   "cell_type": "code",
   "execution_count": 34,
   "id": "0200cd90-131e-4d81-9d61-2d26b4bcb834",
   "metadata": {},
   "outputs": [],
   "source": [
    "y_69_test = y_69_test.astype(int)\n",
    "y_69_train = y_69_train.astype(int)"
   ]
  },
  {
   "cell_type": "code",
   "execution_count": 37,
   "id": "d0347347-69a5-4744-891e-6498ee6e3670",
   "metadata": {},
   "outputs": [
    {
     "data": {
      "text/plain": [
       "[<matplotlib.lines.Line2D at 0x7fae00692190>]"
      ]
     },
     "execution_count": 37,
     "metadata": {},
     "output_type": "execute_result"
    },
    {
     "data": {
      "image/png": "[encoded data removed]",
      "text/plain": [
       "<Figure size 432x288 with 1 Axes>"
      ]
     },
     "metadata": {
      "needs_background": "light"
     },
     "output_type": "display_data"
    }
   ],
   "source": [
    "import matplotlib.pyplot as plt\n",
    "plt.plot(y_69_test.values)"
   ]
  },
  {
   "cell_type": "code",
   "execution_count": 38,
   "id": "80c8d3df-bc83-4a49-a22d-bb5cd9e72e59",
   "metadata": {},
   "outputs": [
    {
     "data": {
      "text/plain": [
       "[<matplotlib.lines.Line2D at 0x7fae00073c10>]"
      ]
     },
     "execution_count": 38,
     "metadata": {},
     "output_type": "execute_result"
    },
    {
     "data": {
      "image/png": "[encoded data removed]",
      "text/plain": [
       "<Figure size 432x288 with 1 Axes>"
      ]
     },
     "metadata": {
      "needs_background": "light"
     },
     "output_type": "display_data"
    }
   ],
   "source": [
    "plt.plot(y_69_train.values)"
   ]
  },
  {
   "cell_type": "code",
   "execution_count": 39,
   "id": "67518ff1-91bf-44bc-9a83-3a0f1e157964",
   "metadata": {},
   "outputs": [],
   "source": [
    "y_69_train.loc[y_69_train == 6] = 1\n",
    "y_69_train.loc[y_69_train == 9] = -1\n",
    "\n",
    "y_69_test.loc[y_69_test == 6] = 1\n",
    "y_69_test.loc[y_69_test == 9] = -1"
   ]
  },
  {
   "cell_type": "code",
   "execution_count": 40,
   "id": "b7c6852d-fabd-4433-992a-0c4b4fb5c29c",
   "metadata": {},
   "outputs": [],
   "source": [
    "from sklearn.utils import shuffle"
   ]
  },
  {
   "cell_type": "code",
   "execution_count": 44,
   "id": "4ee4e93a-04a1-4fb1-aa6b-0a7225e67fa7",
   "metadata": {},
   "outputs": [],
   "source": [
    "xtrain, ytrain = shuffle(six_nine_train, y_69_train, random_state=1729)\n",
    "xtest, ytest = shuffle(six_nine_test, y_69_test, random_state=1729)"
   ]
  },
  {
   "cell_type": "code",
   "execution_count": 46,
   "id": "279465b3-8cd8-4709-91b4-4589de447dd7",
   "metadata": {},
   "outputs": [
    {
     "data": {
      "text/plain": [
       "2880    1\n",
       "1147   -1\n",
       "9825   -1\n",
       "4307   -1\n",
       "5587    1\n",
       "Name: class, dtype: int64"
      ]
     },
     "execution_count": 46,
     "metadata": {},
     "output_type": "execute_result"
    }
   ],
   "source": [
    "ytrain.head()"
   ]
  },
  {
   "cell_type": "code",
   "execution_count": 47,
   "id": "61a4d63a-5e56-4f93-a948-7fd0034a5f85",
   "metadata": {},
   "outputs": [],
   "source": [
    "from sklearn.linear_model import Perceptron"
   ]
  },
  {
   "cell_type": "code",
   "execution_count": 49,
   "id": "d976feea-ab9c-490e-9de2-6af72c9ecf78",
   "metadata": {},
   "outputs": [],
   "source": [
    "perc = Perceptron(random_state=1729, eta0=1, max_iter=10, shuffle=False, alpha=0)"
   ]
  },
  {
   "cell_type": "code",
   "execution_count": 50,
   "id": "0bc198d2-920c-4e79-a251-594e62a7f51a",
   "metadata": {},
   "outputs": [
    {
     "name": "stderr",
     "output_type": "stream",
     "text": [
      "/home/jaidevd/conda/lib/python3.7/site-packages/sklearn/linear_model/_stochastic_gradient.py:577: ConvergenceWarning: Maximum number of iteration reached before convergence. Consider increasing max_iter to improve the fit.\n",
      "  ConvergenceWarning)\n"
     ]
    },
    {
     "data": {
      "text/plain": [
       "Perceptron(alpha=0, eta0=1, max_iter=10, random_state=1729, shuffle=False)"
      ]
     },
     "execution_count": 50,
     "metadata": {},
     "output_type": "execute_result"
    }
   ],
   "source": [
    "perc.fit(xtrain.values, ytrain.values)"
   ]
  },
  {
   "cell_type": "code",
   "execution_count": 54,
   "id": "55b40483-9333-4c90-92e7-ce5d66eea276",
   "metadata": {},
   "outputs": [
    {
     "data": {
      "text/plain": [
       "605.0"
      ]
     },
     "execution_count": 54,
     "metadata": {},
     "output_type": "execute_result"
    }
   ],
   "source": [
    "perc.coef_.ravel()[69]"
   ]
  },
  {
   "cell_type": "code",
   "execution_count": 56,
   "id": "15ce2776-30e4-4c11-8566-379c0ab9fafd",
   "metadata": {},
   "outputs": [
    {
     "data": {
      "text/plain": [
       "array([-6.])"
      ]
     },
     "execution_count": 56,
     "metadata": {},
     "output_type": "execute_result"
    }
   ],
   "source": [
    "perc.intercept_"
   ]
  },
  {
   "cell_type": "code",
   "execution_count": 58,
   "id": "6ca387aa-d662-4a89-9b66-52f2db14c64c",
   "metadata": {},
   "outputs": [
    {
     "name": "stdout",
     "output_type": "stream",
     "text": [
      "[-1.]\n",
      "[-4.]\n",
      "[-4.]\n",
      "[-6.]\n",
      "[-5.]\n"
     ]
    },
    {
     "name": "stderr",
     "output_type": "stream",
     "text": [
      "/home/jaidevd/conda/lib/python3.7/site-packages/sklearn/linear_model/_stochastic_gradient.py:577: ConvergenceWarning: Maximum number of iteration reached before convergence. Consider increasing max_iter to improve the fit.\n",
      "  ConvergenceWarning)\n",
      "/home/jaidevd/conda/lib/python3.7/site-packages/sklearn/linear_model/_stochastic_gradient.py:577: ConvergenceWarning: Maximum number of iteration reached before convergence. Consider increasing max_iter to improve the fit.\n",
      "  ConvergenceWarning)\n",
      "/home/jaidevd/conda/lib/python3.7/site-packages/sklearn/linear_model/_stochastic_gradient.py:577: ConvergenceWarning: Maximum number of iteration reached before convergence. Consider increasing max_iter to improve the fit.\n",
      "  ConvergenceWarning)\n",
      "/home/jaidevd/conda/lib/python3.7/site-packages/sklearn/linear_model/_stochastic_gradient.py:577: ConvergenceWarning: Maximum number of iteration reached before convergence. Consider increasing max_iter to improve the fit.\n",
      "  ConvergenceWarning)\n",
      "/home/jaidevd/conda/lib/python3.7/site-packages/sklearn/linear_model/_stochastic_gradient.py:577: ConvergenceWarning: Maximum number of iteration reached before convergence. Consider increasing max_iter to improve the fit.\n",
      "  ConvergenceWarning)\n"
     ]
    }
   ],
   "source": [
    "perc = Perceptron(random_state=1729, eta0=1, max_iter=1, shuffle=False, alpha=0, warm_start=True)\n",
    "for i in range(5):\n",
    "    perc.fit(xtrain.values, ytrain.values)\n",
    "    print(perc.intercept_)"
   ]
  },
  {
   "cell_type": "code",
   "execution_count": null,
   "id": "5ace70bc-32f9-4ab8-a673-d6ccce96fb61",
   "metadata": {},
   "outputs": [],
   "source": []
  }
 ],
 "metadata": {
  "kernelspec": {
   "display_name": "Python 3 (ipykernel)",
   "language": "python",
   "name": "python3"
  },
  "language_info": {
   "codemirror_mode": {
    "name": "ipython",
    "version": 3
   },
   "file_extension": ".py",
   "mimetype": "text/x-python",
   "name": "python",
   "nbconvert_exporter": "python",
   "pygments_lexer": "ipython3",
   "version": "3.7.11"
  }
 },
 "nbformat": 4,
 "nbformat_minor": 5
}
