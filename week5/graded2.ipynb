{
 "cells": [
  {
   "cell_type": "code",
   "execution_count": 1,
   "id": "ba2f9b02-f56e-45da-b8ad-06410e82b0e7",
   "metadata": {},
   "outputs": [
    {
     "data": {
      "text/plain": [
       "dict_keys(['data', 'target', 'frame', 'categories', 'feature_names', 'target_names', 'DESCR', 'details', 'url'])"
      ]
     },
     "execution_count": 1,
     "metadata": {},
     "output_type": "execute_result"
    }
   ],
   "source": [
    "from sklearn.datasets import fetch_openml\n",
    "mnist = fetch_openml('mnist_784', version=1)\n",
    "mnist.keys()"
   ]
  },
  {
   "cell_type": "code",
   "execution_count": 2,
   "id": "686e82ef-0218-43b4-a8cf-928dcc9393ba",
   "metadata": {},
   "outputs": [],
   "source": [
    "mnist['target'] = mnist.target.astype(int)"
   ]
  },
  {
   "cell_type": "code",
   "execution_count": 3,
   "id": "63871788-037b-4ad9-8b54-6b2f331009fd",
   "metadata": {},
   "outputs": [],
   "source": [
    "X_tr, y_tr = mnist.data[:10_000], mnist.target[:10_000]\n",
    "X_ts, y_ts = mnist.data[10_000:12_000], mnist.target[10_000:12_000]"
   ]
  },
  {
   "cell_type": "code",
   "execution_count": 4,
   "id": "4fcad283-4cac-426b-8642-f6e98e12d7a2",
   "metadata": {},
   "outputs": [],
   "source": [
    "import numpy as np\n",
    "\n",
    "fives_train = X_tr[y_tr == 5]\n",
    "fives_labels = np.ones_like(y_tr[y_tr == 5])\n",
    "\n",
    "threes_train = X_tr[y_tr == 3]\n",
    "threes_labels = -1 * np.ones_like(y_tr[y_tr == 3])"
   ]
  },
  {
   "cell_type": "code",
   "execution_count": 5,
   "id": "13ff36ce-d9d7-4eeb-aed9-4ce6472ba7b1",
   "metadata": {},
   "outputs": [],
   "source": [
    "xtr_53 = np.r_[fives_train, threes_train]\n",
    "ytr_53 = np.r_[fives_labels, threes_labels]"
   ]
  },
  {
   "cell_type": "code",
   "execution_count": 9,
   "id": "e0079ebe-b573-4622-83e1-18c2a4231887",
   "metadata": {},
   "outputs": [
    {
     "data": {
      "text/plain": [
       "(863, 784)"
      ]
     },
     "execution_count": 9,
     "metadata": {},
     "output_type": "execute_result"
    }
   ],
   "source": [
    "fives_train.shape"
   ]
  },
  {
   "cell_type": "code",
   "execution_count": 10,
   "id": "b37d1805-6582-40c3-aba6-793aa053d983",
   "metadata": {},
   "outputs": [
    {
     "data": {
      "text/plain": [
       "(1032, 784)"
      ]
     },
     "execution_count": 10,
     "metadata": {},
     "output_type": "execute_result"
    }
   ],
   "source": [
    "threes_train.shape"
   ]
  },
  {
   "cell_type": "code",
   "execution_count": 6,
   "id": "5de15127-1820-43c9-bb6e-83ca72697de0",
   "metadata": {},
   "outputs": [],
   "source": [
    "xts_53 = np.r_[X_ts[y_ts == 5], X_ts[y_ts == 3]]\n",
    "yts_53 = np.r_[np.ones_like(y_ts[y_ts == 5]), -1 * np.ones_like(y_ts[y_ts == 3])]"
   ]
  },
  {
   "cell_type": "code",
   "execution_count": 7,
   "id": "e42a60f9-1d57-4405-b8c4-73848b341e55",
   "metadata": {},
   "outputs": [],
   "source": [
    "from sklearn.linear_model import Perceptron"
   ]
  },
  {
   "cell_type": "code",
   "execution_count": 8,
   "id": "21f6c6c7-4cd4-42c8-a27f-ba1df2b83e43",
   "metadata": {},
   "outputs": [],
   "source": [
    "perc = Perceptron(random_state=42, eta0=1, max_iter=1, shuffle=True)\n",
    "\n",
    "for i in range(100):\n",
    "    perc.partial_fit(xtr_53, ytr_53, [-1, 1])"
   ]
  },
  {
   "cell_type": "code",
   "execution_count": 9,
   "id": "059455b3-1b20-401d-b753-9c7054cba959",
   "metadata": {},
   "outputs": [],
   "source": [
    "from sklearn.metrics import ConfusionMatrixDisplay, confusion_matrix"
   ]
  },
  {
   "cell_type": "code",
   "execution_count": 10,
   "id": "f5ff66a1-3f1e-4529-b2a8-e99c907d2f35",
   "metadata": {},
   "outputs": [],
   "source": [
    "import matplotlib.pyplot as plt\n",
    "%matplotlib inline"
   ]
  },
  {
   "cell_type": "code",
   "execution_count": 13,
   "id": "a01c7f09-44e0-4ff6-8021-c251ad92c7ed",
   "metadata": {},
   "outputs": [],
   "source": [
    "from sklearn.metrics import plot_confusion_matrix"
   ]
  },
  {
   "cell_type": "code",
   "execution_count": 15,
   "id": "27cb2b2a-426a-4cfd-99bd-5b12eee0a299",
   "metadata": {},
   "outputs": [
    {
     "data": {
      "text/plain": [
       "<sklearn.metrics._plot.confusion_matrix.ConfusionMatrixDisplay at 0x7f89ebb2ae50>"
      ]
     },
     "execution_count": 15,
     "metadata": {},
     "output_type": "execute_result"
    },
    {
     "data": {
      "image/png": "[encoded data removed]",
      "text/plain": [
       "<Figure size 432x288 with 2 Axes>"
      ]
     },
     "metadata": {
      "needs_background": "light"
     },
     "output_type": "display_data"
    }
   ],
   "source": [
    "plot_confusion_matrix(perc, xts_53, yts_53)"
   ]
  },
  {
   "cell_type": "code",
   "execution_count": 16,
   "id": "f3164713-1ff3-4ae8-b7cb-eaecef5fb1c3",
   "metadata": {},
   "outputs": [],
   "source": [
    "from sklearn.decomposition import PCA"
   ]
  },
  {
   "cell_type": "code",
   "execution_count": 17,
   "id": "ed08b3bc-b1c5-4331-8c02-bf5b85c8b798",
   "metadata": {},
   "outputs": [],
   "source": [
    "pca = PCA(n_components=10, random_state=1)"
   ]
  },
  {
   "cell_type": "code",
   "execution_count": 41,
   "id": "66736cdc-21cd-4972-9671-8dff19d3e68d",
   "metadata": {},
   "outputs": [
    {
     "data": {
      "text/plain": [
       "Perceptron(alpha=0, eta0=1, max_iter=100, random_state=42)"
      ]
     },
     "execution_count": 41,
     "metadata": {},
     "output_type": "execute_result"
    }
   ],
   "source": [
    "x_red_tr = pca.fit_transform(xtr_53)\n",
    "perc = Perceptron(random_state=42, eta0=1, max_iter=100, shuffle=True, alpha=0, fit_intercept=True)\n",
    "perc.fit(x_red_tr, ytr_53)\n",
    "\n",
    "# for i in range(100):\n",
    "#     perc.partial_fit(x_red_tr, ytr_53, [-1, 1])"
   ]
  },
  {
   "cell_type": "code",
   "execution_count": 42,
   "id": "5a83678d-d248-45b3-8ae6-c03226d8e895",
   "metadata": {},
   "outputs": [
    {
     "data": {
      "text/plain": [
       "<sklearn.metrics._plot.confusion_matrix.ConfusionMatrixDisplay at 0x7f89e8a51650>"
      ]
     },
     "execution_count": 42,
     "metadata": {},
     "output_type": "execute_result"
    },
    {
     "data": {
      "image/png": "[encoded data removed]",
      "text/plain": [
       "<Figure size 432x288 with 2 Axes>"
      ]
     },
     "metadata": {
      "needs_background": "light"
     },
     "output_type": "display_data"
    }
   ],
   "source": [
    "x_red_ts = pca.fit_transform(xts_53)\n",
    "\n",
    "plot_confusion_matrix(perc, x_red_ts, yts_53)"
   ]
  },
  {
   "cell_type": "code",
   "execution_count": 40,
   "id": "cd680bb9-b6a1-4fd8-9fe9-9d5bc1fab75e",
   "metadata": {},
   "outputs": [
    {
     "data": {
      "text/plain": [
       "\u001b[0;31mInit signature:\u001b[0m\n",
       "\u001b[0mPerceptron\u001b[0m\u001b[0;34m(\u001b[0m\u001b[0;34m\u001b[0m\n",
       "\u001b[0;34m\u001b[0m    \u001b[0;34m*\u001b[0m\u001b[0;34m,\u001b[0m\u001b[0;34m\u001b[0m\n",
       "\u001b[0;34m\u001b[0m    \u001b[0mpenalty\u001b[0m\u001b[0;34m=\u001b[0m\u001b[0;32mNone\u001b[0m\u001b[0;34m,\u001b[0m\u001b[0;34m\u001b[0m\n",
       "\u001b[0;34m\u001b[0m    \u001b[0malpha\u001b[0m\u001b[0;34m=\u001b[0m\u001b[0;36m0.0001\u001b[0m\u001b[0;34m,\u001b[0m\u001b[0;34m\u001b[0m\n",
       "\u001b[0;34m\u001b[0m    \u001b[0ml1_ratio\u001b[0m\u001b[0;34m=\u001b[0m\u001b[0;36m0.15\u001b[0m\u001b[0;34m,\u001b[0m\u001b[0;34m\u001b[0m\n",
       "\u001b[0;34m\u001b[0m    \u001b[0mfit_intercept\u001b[0m\u001b[0;34m=\u001b[0m\u001b[0;32mTrue\u001b[0m\u001b[0;34m,\u001b[0m\u001b[0;34m\u001b[0m\n",
       "\u001b[0;34m\u001b[0m    \u001b[0mmax_iter\u001b[0m\u001b[0;34m=\u001b[0m\u001b[0;36m1000\u001b[0m\u001b[0;34m,\u001b[0m\u001b[0;34m\u001b[0m\n",
       "\u001b[0;34m\u001b[0m    \u001b[0mtol\u001b[0m\u001b[0;34m=\u001b[0m\u001b[0;36m0.001\u001b[0m\u001b[0;34m,\u001b[0m\u001b[0;34m\u001b[0m\n",
       "\u001b[0;34m\u001b[0m    \u001b[0mshuffle\u001b[0m\u001b[0;34m=\u001b[0m\u001b[0;32mTrue\u001b[0m\u001b[0;34m,\u001b[0m\u001b[0;34m\u001b[0m\n",
       "\u001b[0;34m\u001b[0m    \u001b[0mverbose\u001b[0m\u001b[0;34m=\u001b[0m\u001b[0;36m0\u001b[0m\u001b[0;34m,\u001b[0m\u001b[0;34m\u001b[0m\n",
       "\u001b[0;34m\u001b[0m    \u001b[0meta0\u001b[0m\u001b[0;34m=\u001b[0m\u001b[0;36m1.0\u001b[0m\u001b[0;34m,\u001b[0m\u001b[0;34m\u001b[0m\n",
       "\u001b[0;34m\u001b[0m    \u001b[0mn_jobs\u001b[0m\u001b[0;34m=\u001b[0m\u001b[0;32mNone\u001b[0m\u001b[0;34m,\u001b[0m\u001b[0;34m\u001b[0m\n",
       "\u001b[0;34m\u001b[0m    \u001b[0mrandom_state\u001b[0m\u001b[0;34m=\u001b[0m\u001b[0;36m0\u001b[0m\u001b[0;34m,\u001b[0m\u001b[0;34m\u001b[0m\n",
       "\u001b[0;34m\u001b[0m    \u001b[0mearly_stopping\u001b[0m\u001b[0;34m=\u001b[0m\u001b[0;32mFalse\u001b[0m\u001b[0;34m,\u001b[0m\u001b[0;34m\u001b[0m\n",
       "\u001b[0;34m\u001b[0m    \u001b[0mvalidation_fraction\u001b[0m\u001b[0;34m=\u001b[0m\u001b[0;36m0.1\u001b[0m\u001b[0;34m,\u001b[0m\u001b[0;34m\u001b[0m\n",
       "\u001b[0;34m\u001b[0m    \u001b[0mn_iter_no_change\u001b[0m\u001b[0;34m=\u001b[0m\u001b[0;36m5\u001b[0m\u001b[0;34m,\u001b[0m\u001b[0;34m\u001b[0m\n",
       "\u001b[0;34m\u001b[0m    \u001b[0mclass_weight\u001b[0m\u001b[0;34m=\u001b[0m\u001b[0;32mNone\u001b[0m\u001b[0;34m,\u001b[0m\u001b[0;34m\u001b[0m\n",
       "\u001b[0;34m\u001b[0m    \u001b[0mwarm_start\u001b[0m\u001b[0;34m=\u001b[0m\u001b[0;32mFalse\u001b[0m\u001b[0;34m,\u001b[0m\u001b[0;34m\u001b[0m\n",
       "\u001b[0;34m\u001b[0m\u001b[0;34m)\u001b[0m\u001b[0;34m\u001b[0m\u001b[0;34m\u001b[0m\u001b[0m\n",
       "\u001b[0;31mDocstring:\u001b[0m     \n",
       "Perceptron\n",
       "\n",
       "Read more in the :ref:`User Guide <perceptron>`.\n",
       "\n",
       "Parameters\n",
       "----------\n",
       "\n",
       "penalty : {'l2','l1','elasticnet'}, default=None\n",
       "    The penalty (aka regularization term) to be used.\n",
       "\n",
       "alpha : float, default=0.0001\n",
       "    Constant that multiplies the regularization term if regularization is\n",
       "    used.\n",
       "\n",
       "l1_ratio : float, default=0.15\n",
       "    The Elastic Net mixing parameter, with `0 <= l1_ratio <= 1`.\n",
       "    `l1_ratio=0` corresponds to L2 penalty, `l1_ratio=1` to L1.\n",
       "    Only used if `penalty='elasticnet'`.\n",
       "\n",
       "    .. versionadded:: 0.24\n",
       "\n",
       "fit_intercept : bool, default=True\n",
       "    Whether the intercept should be estimated or not. If False, the\n",
       "    data is assumed to be already centered.\n",
       "\n",
       "max_iter : int, default=1000\n",
       "    The maximum number of passes over the training data (aka epochs).\n",
       "    It only impacts the behavior in the ``fit`` method, and not the\n",
       "    :meth:`partial_fit` method.\n",
       "\n",
       "    .. versionadded:: 0.19\n",
       "\n",
       "tol : float, default=1e-3\n",
       "    The stopping criterion. If it is not None, the iterations will stop\n",
       "    when (loss > previous_loss - tol).\n",
       "\n",
       "    .. versionadded:: 0.19\n",
       "\n",
       "shuffle : bool, default=True\n",
       "    Whether or not the training data should be shuffled after each epoch.\n",
       "\n",
       "verbose : int, default=0\n",
       "    The verbosity level\n",
       "\n",
       "eta0 : double, default=1\n",
       "    Constant by which the updates are multiplied.\n",
       "\n",
       "n_jobs : int, default=None\n",
       "    The number of CPUs to use to do the OVA (One Versus All, for\n",
       "    multi-class problems) computation.\n",
       "    ``None`` means 1 unless in a :obj:`joblib.parallel_backend` context.\n",
       "    ``-1`` means using all processors. See :term:`Glossary <n_jobs>`\n",
       "    for more details.\n",
       "\n",
       "random_state : int, RandomState instance, default=None\n",
       "    Used to shuffle the training data, when ``shuffle`` is set to\n",
       "    ``True``. Pass an int for reproducible output across multiple\n",
       "    function calls.\n",
       "    See :term:`Glossary <random_state>`.\n",
       "\n",
       "early_stopping : bool, default=False\n",
       "    Whether to use early stopping to terminate training when validation.\n",
       "    score is not improving. If set to True, it will automatically set aside\n",
       "    a stratified fraction of training data as validation and terminate\n",
       "    training when validation score is not improving by at least tol for\n",
       "    n_iter_no_change consecutive epochs.\n",
       "\n",
       "    .. versionadded:: 0.20\n",
       "\n",
       "validation_fraction : float, default=0.1\n",
       "    The proportion of training data to set aside as validation set for\n",
       "    early stopping. Must be between 0 and 1.\n",
       "    Only used if early_stopping is True.\n",
       "\n",
       "    .. versionadded:: 0.20\n",
       "\n",
       "n_iter_no_change : int, default=5\n",
       "    Number of iterations with no improvement to wait before early stopping.\n",
       "\n",
       "    .. versionadded:: 0.20\n",
       "\n",
       "class_weight : dict, {class_label: weight} or \"balanced\", default=None\n",
       "    Preset for the class_weight fit parameter.\n",
       "\n",
       "    Weights associated with classes. If not given, all classes\n",
       "    are supposed to have weight one.\n",
       "\n",
       "    The \"balanced\" mode uses the values of y to automatically adjust\n",
       "    weights inversely proportional to class frequencies in the input data\n",
       "    as ``n_samples / (n_classes * np.bincount(y))``\n",
       "\n",
       "warm_start : bool, default=False\n",
       "    When set to True, reuse the solution of the previous call to fit as\n",
       "    initialization, otherwise, just erase the previous solution. See\n",
       "    :term:`the Glossary <warm_start>`.\n",
       "\n",
       "Attributes\n",
       "----------\n",
       "classes_ : ndarray of shape (n_classes,)\n",
       "    The unique classes labels.\n",
       "\n",
       "coef_ : ndarray of shape (1, n_features) if n_classes == 2 else             (n_classes, n_features)\n",
       "    Weights assigned to the features.\n",
       "\n",
       "intercept_ : ndarray of shape (1,) if n_classes == 2 else (n_classes,)\n",
       "    Constants in decision function.\n",
       "\n",
       "loss_function_ : concrete LossFunction\n",
       "    The function that determines the loss, or difference between the\n",
       "    output of the algorithm and the target values.\n",
       "\n",
       "n_iter_ : int\n",
       "    The actual number of iterations to reach the stopping criterion.\n",
       "    For multiclass fits, it is the maximum over every binary fit.\n",
       "\n",
       "t_ : int\n",
       "    Number of weight updates performed during training.\n",
       "    Same as ``(n_iter_ * n_samples)``.\n",
       "\n",
       "Notes\n",
       "-----\n",
       "\n",
       "``Perceptron`` is a classification algorithm which shares the same\n",
       "underlying implementation with ``SGDClassifier``. In fact,\n",
       "``Perceptron()`` is equivalent to `SGDClassifier(loss=\"perceptron\",\n",
       "eta0=1, learning_rate=\"constant\", penalty=None)`.\n",
       "\n",
       "Examples\n",
       "--------\n",
       ">>> from sklearn.datasets import load_digits\n",
       ">>> from sklearn.linear_model import Perceptron\n",
       ">>> X, y = load_digits(return_X_y=True)\n",
       ">>> clf = Perceptron(tol=1e-3, random_state=0)\n",
       ">>> clf.fit(X, y)\n",
       "Perceptron()\n",
       ">>> clf.score(X, y)\n",
       "0.939...\n",
       "\n",
       "See Also\n",
       "--------\n",
       "SGDClassifier\n",
       "\n",
       "References\n",
       "----------\n",
       "\n",
       "https://en.wikipedia.org/wiki/Perceptron and references therein.\n",
       "\u001b[0;31mFile:\u001b[0m           ~/conda/lib/python3.7/site-packages/sklearn/linear_model/_perceptron.py\n",
       "\u001b[0;31mType:\u001b[0m           ABCMeta\n",
       "\u001b[0;31mSubclasses:\u001b[0m     \n"
      ]
     },
     "metadata": {},
     "output_type": "display_data"
    }
   ],
   "source": [
    "Perceptron?"
   ]
  },
  {
   "cell_type": "code",
   "execution_count": null,
   "id": "c04a48de-4d45-4d31-a676-5e81d906bbd9",
   "metadata": {},
   "outputs": [],
   "source": []
  }
 ],
 "metadata": {
  "kernelspec": {
   "display_name": "Python 3 (ipykernel)",
   "language": "python",
   "name": "python3"
  },
  "language_info": {
   "codemirror_mode": {
    "name": "ipython",
    "version": 3
   },
   "file_extension": ".py",
   "mimetype": "text/x-python",
   "name": "python",
   "nbconvert_exporter": "python",
   "pygments_lexer": "ipython3",
   "version": "3.7.11"
  }
 },
 "nbformat": 4,
 "nbformat_minor": 5
}
