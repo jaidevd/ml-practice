{
 "cells": [
  {
   "cell_type": "code",
   "execution_count": 1,
   "id": "9d956c4d-9ea8-4979-8797-3e0a943fbdb4",
   "metadata": {},
   "outputs": [],
   "source": [
    "from sklearn.datasets import fetch_openml\n",
    "mnist = fetch_openml('mnist_784', version=1)"
   ]
  },
  {
   "cell_type": "code",
   "execution_count": 5,
   "id": "23ee009e-1ef6-4ed0-8b88-74a3b5e50d1c",
   "metadata": {},
   "outputs": [
    {
     "name": "stdout",
     "output_type": "stream",
     "text": [
      "(1895, 784) (1895,) [-1  1] (381, 784) (381,) [-1  1]\n"
     ]
    }
   ],
   "source": [
    "import numpy as np\n",
    "\n",
    "# From the MNIST dataset, create a new dataset by taking first 10000 images for training and next 2000 images for testing.\n",
    "X = mnist.data\n",
    "Y = mnist.target.astype(int)\n",
    "\n",
    "x_tr, x_ts = X.iloc[:10_000], X.iloc[10_000:12_000]\n",
    "y_tr, y_ts = Y.iloc[:10_000], Y.iloc[10_000:12_000]\n",
    "\n",
    "# Collect all digit-5 (Positive class) and digit-3 (Negative class) images and stack them properly as a single datamatrix.\n",
    "# By convention, keep all digit-5 images from index 0 to i followed by digit-3 images from index i+1 to n (i denotes the end index of digit-5 images)\n",
    "x_tr_53 = np.r_[x_tr[y_tr == 5].values, x_tr[y_tr == 3].values]\n",
    "y_tr_53 = np.r_[y_tr[y_tr == 5].values, y_tr[y_tr == 3].values]\n",
    "y_tr_53[y_tr_53 == 5] = 1\n",
    "y_tr_53[y_tr_53 == 3] = -1\n",
    "\n",
    "# Test\n",
    "x_ts_53 = np.r_[x_ts[y_ts == 5].values, x_ts[y_ts == 3].values]\n",
    "y_ts_53 = np.r_[y_ts[y_ts == 5].values, y_ts[y_ts == 3].values]\n",
    "y_ts_53[y_ts_53 == 5] = 1\n",
    "y_ts_53[y_ts_53 == 3] = -1\n",
    "print(x_tr_53.shape, y_tr_53.shape, np.unique(y_tr_53), x_ts_53.shape, y_ts_53.shape, np.unique(y_ts_53))"
   ]
  },
  {
   "cell_type": "code",
   "execution_count": 6,
   "id": "24cbe368-f325-448c-b7fc-a5393b661ed7",
   "metadata": {},
   "outputs": [],
   "source": [
    "# Instantiate a perceptron classifier with the below parameters\n",
    "# random_state = 42\n",
    "# learning rate = 1\n",
    "# Train for 100 iterations (epoch)\n",
    "# Should shuffle the dataset for each epoch (iteration)\n",
    "# Include the intercept (bias) term.\n",
    "# No regularization\n",
    "from sklearn.linear_model import Perceptron\n",
    "\n",
    "perc = Perceptron(random_state=42, eta0=1, shuffle=True, alpha=0)"
   ]
  },
  {
   "cell_type": "code",
   "execution_count": 7,
   "id": "c253dfd9-12d7-4c48-b8f3-7d223ba505be",
   "metadata": {},
   "outputs": [
    {
     "data": {
      "text/plain": [
       "(863, 1032)"
      ]
     },
     "execution_count": 7,
     "metadata": {},
     "output_type": "execute_result"
    }
   ],
   "source": [
    "# 1) Which of the following is a pair that gives the number of training samples for digit 5 and digit 3?\n",
    "(y_tr_53 == 1).sum(), (y_tr_53 == -1).sum()"
   ]
  },
  {
   "cell_type": "code",
   "execution_count": 9,
   "id": "5db6348f-c641-43db-a6c2-add2ceb3333a",
   "metadata": {},
   "outputs": [],
   "source": [
    "for i in range(100):\n",
    "    perc.partial_fit(x_tr_53, y_tr_53, classes=[-1, 1])"
   ]
  },
  {
   "cell_type": "code",
   "execution_count": 11,
   "id": "d97e06f5-57d9-4919-baf3-5ee92718e05a",
   "metadata": {},
   "outputs": [
    {
     "name": "stderr",
     "output_type": "stream",
     "text": [
      "/home/jaidevd/conda/lib/python3.7/site-packages/sklearn/utils/deprecation.py:87: FutureWarning: Function plot_confusion_matrix is deprecated; Function `plot_confusion_matrix` is deprecated in 1.0 and will be removed in 1.2. Use one of the class methods: ConfusionMatrixDisplay.from_predictions or ConfusionMatrixDisplay.from_estimator.\n",
      "  warnings.warn(msg, category=FutureWarning)\n"
     ]
    },
    {
     "data": {
      "text/plain": [
       "<sklearn.metrics._plot.confusion_matrix.ConfusionMatrixDisplay at 0x7fcbff9522d0>"
      ]
     },
     "execution_count": 11,
     "metadata": {},
     "output_type": "execute_result"
    },
    {
     "data": {
      "image/png": "[encoded data removed]",
      "text/plain": [
       "<Figure size 432x288 with 2 Axes>"
      ]
     },
     "metadata": {
      "needs_background": "light"
     },
     "output_type": "display_data"
    }
   ],
   "source": [
    "from sklearn.metrics import plot_confusion_matrix\n",
    "\n",
    "plot_confusion_matrix(perc, x_ts_53, y_ts_53)"
   ]
  },
  {
   "cell_type": "code",
   "execution_count": 24,
   "id": "0e964d6f-03e0-4266-bd0c-d8e3dac630af",
   "metadata": {},
   "outputs": [
    {
     "name": "stderr",
     "output_type": "stream",
     "text": [
      "/home/jaidevd/conda/lib/python3.7/site-packages/sklearn/utils/deprecation.py:87: FutureWarning: Function plot_confusion_matrix is deprecated; Function `plot_confusion_matrix` is deprecated in 1.0 and will be removed in 1.2. Use one of the class methods: ConfusionMatrixDisplay.from_predictions or ConfusionMatrixDisplay.from_estimator.\n",
      "  warnings.warn(msg, category=FutureWarning)\n"
     ]
    },
    {
     "data": {
      "text/plain": [
       "<sklearn.metrics._plot.confusion_matrix.ConfusionMatrixDisplay at 0x7fcbeca773d0>"
      ]
     },
     "execution_count": 24,
     "metadata": {},
     "output_type": "execute_result"
    },
    {
     "data": {
      "image/png": "[encoded data removed]",
      "text/plain": [
       "<Figure size 432x288 with 2 Axes>"
      ]
     },
     "metadata": {
      "needs_background": "light"
     },
     "output_type": "display_data"
    }
   ],
   "source": [
    "# Apply linear PCA and reduce the dimention of the datapoints to 10.\n",
    "# Set n_components=10, random_state=1 for PCA.\n",
    "# Train perceptron classifier with same settings (shuffle = True) and use the trained model to make predictions on test data.\n",
    "# Which of the following option gives the correct values inferred from confusion matrix?\n",
    "from sklearn.decomposition import PCA\n",
    "\n",
    "pca = PCA(n_components=10, random_state=1)\n",
    "\n",
    "xr_tr_53 = pca.fit_transform(x_tr_53)\n",
    "xr_ts_53 = pca.transform(x_ts_53)\n",
    "\n",
    "perc = Perceptron(random_state=42, eta0=1, shuffle=True, alpha=0.01, penalty='l1')\n",
    "for i in range(100):\n",
    "    perc.partial_fit(xr_tr_53, y_tr_53, classes=[-1, 1])\n",
    "perc.fit(xr_tr_53, y_tr_53)\n",
    "\n",
    "plot_confusion_matrix(perc, xr_ts_53, y_ts_53)"
   ]
  },
  {
   "cell_type": "code",
   "execution_count": 27,
   "id": "e3283916-a112-4d1e-b388-3dc0aeabf2ac",
   "metadata": {},
   "outputs": [
    {
     "name": "stdout",
     "output_type": "stream",
     "text": [
      "(0.5564304461942258, 0.6071428571428571, 0.5639810426540285)\n",
      "(0.5564304461942258, 0.5639810426540285, 0.6071428571428571)\n",
      "(0.5564304461942258, 0.5027027027027027, 0.5470588235294118)\n",
      "(0.5564304461942258, 0.5470588235294118, 0.5027027027027027)\n"
     ]
    }
   ],
   "source": [
    "d = dict(TP= 119, TN= 93, FP= 77, FN= 92), dict(TP= 119, TN= 93, FP= 92, FN= 77), dict(TP= 93, TN= 119, FP= 92, FN= 77), dict(TP= 93, TN= 119, FP= 77, FN= 92)\n",
    "\n",
    "def acc_prec_recall(p):\n",
    "    acc = (p['TP'] + p['TN']) / sum(p.values())\n",
    "    prec = p['TP'] / (p['TP'] + p['FP'])\n",
    "    rec = p['TP'] / (p['TP'] + p['FN'])\n",
    "    return acc, prec, rec\n",
    "\n",
    "for p in d:\n",
    "    print(acc_prec_recall(p))"
   ]
  },
  {
   "cell_type": "code",
   "execution_count": null,
   "id": "57169d8a-569c-4268-9302-e18a98f5c4f2",
   "metadata": {},
   "outputs": [],
   "source": []
  }
 ],
 "metadata": {
  "kernelspec": {
   "display_name": "Python 3 (ipykernel)",
   "language": "python",
   "name": "python3"
  },
  "language_info": {
   "codemirror_mode": {
    "name": "ipython",
    "version": 3
   },
   "file_extension": ".py",
   "mimetype": "text/x-python",
   "name": "python",
   "nbconvert_exporter": "python",
   "pygments_lexer": "ipython3",
   "version": "3.7.11"
  }
 },
 "nbformat": 4,
 "nbformat_minor": 5
}
