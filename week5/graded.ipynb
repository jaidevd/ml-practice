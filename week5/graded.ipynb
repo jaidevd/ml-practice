{
 "cells": [
  {
   "cell_type": "code",
   "execution_count": 1,
   "id": "09068f12-9bcf-40ef-923a-7a5047242df3",
   "metadata": {},
   "outputs": [],
   "source": [
    "import pandas as pd\n",
    "import numpy as np\n",
    "import matplotlib.pyplot as plt\n",
    "from sklearn.datasets import fetch_openml\n",
    "from sklearn.linear_model import Perceptron\n",
    "from sklearn import metrics\n",
    "from sklearn.decomposition import PCA"
   ]
  },
  {
   "cell_type": "code",
   "execution_count": 2,
   "id": "74ddf686-6d34-4719-934d-c9bedd4e011a",
   "metadata": {},
   "outputs": [],
   "source": [
    "X, y = fetch_openml('mnist_784', version=1, return_X_y=True, as_frame=True)\n",
    "y = y.astype(int)\n",
    "xtrain, xtest, ytrain, ytest = X.iloc[:10_000], X.iloc[10_000:12_000], y.iloc[:10_000], y.iloc[10_000:12_000]\n",
    "\n",
    "xtrain_pos = xtrain.iloc[ytrain.values == 5]\n",
    "ytrain_pos = pd.Series(np.ones((xtrain_pos.shape[0])))\n",
    "\n",
    "xtrain_neg = xtrain.iloc[ytrain.values == 3]\n",
    "ytrain_neg = pd.Series(-1 * np.ones((xtrain_neg.shape[0])))\n",
    "\n",
    "xtest_pos = xtest.iloc[ytest.values == 5]\n",
    "ytest_pos = pd.Series(np.ones((xtest_pos.shape[0])))\n",
    "\n",
    "xtest_neg = xtest.iloc[ytest.values == 3]\n",
    "ytest_neg = pd.Series(-1 * np.ones((xtest_neg.shape[0])))\n",
    "\n",
    "xtrain = pd.concat((xtrain_pos, xtrain_neg), axis=0, ignore_index=True)\n",
    "ytrain = pd.concat((ytrain_pos, ytrain_neg), axis=0, ignore_index=True)\n",
    "\n",
    "xtest = pd.concat((xtest_pos, xtest_neg), axis=0, ignore_index=True)\n",
    "ytest = pd.concat((ytest_pos, ytest_neg), axis=0, ignore_index=True)"
   ]
  },
  {
   "cell_type": "code",
   "execution_count": 3,
   "id": "2430b4f7-753d-4cf9-a416-8434c2bed6cc",
   "metadata": {},
   "outputs": [
    {
     "data": {
      "text/plain": [
       "Perceptron(alpha=0, eta0=1, max_iter=100, random_state=42)"
      ]
     },
     "execution_count": 3,
     "metadata": {},
     "output_type": "execute_result"
    }
   ],
   "source": [
    "perc = Perceptron(random_state=42, eta0=1, max_iter=100, shuffle=True, alpha=0)\n",
    "perc.fit(xtrain, ytrain)"
   ]
  },
  {
   "cell_type": "code",
   "execution_count": 28,
   "id": "260f86ba-1a58-43a6-acc3-ca06709bddd7",
   "metadata": {},
   "outputs": [
    {
     "data": {
      "text/plain": [
       "(863, 784)"
      ]
     },
     "execution_count": 28,
     "metadata": {},
     "output_type": "execute_result"
    }
   ],
   "source": [
    "xtrain[ytrain == 1].shape"
   ]
  },
  {
   "cell_type": "code",
   "execution_count": 29,
   "id": "ea3df4d6-7a52-4318-80ae-b11c5ea51812",
   "metadata": {},
   "outputs": [
    {
     "data": {
      "text/plain": [
       "(1032, 784)"
      ]
     },
     "execution_count": 29,
     "metadata": {},
     "output_type": "execute_result"
    }
   ],
   "source": [
    "xtrain[ytrain == -1].shape"
   ]
  },
  {
   "cell_type": "code",
   "execution_count": 4,
   "id": "89a72ea2-3105-400a-85c9-d73ad486e561",
   "metadata": {},
   "outputs": [],
   "source": [
    "y_pred = perc.predict(xtest)"
   ]
  },
  {
   "cell_type": "code",
   "execution_count": 5,
   "id": "a15824c9-7b3a-431b-b9af-0c3519713526",
   "metadata": {},
   "outputs": [
    {
     "data": {
      "text/plain": [
       "<sklearn.metrics._plot.confusion_matrix.ConfusionMatrixDisplay at 0x7fd21b2f9290>"
      ]
     },
     "execution_count": 5,
     "metadata": {},
     "output_type": "execute_result"
    },
    {
     "data": {
      "image/png": "[encoded data removed]",
      "text/plain": [
       "<Figure size 432x288 with 2 Axes>"
      ]
     },
     "metadata": {
      "needs_background": "light"
     },
     "output_type": "display_data"
    }
   ],
   "source": [
    "metrics.plot_confusion_matrix(perc, xtest, ytest)"
   ]
  },
  {
   "cell_type": "code",
   "execution_count": 38,
   "id": "250d2c73-6f25-43bf-ac75-47999edc9883",
   "metadata": {},
   "outputs": [
    {
     "data": {
      "text/plain": [
       "Perceptron(alpha=0, eta0=1, max_iter=100, random_state=42, shuffle=False)"
      ]
     },
     "execution_count": 38,
     "metadata": {},
     "output_type": "execute_result"
    }
   ],
   "source": [
    "perc2 = Perceptron(random_state=42, eta0=1, max_iter=100, shuffle=False, alpha=0)\n",
    "perc2.fit(xtrain, ytrain)"
   ]
  },
  {
   "cell_type": "code",
   "execution_count": 41,
   "id": "ee6db560-3312-4068-8738-2acf6df71b36",
   "metadata": {},
   "outputs": [
    {
     "name": "stdout",
     "output_type": "stream",
     "text": [
      "              precision    recall  f1-score   support\n",
      "\n",
      "        -1.0       0.94      0.97      0.95       196\n",
      "         1.0       0.97      0.94      0.95       185\n",
      "\n",
      "    accuracy                           0.95       381\n",
      "   macro avg       0.95      0.95      0.95       381\n",
      "weighted avg       0.95      0.95      0.95       381\n",
      "\n"
     ]
    }
   ],
   "source": [
    "print(metrics.classification_report(ytest, perc.predict(xtest)))"
   ]
  },
  {
   "cell_type": "code",
   "execution_count": 42,
   "id": "02cf80de-efc8-4ff6-88b1-0fae63d138e2",
   "metadata": {},
   "outputs": [
    {
     "name": "stdout",
     "output_type": "stream",
     "text": [
      "              precision    recall  f1-score   support\n",
      "\n",
      "        -1.0       0.53      1.00      0.70       196\n",
      "         1.0       1.00      0.07      0.13       185\n",
      "\n",
      "    accuracy                           0.55       381\n",
      "   macro avg       0.77      0.54      0.41       381\n",
      "weighted avg       0.76      0.55      0.42       381\n",
      "\n"
     ]
    }
   ],
   "source": [
    "print(metrics.classification_report(ytest, perc2.predict(xtest)))"
   ]
  },
  {
   "cell_type": "code",
   "execution_count": 7,
   "id": "330e4cf3-f2eb-4d9c-ad74-319724c0baa3",
   "metadata": {},
   "outputs": [
    {
     "data": {
      "text/plain": [
       "<sklearn.metrics._plot.confusion_matrix.ConfusionMatrixDisplay at 0x7fd221a61d10>"
      ]
     },
     "execution_count": 7,
     "metadata": {},
     "output_type": "execute_result"
    },
    {
     "data": {
      "image/png": "[encoded data removed]",
      "text/plain": [
       "<Figure size 432x288 with 2 Axes>"
      ]
     },
     "metadata": {
      "needs_background": "light"
     },
     "output_type": "display_data"
    }
   ],
   "source": [
    "pca = PCA(n_components=10, random_state=1)\n",
    "x_red_tr = pca.fit_transform(xtrain)\n",
    "perc = Perceptron(random_state=42, eta0=1, shuffle=True, alpha=0)\n",
    "perc.fit(x_red_tr, ytrain)\n",
    "\n",
    "x_red_ts = pca.fit_transform(xtest)\n",
    "\n",
    "metrics.plot_confusion_matrix(perc, x_red_ts, ytest)\n",
    "\n"
   ]
  },
  {
   "cell_type": "code",
   "execution_count": 47,
   "id": "ea2ade06-3bc6-410c-ae66-99ad89e630ce",
   "metadata": {},
   "outputs": [
    {
     "data": {
      "text/plain": [
       "<sklearn.metrics._plot.confusion_matrix.ConfusionMatrixDisplay at 0x7f4ac97090d0>"
      ]
     },
     "execution_count": 47,
     "metadata": {},
     "output_type": "execute_result"
    },
    {
     "data": {
      "image/png": "[encoded data removed]",
      "text/plain": [
       "<Figure size 432x288 with 2 Axes>"
      ]
     },
     "metadata": {
      "needs_background": "light"
     },
     "output_type": "display_data"
    }
   ],
   "source": [
    "pca = PCA(n_components=10, random_state=1)\n",
    "x_red_tr = pca.fit_transform(xtrain)\n",
    "perc = Perceptron(random_state=42, eta0=1, max_iter=100, shuffle=True, alpha=0)\n",
    "perc.fit(x_red_tr, ytrain)\n",
    "\n",
    "x_red_ts = pca.fit_transform(xtest)\n",
    "\n",
    "metrics.plot_confusion_matrix(perc, x_red_ts, ytest)"
   ]
  },
  {
   "cell_type": "code",
   "execution_count": 49,
   "id": "48b3b1e2-8c85-43e0-a2e6-ddc1c183cc36",
   "metadata": {},
   "outputs": [
    {
     "name": "stdout",
     "output_type": "stream",
     "text": [
      "              precision    recall  f1-score   support\n",
      "\n",
      "        -1.0       0.58      0.63      0.60       196\n",
      "         1.0       0.57      0.51      0.54       185\n",
      "\n",
      "    accuracy                           0.57       381\n",
      "   macro avg       0.57      0.57      0.57       381\n",
      "weighted avg       0.57      0.57      0.57       381\n",
      "\n"
     ]
    }
   ],
   "source": [
    "print(metrics.classification_report(ytest, perc.predict(x_red_ts)))"
   ]
  },
  {
   "cell_type": "code",
   "execution_count": null,
   "id": "a34fbea9-19dd-4f13-bee0-b1dcca42adf7",
   "metadata": {},
   "outputs": [],
   "source": []
  }
 ],
 "metadata": {
  "kernelspec": {
   "display_name": "Python 3 (ipykernel)",
   "language": "python",
   "name": "python3"
  },
  "language_info": {
   "codemirror_mode": {
    "name": "ipython",
    "version": 3
   },
   "file_extension": ".py",
   "mimetype": "text/x-python",
   "name": "python",
   "nbconvert_exporter": "python",
   "pygments_lexer": "ipython3",
   "version": "3.7.11"
  }
 },
 "nbformat": 4,
 "nbformat_minor": 5
}
