{
 "cells": [
  {
   "cell_type": "code",
   "execution_count": 1,
   "id": "49e78afb-09e0-4b03-856b-40e8e0ac517f",
   "metadata": {},
   "outputs": [],
   "source": [
    "from sklearn.feature_extraction.text import CountVectorizer"
   ]
  },
  {
   "cell_type": "code",
   "execution_count": 2,
   "id": "4948dac7-952f-4766-aa05-3942f9c7d35f",
   "metadata": {},
   "outputs": [],
   "source": [
    "cv = CountVectorizer()"
   ]
  },
  {
   "cell_type": "code",
   "execution_count": 3,
   "id": "bdae676f-bf36-46fd-8b86-3a110c628928",
   "metadata": {},
   "outputs": [],
   "source": [
    "text = text_data=[\n",
    "    'A metaverse is a network of 3D virtual worlds focused on social connection.',\n",
    "    'In futurism and science fiction, the term is often described as a hypothetical iteration of the Internet as a single', \n",
    "    'universal virtual world that is facilitated by the use of virtual and augmented reality headsets.',\n",
    "    'The term \"metaverse\" has its origins  the 1992 science fiction novel Snow Crash as a portmanteau of \"meta\" and \"universe.\"',\n",
    "    'Various metaverses have been developed for popular use such as virtual world platforms like Second Life.',\n",
    "    'Some metaverse iterations involve integration between virtual and physical spaces and virtual economies',\n",
    "    'often including a significant interest in advancing virtual reality technology.', \n",
    "    'The term has seen considerable use as a buzzword for public relations purposes to exaggerate development progress for various related technologies and projects.[10] Information privacy and user addiction are concerns within metaverses',\n",
    "    'stemming from challenges facing the social media and video game industries as a whole.']"
   ]
  },
  {
   "cell_type": "code",
   "execution_count": 4,
   "id": "4b84254b-772d-4321-890a-391e4405b67a",
   "metadata": {},
   "outputs": [],
   "source": [
    "X = cv.fit_transform(text)"
   ]
  },
  {
   "cell_type": "code",
   "execution_count": 5,
   "id": "4b72899e-b4a5-4552-8bd8-e41a3d983664",
   "metadata": {},
   "outputs": [
    {
     "data": {
      "text/plain": [
       "(9, 99)"
      ]
     },
     "execution_count": 5,
     "metadata": {},
     "output_type": "execute_result"
    }
   ],
   "source": [
    "X.shape"
   ]
  },
  {
   "cell_type": "code",
   "execution_count": 7,
   "id": "f23d8d76-1ff0-4e39-be80-1d71abca0bf1",
   "metadata": {},
   "outputs": [
    {
     "data": {
      "text/plain": [
       "(9, 20)"
      ]
     },
     "execution_count": 7,
     "metadata": {},
     "output_type": "execute_result"
    }
   ],
   "source": [
    "cv = CountVectorizer(min_df=2)\n",
    "X = cv.fit_transform(text)\n",
    "X.shape"
   ]
  },
  {
   "cell_type": "code",
   "execution_count": 8,
   "id": "7c7c4e37-7bfe-4ff4-92d1-76a5e62ac0ed",
   "metadata": {},
   "outputs": [
    {
     "data": {
      "text/plain": [
       "CountVectorizer(min_df=2)"
      ]
     },
     "execution_count": 8,
     "metadata": {},
     "output_type": "execute_result"
    }
   ],
   "source": [
    "cv1 = CountVectorizer()\n",
    "cv2 = CountVectorizer(min_df=2)\n",
    "\n",
    "cv1.fit(text)\n",
    "cv2.fit(text)"
   ]
  },
  {
   "cell_type": "code",
   "execution_count": 10,
   "id": "4cd008ca-61f8-4d04-8538-3c3a9eb7dcbd",
   "metadata": {},
   "outputs": [
    {
     "data": {
      "text/plain": [
       "{'metaverse': 7,\n",
       " 'is': 6,\n",
       " 'of': 9,\n",
       " 'virtual': 18,\n",
       " 'social': 13,\n",
       " 'in': 5,\n",
       " 'and': 0,\n",
       " 'science': 12,\n",
       " 'fiction': 2,\n",
       " 'the': 15,\n",
       " 'term': 14,\n",
       " 'often': 10,\n",
       " 'as': 1,\n",
       " 'world': 19,\n",
       " 'use': 16,\n",
       " 'reality': 11,\n",
       " 'has': 4,\n",
       " 'various': 17,\n",
       " 'metaverses': 8,\n",
       " 'for': 3}"
      ]
     },
     "execution_count": 10,
     "metadata": {},
     "output_type": "execute_result"
    }
   ],
   "source": [
    "cv2.vocabulary_"
   ]
  },
  {
   "cell_type": "code",
   "execution_count": 11,
   "id": "1061738d-60cf-4516-a163-fc53dfb1eb74",
   "metadata": {},
   "outputs": [
    {
     "data": {
      "text/plain": [
       "array([[0, 0, 1, 1, 0, 1, 0, 1, 0, 1],\n",
       "       [0, 2, 0, 1, 0, 0, 1, 1, 0, 1],\n",
       "       [1, 0, 0, 1, 1, 0, 0, 1, 1, 1]])"
      ]
     },
     "execution_count": 11,
     "metadata": {},
     "output_type": "execute_result"
    }
   ],
   "source": [
    "docs = ['This is the first question.', 'This document is the second document.', 'And this is the third one' ]\n",
    "cv1.fit_transform(docs).toarray()"
   ]
  },
  {
   "cell_type": "code",
   "execution_count": 13,
   "id": "b36d3baa-eb55-4b4f-a2f3-944256f700f1",
   "metadata": {},
   "outputs": [],
   "source": [
    "import numpy as np\n",
    "\n",
    "def k_closest(X, p, k):\n",
    "    return\n",
    "\n",
    "X = np.asarray([[72, 69 ,82],\n",
    "                [ 9 ,79, 99],\n",
    "                [20 ,47, 88],\n",
    "                [80 ,64, 49]])\n",
    "p = np.asarray([[0,0,0]])\n",
    "k=1 "
   ]
  },
  {
   "cell_type": "code",
   "execution_count": 14,
   "id": "cecf84cf-b49a-484d-acd1-acd5fd6843e6",
   "metadata": {},
   "outputs": [
    {
     "data": {
      "text/plain": [
       "array([129.10848152, 126.97637576, 101.74969287, 113.56495938])"
      ]
     },
     "execution_count": 14,
     "metadata": {},
     "output_type": "execute_result"
    }
   ],
   "source": [
    "np.linalg.norm(X, axis=1)"
   ]
  },
  {
   "cell_type": "code",
   "execution_count": 15,
   "id": "6736bafa-0e58-4744-bd4a-382e0d6914df",
   "metadata": {},
   "outputs": [],
   "source": [
    "from sklearn.neighbors import NearestNeighbors"
   ]
  },
  {
   "cell_type": "code",
   "execution_count": 21,
   "id": "68ed4f93-fb29-43d8-8f1f-456a7a9acf8e",
   "metadata": {},
   "outputs": [],
   "source": [
    "nn = NearestNeighbors(n_neighbors=1)"
   ]
  },
  {
   "cell_type": "code",
   "execution_count": 23,
   "id": "90f690ee-d4b4-4104-8a05-816166e937fa",
   "metadata": {},
   "outputs": [
    {
     "data": {
      "text/plain": [
       "NearestNeighbors(n_neighbors=1)"
      ]
     },
     "execution_count": 23,
     "metadata": {},
     "output_type": "execute_result"
    }
   ],
   "source": [
    "nn.fit(X)"
   ]
  },
  {
   "cell_type": "code",
   "execution_count": 25,
   "id": "9fd63a22-6e24-4f45-8562-bf8ad8d111a3",
   "metadata": {},
   "outputs": [
    {
     "data": {
      "text/plain": [
       "array([[2]])"
      ]
     },
     "execution_count": 25,
     "metadata": {},
     "output_type": "execute_result"
    }
   ],
   "source": [
    "nn.kneighbors(p, return_distance=False)"
   ]
  },
  {
   "cell_type": "code",
   "execution_count": 27,
   "id": "34ac4975-1766-4604-b47c-5c8d3ff95839",
   "metadata": {},
   "outputs": [
    {
     "data": {
      "text/plain": [
       "array([[20, 47, 88]])"
      ]
     },
     "execution_count": 27,
     "metadata": {},
     "output_type": "execute_result"
    }
   ],
   "source": [
    "X[[2]]"
   ]
  },
  {
   "cell_type": "code",
   "execution_count": 28,
   "id": "f1993dad-1b22-4583-925b-e455b7e81217",
   "metadata": {},
   "outputs": [
    {
     "data": {
      "text/plain": [
       "array([0., 2., 2.])"
      ]
     },
     "execution_count": 28,
     "metadata": {},
     "output_type": "execute_result"
    }
   ],
   "source": [
    "def distance(x0, X, p=2):\n",
    "    return np.sum(np.abs(X - x0) ** p, axis=1) ** (1 / p)\n",
    "\n",
    "x0 = np.array([1,0,0,0])\n",
    "X= np.asarray([\n",
    "    [1, 0, 0,0],\n",
    "    [0, 1, 1,1],\n",
    "    [1,2,0,0]\n",
    "])\n",
    "distance(x0, X)"
   ]
  },
  {
   "cell_type": "code",
   "execution_count": 29,
   "id": "a3639bdb-d602-4fad-acb5-d8bef98db53f",
   "metadata": {},
   "outputs": [],
   "source": [
    "from sklearn.datasets import load_digits\n",
    "from sklearn.model_selection import train_test_split\n",
    "from sklearn.preprocessing import StandardScaler\n",
    "from sklearn.linear_model import LogisticRegression"
   ]
  },
  {
   "cell_type": "code",
   "execution_count": 30,
   "id": "774b4670-d5e0-4ab9-8aaa-50316c4de6ca",
   "metadata": {},
   "outputs": [],
   "source": [
    "digits = load_digits()\n",
    "xtrain, xtest, ytrain, ytest = train_test_split(digits.data, digits.target, test_size=0.2, random_state=10)"
   ]
  },
  {
   "cell_type": "code",
   "execution_count": 32,
   "id": "ef6fe040-e05f-43c9-949c-1264c4d94ceb",
   "metadata": {},
   "outputs": [
    {
     "data": {
      "text/plain": [
       "(1797, 64)"
      ]
     },
     "execution_count": 32,
     "metadata": {},
     "output_type": "execute_result"
    }
   ],
   "source": [
    "digits.data.shape"
   ]
  },
  {
   "cell_type": "code",
   "execution_count": 33,
   "id": "90d11cca-f537-4f74-95eb-413d0b4c00f6",
   "metadata": {},
   "outputs": [
    {
     "data": {
      "text/plain": [
       "(10,)"
      ]
     },
     "execution_count": 33,
     "metadata": {},
     "output_type": "execute_result"
    }
   ],
   "source": [
    "np.unique(digits.target).shape"
   ]
  },
  {
   "cell_type": "code",
   "execution_count": 34,
   "id": "e7b1f8b3-5a06-4383-9458-5a4ce15b2620",
   "metadata": {},
   "outputs": [
    {
     "data": {
      "text/plain": [
       "179"
      ]
     },
     "execution_count": 34,
     "metadata": {},
     "output_type": "execute_result"
    }
   ],
   "source": [
    "(digits.target == 7).sum()"
   ]
  },
  {
   "cell_type": "code",
   "execution_count": 35,
   "id": "7c7f6eda-0b53-42c0-9721-3c7f57ef4f47",
   "metadata": {},
   "outputs": [],
   "source": [
    "scaler = StandardScaler()\n",
    "x_tr = scaler.fit_transform(xtrain)\n",
    "x_ts = scaler.transform(xtest)\n",
    "lr = LogisticRegression(multi_class='multinomial', solver='sag')"
   ]
  },
  {
   "cell_type": "code",
   "execution_count": 36,
   "id": "b110536f-147d-48c9-9967-a5474d862a2d",
   "metadata": {},
   "outputs": [
    {
     "name": "stderr",
     "output_type": "stream",
     "text": [
      "/home/jaidevd/conda/lib/python3.7/site-packages/sklearn/linear_model/_sag.py:354: ConvergenceWarning: The max_iter was reached which means the coef_ did not converge\n",
      "  ConvergenceWarning,\n"
     ]
    },
    {
     "data": {
      "text/plain": [
       "LogisticRegression(multi_class='multinomial', solver='sag')"
      ]
     },
     "execution_count": 36,
     "metadata": {},
     "output_type": "execute_result"
    }
   ],
   "source": [
    "lr.fit(x_tr, ytrain)"
   ]
  },
  {
   "cell_type": "code",
   "execution_count": 37,
   "id": "8c249230-2b5e-4456-92d0-ca500d63ee51",
   "metadata": {},
   "outputs": [
    {
     "data": {
      "text/plain": [
       "0.9666666666666667"
      ]
     },
     "execution_count": 37,
     "metadata": {},
     "output_type": "execute_result"
    }
   ],
   "source": [
    "lr.score(x_ts, ytest)"
   ]
  },
  {
   "cell_type": "code",
   "execution_count": 38,
   "id": "de8ebbad-bfac-49de-a2df-1b821aaa75b5",
   "metadata": {},
   "outputs": [],
   "source": [
    "from sklearn.metrics import f1_score"
   ]
  },
  {
   "cell_type": "code",
   "execution_count": 40,
   "id": "5e2bef19-6384-4ecb-a4ff-983a99d0aaaf",
   "metadata": {},
   "outputs": [
    {
     "data": {
      "text/plain": [
       "0.966907732026411"
      ]
     },
     "execution_count": 40,
     "metadata": {},
     "output_type": "execute_result"
    }
   ],
   "source": [
    "f1_score(ytest, lr.predict(x_ts), average='weighted')"
   ]
  },
  {
   "cell_type": "code",
   "execution_count": null,
   "id": "2ff3185d-40a6-4265-ac93-64a061e33361",
   "metadata": {},
   "outputs": [],
   "source": []
  }
 ],
 "metadata": {
  "kernelspec": {
   "display_name": "Python 3 (ipykernel)",
   "language": "python",
   "name": "python3"
  },
  "language_info": {
   "codemirror_mode": {
    "name": "ipython",
    "version": 3
   },
   "file_extension": ".py",
   "mimetype": "text/x-python",
   "name": "python",
   "nbconvert_exporter": "python",
   "pygments_lexer": "ipython3",
   "version": "3.7.11"
  }
 },
 "nbformat": 4,
 "nbformat_minor": 5
}
