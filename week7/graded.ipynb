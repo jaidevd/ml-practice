{
 "cells": [
  {
   "cell_type": "code",
   "execution_count": 2,
   "id": "365dbdf0-2c3c-467f-b00c-e0fba990c44c",
   "metadata": {},
   "outputs": [],
   "source": [
    "import pandas as pd\n",
    "df = pd.read_csv('data_for_large_scale.csv')\n",
    "y = df['Target'].values\n",
    "X = df.drop(['Target'], axis=1).values"
   ]
  },
  {
   "cell_type": "code",
   "execution_count": 3,
   "id": "d8967429-3f29-46bc-a030-0818204459a7",
   "metadata": {},
   "outputs": [
    {
     "data": {
      "text/plain": [
       "array([[-1.58  ,  1.05  ,  1.06  , ...,  0.265 ,  0.268 , -0.851 ],\n",
       "       [-0.832 , -0.866 , -1.34  , ...,  0.135 , -0.088 , -1.55  ],\n",
       "       [-0.237 ,  2.09  , -3.93  , ..., -0.0287,  1.82  ,  0.938 ],\n",
       "       ...,\n",
       "       [ 0.509 , -0.322 ,  0.681 , ...,  0.727 , -1.94  , -2.01  ],\n",
       "       [ 0.36  ,  1.25  ,  0.651 , ..., -0.367 , -1.28  , -1.1   ],\n",
       "       [-0.86  , -0.601 ,  0.739 , ..., -0.483 , -1.38  ,  1.11  ]])"
      ]
     },
     "execution_count": 3,
     "metadata": {},
     "output_type": "execute_result"
    }
   ],
   "source": [
    "X"
   ]
  },
  {
   "cell_type": "code",
   "execution_count": 4,
   "id": "e59f26c3-822d-4c10-a64f-3ed8b6a76af6",
   "metadata": {},
   "outputs": [
    {
     "data": {
      "text/plain": [
       "array([  84.7, -211. ,  -96.9, ...,  -80.2,  158. , -369. ])"
      ]
     },
     "execution_count": 4,
     "metadata": {},
     "output_type": "execute_result"
    }
   ],
   "source": [
    "y"
   ]
  },
  {
   "cell_type": "code",
   "execution_count": 15,
   "id": "43155cbe-ca22-4d72-9d35-4e6e79597eec",
   "metadata": {},
   "outputs": [],
   "source": [
    "from sklearn.model_selection import train_test_split\n",
    "xtrain, xtest, ytrain, ytest = train_test_split(X, y, random_state=10, train_size=63000)"
   ]
  },
  {
   "cell_type": "code",
   "execution_count": 16,
   "id": "7a7113b8-6919-46e7-8c5d-a541a3e70cd4",
   "metadata": {},
   "outputs": [
    {
     "data": {
      "text/plain": [
       "(63000, 10)"
      ]
     },
     "execution_count": 16,
     "metadata": {},
     "output_type": "execute_result"
    }
   ],
   "source": [
    "xtrain.shape"
   ]
  },
  {
   "cell_type": "code",
   "execution_count": 17,
   "id": "840f7d3f-1644-45a5-8930-58990f056d94",
   "metadata": {},
   "outputs": [
    {
     "data": {
      "text/plain": [
       "(63000,)"
      ]
     },
     "execution_count": 17,
     "metadata": {},
     "output_type": "execute_result"
    }
   ],
   "source": [
    "ytrain.shape"
   ]
  },
  {
   "cell_type": "code",
   "execution_count": 18,
   "id": "d422c1d3-1b0f-4ee5-a440-487be4833c70",
   "metadata": {},
   "outputs": [
    {
     "data": {
      "text/plain": [
       "(27000, 10)"
      ]
     },
     "execution_count": 18,
     "metadata": {},
     "output_type": "execute_result"
    }
   ],
   "source": [
    "xtest.shape"
   ]
  },
  {
   "cell_type": "code",
   "execution_count": 19,
   "id": "acaf360d-1074-4e82-ae0e-ca2130d4664a",
   "metadata": {},
   "outputs": [
    {
     "data": {
      "text/plain": [
       "(27000,)"
      ]
     },
     "execution_count": 19,
     "metadata": {},
     "output_type": "execute_result"
    }
   ],
   "source": [
    "ytest.shape"
   ]
  },
  {
   "cell_type": "code",
   "execution_count": 10,
   "id": "b70fae4e-79fa-4ed9-ae05-01d88a1d9b1c",
   "metadata": {},
   "outputs": [],
   "source": [
    "from sklearn.linear_model import SGDRegressor"
   ]
  },
  {
   "cell_type": "code",
   "execution_count": 11,
   "id": "4ded35fc-3c60-4a6e-9c9b-3ab679db3c5b",
   "metadata": {},
   "outputs": [],
   "source": [
    "clf = SGDRegressor(random_state=10)"
   ]
  },
  {
   "cell_type": "code",
   "execution_count": 12,
   "id": "95387c11-4507-4a1a-8ce6-af8f008e1772",
   "metadata": {},
   "outputs": [
    {
     "data": {
      "text/plain": [
       "(90000, 10)"
      ]
     },
     "execution_count": 12,
     "metadata": {},
     "output_type": "execute_result"
    }
   ],
   "source": [
    "X.shape"
   ]
  },
  {
   "cell_type": "code",
   "execution_count": 21,
   "id": "72d69338-4dbf-485c-8ed2-3279ddaac26e",
   "metadata": {},
   "outputs": [],
   "source": [
    "import numpy as np"
   ]
  },
  {
   "cell_type": "code",
   "execution_count": 25,
   "id": "c482ab5e-7f31-4fd8-8830-96ba0a731336",
   "metadata": {},
   "outputs": [],
   "source": [
    "x_chunks = np.split(xtrain, 63000 / 90)\n",
    "y_chunks = np.split(ytrain, 63000 / 90)"
   ]
  },
  {
   "cell_type": "code",
   "execution_count": 34,
   "id": "3f3e05ea-514b-4608-ba82-93d3a8d3318a",
   "metadata": {},
   "outputs": [
    {
     "name": "stdout",
     "output_type": "stream",
     "text": [
      "56.05563939842212\n"
     ]
    }
   ],
   "source": [
    "clf = SGDRegressor(random_state=10)\n",
    "for i, (xx, yy) in enumerate(zip(x_chunks, y_chunks)):\n",
    "    clf.partial_fit(xx, yy)\n",
    "    if i == 4:\n",
    "        print(clf.coef_[4])"
   ]
  },
  {
   "cell_type": "markdown",
   "id": "9acbe347-1345-489b-b573-b201039be52a",
   "metadata": {},
   "source": [
    "---"
   ]
  },
  {
   "cell_type": "code",
   "execution_count": 35,
   "id": "8785c711-8afa-439c-8e50-dc10295da1a5",
   "metadata": {},
   "outputs": [],
   "source": [
    "from sklearn.preprocessing import StandardScaler"
   ]
  },
  {
   "cell_type": "code",
   "execution_count": 58,
   "id": "dfce278e-8fe0-464e-b8ea-0f3334ca1ae4",
   "metadata": {},
   "outputs": [
    {
     "name": "stdout",
     "output_type": "stream",
     "text": [
      "[1266649.4803808]\n",
      "[  9189.18646607 -23769.10797827]\n"
     ]
    }
   ],
   "source": [
    "scaler = StandardScaler()\n",
    "n_samples = 0\n",
    "\n",
    "for df in pd.read_csv('3D_spatial_network.txt', header=None, names=['id', 'long', 'lat', 'alt'], chunksize=20000, iterator=True, index_col='id'):\n",
    "    n_samples += df.shape[0]\n",
    "    # scaler.partial_fit(df.values)\n",
    "    \n",
    "\n",
    "\n",
    "clf = SGDRegressor(random_state=10)\n",
    "for i, df in enumerate(pd.read_csv('3D_spatial_network.txt', header=None, names=['id', 'long', 'lat', 'alt'], chunksize=20000, iterator=True, index_col='id')):\n",
    "    #scaled = scaler.transform(df.values)\n",
    "    # x = scaled[:, :-1]\n",
    "    # y = scaled[:, -1]\n",
    "    # x = scaler.transform(x)\n",
    "    x = df.drop(['alt'], axis=1).values\n",
    "    y = df['alt'].values\n",
    "    clf.partial_fit(x, y)\n",
    "    if i == 6:\n",
    "        print(clf.intercept_)\n",
    "        print(clf.coef_)"
   ]
  },
  {
   "cell_type": "code",
   "execution_count": 57,
   "id": "1b401876-bf94-4e3d-954a-502a6750ce22",
   "metadata": {},
   "outputs": [
    {
     "data": {
      "text/plain": [
       "array([1.06046802, 1.05113236])"
      ]
     },
     "execution_count": 57,
     "metadata": {},
     "output_type": "execute_result"
    }
   ],
   "source": [
    "x.std(axis=0)"
   ]
  },
  {
   "cell_type": "markdown",
   "id": "2bf52123-b58b-4da2-a8b6-1cbbb4b26ad6",
   "metadata": {},
   "source": [
    "---"
   ]
  },
  {
   "cell_type": "code",
   "execution_count": 59,
   "id": "477a9bc9-338e-4734-a92f-70129b6b1fe6",
   "metadata": {},
   "outputs": [],
   "source": [
    "from sklearn.datasets import load_iris\n",
    "from sklearn import neighbors as nn\n",
    "iris = load_iris()"
   ]
  },
  {
   "cell_type": "code",
   "execution_count": 60,
   "id": "f8533714-7266-4677-88bf-dca9ae03b7d4",
   "metadata": {},
   "outputs": [],
   "source": [
    "from sklearn.preprocessing import Normalizer"
   ]
  },
  {
   "cell_type": "code",
   "execution_count": 61,
   "id": "a37c4587-0796-4be2-96f6-3f32cd10d88c",
   "metadata": {},
   "outputs": [],
   "source": [
    "norm = Normalizer()\n",
    "data = norm.fit_transform(iris.data)"
   ]
  },
  {
   "cell_type": "code",
   "execution_count": 62,
   "id": "d73877fd-917c-4a84-b5ad-2f8cbadcd419",
   "metadata": {},
   "outputs": [],
   "source": [
    "xtrain, xtest, ytrain, ytest = train_test_split(data, iris.target, test_size=0.2, random_state=10)"
   ]
  },
  {
   "cell_type": "code",
   "execution_count": 63,
   "id": "c8af39f2-6f09-444d-b730-2ac1f4f9488d",
   "metadata": {},
   "outputs": [
    {
     "name": "stdout",
     "output_type": "stream",
     "text": [
      "0.9666666666666667\n",
      "0.9666666666666667\n",
      "0.9666666666666667\n"
     ]
    }
   ],
   "source": [
    "for k in [2, 3, 4]:\n",
    "    knn = nn.KNeighborsClassifier(n_neighbors=k)\n",
    "    knn.fit(xtrain, ytrain)\n",
    "    print(knn.score(xtest, ytest))"
   ]
  },
  {
   "cell_type": "code",
   "execution_count": 64,
   "id": "41752fe7-375b-4bd3-bf6e-5e267c53da60",
   "metadata": {},
   "outputs": [],
   "source": [
    "knn = nn.KNeighborsClassifier(n_neighbors=3)\n",
    "knn.fit(xtrain, ytrain)\n",
    "y_pred = knn.predict(xtest)"
   ]
  },
  {
   "cell_type": "code",
   "execution_count": 65,
   "id": "43f4dde3-c2b0-4550-9eb8-d87b5dda5d23",
   "metadata": {},
   "outputs": [],
   "source": [
    "from sklearn.metrics import f1_score"
   ]
  },
  {
   "cell_type": "code",
   "execution_count": 66,
   "id": "f2f0f018-cc4b-4269-b2b3-411bf0f38157",
   "metadata": {},
   "outputs": [
    {
     "data": {
      "text/plain": [
       "0.9671111111111111"
      ]
     },
     "execution_count": 66,
     "metadata": {},
     "output_type": "execute_result"
    }
   ],
   "source": [
    "f1_score(ytest, y_pred, average='weighted')"
   ]
  },
  {
   "cell_type": "code",
   "execution_count": null,
   "id": "b430436a-9f85-4e5b-870c-7ade61b94a08",
   "metadata": {},
   "outputs": [],
   "source": []
  }
 ],
 "metadata": {
  "kernelspec": {
   "display_name": "Python 3 (ipykernel)",
   "language": "python",
   "name": "python3"
  },
  "language_info": {
   "codemirror_mode": {
    "name": "ipython",
    "version": 3
   },
   "file_extension": ".py",
   "mimetype": "text/x-python",
   "name": "python",
   "nbconvert_exporter": "python",
   "pygments_lexer": "ipython3",
   "version": "3.7.11"
  }
 },
 "nbformat": 4,
 "nbformat_minor": 5
}
