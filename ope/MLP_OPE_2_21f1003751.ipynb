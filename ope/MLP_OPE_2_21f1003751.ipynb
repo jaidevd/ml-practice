{
  "nbformat": 4,
  "nbformat_minor": 0,
  "metadata": {
    "colab": {
      "name": "MLP_OPE_2_21f1003751.ipynb",
      "provenance": [],
      "collapsed_sections": []
    },
    "kernelspec": {
      "name": "python3",
      "display_name": "Python 3"
    },
    "language_info": {
      "name": "python"
    }
  },
  "cells": [
    {
      "cell_type": "markdown",
      "source": [
        "# MLP OPPE 2 Examination"
      ],
      "metadata": {
        "id": "FsEw40SmizCI"
      }
    },
    {
      "cell_type": "code",
      "source": [
        "import pandas as pd\n",
        "import numpy as np\n",
        "from sklearn import linear_model as lm\n",
        "from sklearn import preprocessing as prep\n",
        "from sklearn import model_selection as ms\n",
        "from sklearn import metrics\n",
        "\n",
        "import matplotlib.pyplot as plt"
      ],
      "metadata": {
        "id": "TVkeSg-dyFud"
      },
      "execution_count": 1,
      "outputs": []
    },
    {
      "cell_type": "code",
      "source": [
        "df = pd.read_csv('v4.csv')\n",
        "df.head()"
      ],
      "metadata": {
        "colab": {
          "base_uri": "https://localhost:8080/",
          "height": 206
        },
        "id": "iEnC9t1IydsQ",
        "outputId": "6a8b4c68-1b53-4bff-9610-0b03db1f7c82"
      },
      "execution_count": 2,
      "outputs": [
        {
          "output_type": "execute_result",
          "data": {
            "text/plain": [
              "  Buying Maint  Doors  Persons Lug_boot Safety Evaluation\n",
              "0    low   med      3        6      med    med       good\n",
              "1    low   med      2        4    small    med        acc\n",
              "2   high   med      3        4      med   high        acc\n",
              "3    med   low      4        4      big   high      vgood\n",
              "4  vhigh   med      3        6      big   high        acc"
            ],
            "text/html": [
              "\n",
              "  <div id=\"df-b41db844-0318-4676-9e75-475378147a58\">\n",
              "    <div class=\"colab-df-container\">\n",
              "      <div>\n",
              "<style scoped>\n",
              "    .dataframe tbody tr th:only-of-type {\n",
              "        vertical-align: middle;\n",
              "    }\n",
              "\n",
              "    .dataframe tbody tr th {\n",
              "        vertical-align: top;\n",
              "    }\n",
              "\n",
              "    .dataframe thead th {\n",
              "        text-align: right;\n",
              "    }\n",
              "</style>\n",
              "<table border=\"1\" class=\"dataframe\">\n",
              "  <thead>\n",
              "    <tr style=\"text-align: right;\">\n",
              "      <th></th>\n",
              "      <th>Buying</th>\n",
              "      <th>Maint</th>\n",
              "      <th>Doors</th>\n",
              "      <th>Persons</th>\n",
              "      <th>Lug_boot</th>\n",
              "      <th>Safety</th>\n",
              "      <th>Evaluation</th>\n",
              "    </tr>\n",
              "  </thead>\n",
              "  <tbody>\n",
              "    <tr>\n",
              "      <th>0</th>\n",
              "      <td>low</td>\n",
              "      <td>med</td>\n",
              "      <td>3</td>\n",
              "      <td>6</td>\n",
              "      <td>med</td>\n",
              "      <td>med</td>\n",
              "      <td>good</td>\n",
              "    </tr>\n",
              "    <tr>\n",
              "      <th>1</th>\n",
              "      <td>low</td>\n",
              "      <td>med</td>\n",
              "      <td>2</td>\n",
              "      <td>4</td>\n",
              "      <td>small</td>\n",
              "      <td>med</td>\n",
              "      <td>acc</td>\n",
              "    </tr>\n",
              "    <tr>\n",
              "      <th>2</th>\n",
              "      <td>high</td>\n",
              "      <td>med</td>\n",
              "      <td>3</td>\n",
              "      <td>4</td>\n",
              "      <td>med</td>\n",
              "      <td>high</td>\n",
              "      <td>acc</td>\n",
              "    </tr>\n",
              "    <tr>\n",
              "      <th>3</th>\n",
              "      <td>med</td>\n",
              "      <td>low</td>\n",
              "      <td>4</td>\n",
              "      <td>4</td>\n",
              "      <td>big</td>\n",
              "      <td>high</td>\n",
              "      <td>vgood</td>\n",
              "    </tr>\n",
              "    <tr>\n",
              "      <th>4</th>\n",
              "      <td>vhigh</td>\n",
              "      <td>med</td>\n",
              "      <td>3</td>\n",
              "      <td>6</td>\n",
              "      <td>big</td>\n",
              "      <td>high</td>\n",
              "      <td>acc</td>\n",
              "    </tr>\n",
              "  </tbody>\n",
              "</table>\n",
              "</div>\n",
              "      <button class=\"colab-df-convert\" onclick=\"convertToInteractive('df-b41db844-0318-4676-9e75-475378147a58')\"\n",
              "              title=\"Convert this dataframe to an interactive table.\"\n",
              "              style=\"display:none;\">\n",
              "        \n",
              "  <svg xmlns=\"http://www.w3.org/2000/svg\" height=\"24px\"viewBox=\"0 0 24 24\"\n",
              "       width=\"24px\">\n",
              "    <path d=\"M0 0h24v24H0V0z\" fill=\"none\"/>\n",
              "    <path d=\"M18.56 5.44l.94 2.06.94-2.06 2.06-.94-2.06-.94-.94-2.06-.94 2.06-2.06.94zm-11 1L8.5 8.5l.94-2.06 2.06-.94-2.06-.94L8.5 2.5l-.94 2.06-2.06.94zm10 10l.94 2.06.94-2.06 2.06-.94-2.06-.94-.94-2.06-.94 2.06-2.06.94z\"/><path d=\"M17.41 7.96l-1.37-1.37c-.4-.4-.92-.59-1.43-.59-.52 0-1.04.2-1.43.59L10.3 9.45l-7.72 7.72c-.78.78-.78 2.05 0 2.83L4 21.41c.39.39.9.59 1.41.59.51 0 1.02-.2 1.41-.59l7.78-7.78 2.81-2.81c.8-.78.8-2.07 0-2.86zM5.41 20L4 18.59l7.72-7.72 1.47 1.35L5.41 20z\"/>\n",
              "  </svg>\n",
              "      </button>\n",
              "      \n",
              "  <style>\n",
              "    .colab-df-container {\n",
              "      display:flex;\n",
              "      flex-wrap:wrap;\n",
              "      gap: 12px;\n",
              "    }\n",
              "\n",
              "    .colab-df-convert {\n",
              "      background-color: #E8F0FE;\n",
              "      border: none;\n",
              "      border-radius: 50%;\n",
              "      cursor: pointer;\n",
              "      display: none;\n",
              "      fill: #1967D2;\n",
              "      height: 32px;\n",
              "      padding: 0 0 0 0;\n",
              "      width: 32px;\n",
              "    }\n",
              "\n",
              "    .colab-df-convert:hover {\n",
              "      background-color: #E2EBFA;\n",
              "      box-shadow: 0px 1px 2px rgba(60, 64, 67, 0.3), 0px 1px 3px 1px rgba(60, 64, 67, 0.15);\n",
              "      fill: #174EA6;\n",
              "    }\n",
              "\n",
              "    [theme=dark] .colab-df-convert {\n",
              "      background-color: #3B4455;\n",
              "      fill: #D2E3FC;\n",
              "    }\n",
              "\n",
              "    [theme=dark] .colab-df-convert:hover {\n",
              "      background-color: #434B5C;\n",
              "      box-shadow: 0px 1px 3px 1px rgba(0, 0, 0, 0.15);\n",
              "      filter: drop-shadow(0px 1px 2px rgba(0, 0, 0, 0.3));\n",
              "      fill: #FFFFFF;\n",
              "    }\n",
              "  </style>\n",
              "\n",
              "      <script>\n",
              "        const buttonEl =\n",
              "          document.querySelector('#df-b41db844-0318-4676-9e75-475378147a58 button.colab-df-convert');\n",
              "        buttonEl.style.display =\n",
              "          google.colab.kernel.accessAllowed ? 'block' : 'none';\n",
              "\n",
              "        async function convertToInteractive(key) {\n",
              "          const element = document.querySelector('#df-b41db844-0318-4676-9e75-475378147a58');\n",
              "          const dataTable =\n",
              "            await google.colab.kernel.invokeFunction('convertToInteractive',\n",
              "                                                     [key], {});\n",
              "          if (!dataTable) return;\n",
              "\n",
              "          const docLinkHtml = 'Like what you see? Visit the ' +\n",
              "            '<a target=\"_blank\" href=https://colab.research.google.com/notebooks/data_table.ipynb>data table notebook</a>'\n",
              "            + ' to learn more about interactive tables.';\n",
              "          element.innerHTML = '';\n",
              "          dataTable['output_type'] = 'display_data';\n",
              "          await google.colab.output.renderOutput(dataTable, element);\n",
              "          const docLink = document.createElement('div');\n",
              "          docLink.innerHTML = docLinkHtml;\n",
              "          element.appendChild(docLink);\n",
              "        }\n",
              "      </script>\n",
              "    </div>\n",
              "  </div>\n",
              "  "
            ]
          },
          "metadata": {},
          "execution_count": 2
        }
      ]
    },
    {
      "cell_type": "markdown",
      "source": [
        "## Que 1\n",
        "Which dataset are you using for this exam?"
      ],
      "metadata": {
        "id": "aD2pjlKgYfnC"
      }
    },
    {
      "cell_type": "code",
      "source": [
        "# The dataset is v4.csv"
      ],
      "metadata": {
        "id": "24HJeUdGYhET"
      },
      "execution_count": 3,
      "outputs": []
    },
    {
      "cell_type": "markdown",
      "source": [
        "## Que 2\n",
        "\n",
        "Which of the columns in the dataset have null values?"
      ],
      "metadata": {
        "id": "NJTIVll4YoQD"
      }
    },
    {
      "cell_type": "code",
      "source": [
        "# We can check this with df.info()\n",
        "print(df.shape)\n",
        "df.info()"
      ],
      "metadata": {
        "id": "eTaIyRO-YoQF",
        "colab": {
          "base_uri": "https://localhost:8080/"
        },
        "outputId": "074423d7-9430-4bf8-dcf4-fbbb664c83fe"
      },
      "execution_count": 4,
      "outputs": [
        {
          "output_type": "stream",
          "name": "stdout",
          "text": [
            "(1500, 7)\n",
            "<class 'pandas.core.frame.DataFrame'>\n",
            "RangeIndex: 1500 entries, 0 to 1499\n",
            "Data columns (total 7 columns):\n",
            " #   Column      Non-Null Count  Dtype \n",
            "---  ------      --------------  ----- \n",
            " 0   Buying      1496 non-null   object\n",
            " 1   Maint       1500 non-null   object\n",
            " 2   Doors       1500 non-null   int64 \n",
            " 3   Persons     1500 non-null   int64 \n",
            " 4   Lug_boot    1500 non-null   object\n",
            " 5   Safety      1500 non-null   object\n",
            " 6   Evaluation  1500 non-null   object\n",
            "dtypes: int64(2), object(5)\n",
            "memory usage: 82.2+ KB\n"
          ]
        }
      ]
    },
    {
      "cell_type": "markdown",
      "source": [
        "So there are 1500 rows, and one column, 'Buying', has  1496 non-null values."
      ],
      "metadata": {
        "id": "ieW-s4IzzBaE"
      }
    },
    {
      "cell_type": "markdown",
      "source": [
        "## Que 3\n",
        "\n",
        "What are the unique Lug_boot values mentioned in the dataset?"
      ],
      "metadata": {
        "id": "_AjLjgtwYoeE"
      }
    },
    {
      "cell_type": "code",
      "source": [
        "df['Lug_boot'].unique()"
      ],
      "metadata": {
        "id": "AkUHAXmuYoeG",
        "colab": {
          "base_uri": "https://localhost:8080/"
        },
        "outputId": "f036919c-a1f2-4a6f-d92f-b516dffeb027"
      },
      "execution_count": 5,
      "outputs": [
        {
          "output_type": "execute_result",
          "data": {
            "text/plain": [
              "array(['med', 'small', 'big'], dtype=object)"
            ]
          },
          "metadata": {},
          "execution_count": 5
        }
      ]
    },
    {
      "cell_type": "markdown",
      "source": [
        "## Que 4\n",
        "\n",
        "Divide the dataset into X and y, where the column 'Evaluation' goes to y (labels) and the rest of the columns go to X (feature matrix). What is the distribution of unacc and acc classes in y?"
      ],
      "metadata": {
        "id": "TNopt59wYozG"
      }
    },
    {
      "cell_type": "code",
      "source": [
        "X = df.drop(['Evaluation'], axis=1)\n",
        "y = df['Evaluation']\n",
        "\n",
        "y.value_counts()"
      ],
      "metadata": {
        "id": "xR5eoBNJYozH",
        "colab": {
          "base_uri": "https://localhost:8080/"
        },
        "outputId": "2d9e0a4d-cfcb-41bd-9d4d-3a44b6f22eb7"
      },
      "execution_count": 6,
      "outputs": [
        {
          "output_type": "execute_result",
          "data": {
            "text/plain": [
              "unacc    1039\n",
              "acc       344\n",
              "good       59\n",
              "vgood      58\n",
              "Name: Evaluation, dtype: int64"
            ]
          },
          "metadata": {},
          "execution_count": 6
        }
      ]
    },
    {
      "cell_type": "markdown",
      "source": [
        "So the number of values for (unacc, acc) respectively are (1039, 344)"
      ],
      "metadata": {
        "id": "FOiO87lIzr1Q"
      }
    },
    {
      "cell_type": "markdown",
      "source": [
        "## Que 5\n",
        "\n",
        "Apply SimpleImputer with strategy = 'most_frequent' to transform X. What is the data type of the transformed X?"
      ],
      "metadata": {
        "id": "TBsjUBPMYpAF"
      }
    },
    {
      "cell_type": "code",
      "source": [
        "from sklearn.impute import SimpleImputer\n",
        "\n",
        "imputer = SimpleImputer(strategy='most_frequent')\n",
        "\n",
        "X_imputed = imputer.fit_transform(X)\n",
        "\n",
        "type(X_imputed)"
      ],
      "metadata": {
        "id": "Q-LdYac7YpAF",
        "colab": {
          "base_uri": "https://localhost:8080/"
        },
        "outputId": "e3c94027-39b4-4fd8-f8a0-f376aa841421"
      },
      "execution_count": 7,
      "outputs": [
        {
          "output_type": "execute_result",
          "data": {
            "text/plain": [
              "numpy.ndarray"
            ]
          },
          "metadata": {},
          "execution_count": 7
        }
      ]
    },
    {
      "cell_type": "markdown",
      "source": [
        "## Que 6\n",
        "\n",
        "If the X obtained in the previous question has any datatype other than DataFrame, convert it into DataFrame with columns being `['Buying', 'Maint', 'Doors', 'Persons', 'Lug_boot', 'Safety']`. Do not change the order of the columns in X or order of column names. How many missing values are there in X now?"
      ],
      "metadata": {
        "id": "MSnWq7inYpLj"
      }
    },
    {
      "cell_type": "code",
      "source": [
        "X_imputed = pd.DataFrame(X_imputed, columns=X.columns)\n",
        "pd.isna(X_imputed).sum().sum()"
      ],
      "metadata": {
        "id": "knm-E3nEYpLk",
        "colab": {
          "base_uri": "https://localhost:8080/"
        },
        "outputId": "181846f3-8e7b-48c4-d390-f778eb5aab44"
      },
      "execution_count": 8,
      "outputs": [
        {
          "output_type": "execute_result",
          "data": {
            "text/plain": [
              "0"
            ]
          },
          "metadata": {},
          "execution_count": 8
        }
      ]
    },
    {
      "cell_type": "markdown",
      "source": [
        "Should be zero, since this is the output of the imputer!"
      ],
      "metadata": {
        "id": "JbbyllaC003c"
      }
    },
    {
      "cell_type": "markdown",
      "source": [
        "## Que 7\n",
        "\n",
        "Apply OneHotEncoder on the categorical features ['Buying', 'Maint', 'Lug_boot', 'Safety'] with option (sparse = False) and StandardScaler on the numerical features ['Doors', 'Persons'] of X. Let's call the outputs of the first and second operations respectively to be X1 and X2.\n",
        "\n",
        "What are the data types of X1 and X2?"
      ],
      "metadata": {
        "id": "oXVlhz4cYpau"
      }
    },
    {
      "cell_type": "code",
      "source": [
        "cats = ['Buying', 'Maint', 'Lug_boot', 'Safety']\n",
        "nums = ['Doors', 'Persons']\n",
        "\n",
        "ohe = prep.OneHotEncoder(sparse=False)\n",
        "scaler = prep.StandardScaler()\n",
        "\n",
        "X1 = ohe.fit_transform(X_imputed[cats])\n",
        "X2 = scaler.fit_transform(X_imputed[nums])\n",
        "\n",
        "type(X1), type(X2)"
      ],
      "metadata": {
        "id": "XPA4tjhJYpau",
        "colab": {
          "base_uri": "https://localhost:8080/"
        },
        "outputId": "3096f5ec-a2bc-4629-9ac3-9fdc573b0cff"
      },
      "execution_count": 9,
      "outputs": [
        {
          "output_type": "execute_result",
          "data": {
            "text/plain": [
              "(numpy.ndarray, numpy.ndarray)"
            ]
          },
          "metadata": {},
          "execution_count": 9
        }
      ]
    },
    {
      "cell_type": "markdown",
      "source": [
        "## Que 8\n",
        "\n",
        "Concatenate X1 and X2 (in that order) and call it X.\n",
        "\n",
        "Hint and note: Keep axis = 1.\n",
        "\n",
        "Convert X to a dataframe. What is the shape of resultant X. Do not worry about the column names of this new dataframe.\n",
        "\n"
      ],
      "metadata": {
        "id": "WEYlKyD6Ypob"
      }
    },
    {
      "cell_type": "code",
      "source": [
        "X = np.c_[X1, X2]\n",
        "X = pd.DataFrame(X)\n",
        "\n",
        "X.shape"
      ],
      "metadata": {
        "id": "g2SmjUxSYpob",
        "colab": {
          "base_uri": "https://localhost:8080/"
        },
        "outputId": "6212b85e-c0fc-420c-eb5f-b634ca4979bb"
      },
      "execution_count": 10,
      "outputs": [
        {
          "output_type": "execute_result",
          "data": {
            "text/plain": [
              "(1500, 16)"
            ]
          },
          "metadata": {},
          "execution_count": 10
        }
      ]
    },
    {
      "cell_type": "code",
      "source": [
        "# Let's quickly verify this:\n",
        "\n",
        "# The number of rows should be the same as the number of original rows\n",
        "print(\"Number of rows is correct: \", len(X) == len(X_imputed))\n",
        "\n",
        "# Number of columns should be the sum of number of unique categories in each categorial column\n",
        "# + the number of numerical columns\n",
        "\n",
        "n_categories = 0\n",
        "for cat_feat in cats:\n",
        "  n_categories += X_imputed[cat_feat].nunique()\n",
        "\n",
        "# Add the number of numerical features\n",
        "total_feats = n_categories + len(nums)\n",
        "\n",
        "# Check the number of columns\n",
        "print(\"Number of columns is correct: \", total_feats == X.shape[1])"
      ],
      "metadata": {
        "colab": {
          "base_uri": "https://localhost:8080/"
        },
        "id": "mifaoRe81yAL",
        "outputId": "588ac9a5-f63e-4490-a329-4fcd590539a1"
      },
      "execution_count": 11,
      "outputs": [
        {
          "output_type": "stream",
          "name": "stdout",
          "text": [
            "Number of rows is correct:  True\n",
            "Number of columns is correct:  True\n"
          ]
        }
      ]
    },
    {
      "cell_type": "markdown",
      "source": [
        "## Que 9\n",
        "\n",
        "Split the dataset into training and test dataset into 80:20 ratio while keeping random_state =32. what is the shape of the X_train dataset?"
      ],
      "metadata": {
        "id": "auAKncpsYrde"
      }
    },
    {
      "cell_type": "code",
      "source": [
        "xtrain, xtest, ytrain, ytest = ms.train_test_split(X, y, test_size=0.2, random_state=32)\n",
        "xtrain.shape"
      ],
      "metadata": {
        "id": "ISFi4EwtYrdg",
        "colab": {
          "base_uri": "https://localhost:8080/"
        },
        "outputId": "39f62fe6-f43a-45c6-cc4e-04b1f450f02b"
      },
      "execution_count": 12,
      "outputs": [
        {
          "output_type": "execute_result",
          "data": {
            "text/plain": [
              "(1200, 16)"
            ]
          },
          "metadata": {},
          "execution_count": 12
        }
      ]
    },
    {
      "cell_type": "markdown",
      "source": [
        "## Que 10\n",
        "\n",
        "Instantiate a perceptron classifier with following parameters:\n",
        "* random_state = 32 \n",
        "* learning rate = 1 (eta0=1)\n",
        "* Train for 10 iterations (epoch) (max_iter=10)\n",
        "* Do not shuffle the dataset for each epoch (iteration).\n",
        "* Use 20% of the data for validation fraction .\n",
        "* Do not apply regularization.\n",
        "* Set fit_intercept to be True,\n",
        "* Set warm start to false .\n",
        "\n",
        "Train the classifier on the training data.\n",
        "\n",
        "What is the value of the coefficient of the 2nd feature for the first class. Note that the index of the classes and features start counting from 0."
      ],
      "metadata": {
        "id": "r45IVOWgYrdg"
      }
    },
    {
      "cell_type": "code",
      "source": [
        "# I'm assuming that early_stopping has to be True, otherwise validation fraction will not apply.\n",
        "\n",
        "perc = lm.Perceptron(random_state=32, eta0=1, max_iter=10, shuffle=False,\n",
        "                     alpha=0, early_stopping=True, validation_fraction=0.2,\n",
        "                     fit_intercept=True, warm_start=False)\n",
        "perc.fit(xtrain, ytrain)\n",
        "perc.coef_.shape"
      ],
      "metadata": {
        "id": "_V4tSSCUYrdh",
        "colab": {
          "base_uri": "https://localhost:8080/"
        },
        "outputId": "360d1404-dd56-4ce2-da78-c1a3ebadc142"
      },
      "execution_count": 13,
      "outputs": [
        {
          "output_type": "execute_result",
          "data": {
            "text/plain": [
              "(4, 16)"
            ]
          },
          "metadata": {},
          "execution_count": 13
        }
      ]
    },
    {
      "cell_type": "code",
      "source": [
        "# So four classes (rows) and 16 features (columns)\n",
        "# 2nd feature (column index 1) of first class (row index 0) would be:\n",
        "perc.coef_[0, 1]"
      ],
      "metadata": {
        "colab": {
          "base_uri": "https://localhost:8080/"
        },
        "id": "aZW92-VX4gw4",
        "outputId": "34655f0f-0292-4dc1-a3d6-d781f0dd11ec"
      },
      "execution_count": 14,
      "outputs": [
        {
          "output_type": "execute_result",
          "data": {
            "text/plain": [
              "-2.0"
            ]
          },
          "metadata": {},
          "execution_count": 14
        }
      ]
    },
    {
      "cell_type": "markdown",
      "source": [
        "## Que 11\n",
        "\n",
        "Apply logistic regression using SGDClassifier on the training dataset (X_train and y_train). Use the following parameters:\n",
        "* Apply appropriate loss value (i.e. log)\n",
        "* apply ridge regularization,\n",
        "* maximum number of passes over the training data is 10\n",
        "* initial learning rate is 0.01,\n",
        "* regularization rate value is 0.001,\n",
        "* learning rate should not change during training.\n",
        "* Take random_state=32.\n",
        "\n",
        "Based on this operation, calculate and mark the correct value of mean accuracy computed from score(X_train,y_train) (Upto 4 decimal points) from the given set of options.\n",
        "\n",
        "Note : Please ignore the convergence warning."
      ],
      "metadata": {
        "id": "aXKv5R9WYrdh"
      }
    },
    {
      "cell_type": "code",
      "source": [
        "clf = lm.SGDClassifier(loss='log', penalty='l2', max_iter=10,\n",
        "                       eta0=0.01, alpha=0.001, learning_rate='constant',\n",
        "                       random_state=32)\n",
        "clf.fit(xtrain, ytrain)\n",
        "clf.score(xtrain, ytrain)"
      ],
      "metadata": {
        "id": "kPkGFTbfYrdh",
        "colab": {
          "base_uri": "https://localhost:8080/"
        },
        "outputId": "06bb96f9-3f03-44e4-f66a-5b5c8f576b41"
      },
      "execution_count": 15,
      "outputs": [
        {
          "output_type": "stream",
          "name": "stderr",
          "text": [
            "/usr/local/lib/python3.7/dist-packages/sklearn/linear_model/_stochastic_gradient.py:700: ConvergenceWarning: Maximum number of iteration reached before convergence. Consider increasing max_iter to improve the fit.\n",
            "  ConvergenceWarning,\n"
          ]
        },
        {
          "output_type": "execute_result",
          "data": {
            "text/plain": [
              "0.8"
            ]
          },
          "metadata": {},
          "execution_count": 15
        }
      ]
    },
    {
      "cell_type": "markdown",
      "source": [
        "## Que 12\n",
        "\n",
        "Use LogisticRegression with RandomizedSearchCV for fitting on the training dataset. For Logistic regression,\n",
        "* use Saga solver,\n",
        "* random state to be equal to 32,\n",
        "* tolerance for stopping criteria to be 1e-2, and\n",
        "* maximum number of iterations taken for the solvers to converge to be 200.\n",
        "\n",
        "* Penalties to be tried out are L1 and L2.\n",
        "* Regularization strength (inverse of regularization rate) to be tried out is `[0.5, 1.0, 1.5, 2.0, 2.5, 3, 3.5, 4]`\n",
        "\n",
        "Search best values of C and penalty and mark the correct option from the following statements. For randomizedsearchCV also, take random state = 32"
      ],
      "metadata": {
        "id": "L1f6tplgYrdh"
      }
    },
    {
      "cell_type": "code",
      "source": [
        "# First build the classifier\n",
        "clf = lm.LogisticRegression(solver='saga', random_state=32, tol=1e-2,\n",
        "                            max_iter=200)\n",
        "\n",
        "# Create the parameter distribution\n",
        "param_dists = {\n",
        "    'penalty': ['l1', 'l2'],\n",
        "    'C': [0.5, 1.0, 1.5, 2.0, 2.5, 3, 3.5, 4]\n",
        "}\n",
        "\n",
        "# Run the search\n",
        "search = ms.RandomizedSearchCV(clf, param_dists, random_state=32, n_jobs=-1)\n",
        "search.fit(xtrain, ytrain)"
      ],
      "metadata": {
        "id": "5IuMAXLcYrdi",
        "colab": {
          "base_uri": "https://localhost:8080/"
        },
        "outputId": "93cdd772-ae57-4f1c-d8de-85a7a128a991"
      },
      "execution_count": 16,
      "outputs": [
        {
          "output_type": "execute_result",
          "data": {
            "text/plain": [
              "RandomizedSearchCV(estimator=LogisticRegression(max_iter=200, random_state=32,\n",
              "                                                solver='saga', tol=0.01),\n",
              "                   n_jobs=-1,\n",
              "                   param_distributions={'C': [0.5, 1.0, 1.5, 2.0, 2.5, 3, 3.5,\n",
              "                                              4],\n",
              "                                        'penalty': ['l1', 'l2']},\n",
              "                   random_state=32)"
            ]
          },
          "metadata": {},
          "execution_count": 16
        }
      ]
    },
    {
      "cell_type": "code",
      "source": [
        "search.best_params_"
      ],
      "metadata": {
        "colab": {
          "base_uri": "https://localhost:8080/"
        },
        "id": "zpsp42Se6mHf",
        "outputId": "f561c58b-4f34-4a69-93e4-d0279f6c6e43"
      },
      "execution_count": 17,
      "outputs": [
        {
          "output_type": "execute_result",
          "data": {
            "text/plain": [
              "{'C': 3.5, 'penalty': 'l2'}"
            ]
          },
          "metadata": {},
          "execution_count": 17
        }
      ]
    },
    {
      "cell_type": "markdown",
      "source": [
        "## Que 13\n",
        "\n",
        "Apply GridsearchCV and support vector classifier (SVC)\n",
        "\n",
        "* `kernel':('linear', 'rbf')`\n",
        "* `'C':[1, 10]` on the training dataset X_train, y_train and calculate the best value of C and kernel.\n",
        "\n",
        "use random_state = 32 for SVC\n",
        "\n"
      ],
      "metadata": {
        "id": "-q0mvcDDYrdi"
      }
    },
    {
      "cell_type": "code",
      "source": [
        "# Create svc instance\n",
        "from sklearn.svm import SVC\n",
        "\n",
        "svc = SVC(random_state=32)\n",
        "\n",
        "# Create the grid\n",
        "grid = {\n",
        "    'kernel': ['linear', 'rbf'],\n",
        "    'C': [1, 10]\n",
        "}\n",
        "\n",
        "# Do the grid search\n",
        "search = ms.GridSearchCV(svc, param_grid=grid, n_jobs=-1)\n",
        "search.fit(xtrain, ytrain)\n",
        "\n",
        "# See the best params\n",
        "search.best_params_"
      ],
      "metadata": {
        "id": "7mpYcUxsYrdi",
        "colab": {
          "base_uri": "https://localhost:8080/"
        },
        "outputId": "4b886d6e-014c-4e52-ee54-e8f0a77db7d9"
      },
      "execution_count": 18,
      "outputs": [
        {
          "output_type": "execute_result",
          "data": {
            "text/plain": [
              "{'C': 10, 'kernel': 'rbf'}"
            ]
          },
          "metadata": {},
          "execution_count": 18
        }
      ]
    },
    {
      "cell_type": "markdown",
      "source": [
        "## Que 14\n",
        "\n",
        "(Common Instruction for Q14 - Q15 )\n",
        "\n",
        "Use grid search with cross validation (GridSearchCV) on training set with \n",
        "* KNeighborsClassifier as the estimator,\n",
        "* 'accuracy' as scoring parameter,\n",
        "* cv value as 4 and\n",
        "* consider `[1,3,5,7]` as \"number of neighbors\" to be examined.\n",
        "\n",
        "Consider following parameters for KNeighborsClassifier:\n",
        "* Take metric as 'minkowski',\n",
        "* Set P value as 2\n",
        "keep other parameter value as default value.\n",
        "\n",
        "\n",
        "What is the best value of K you obtained using above instructions?"
      ],
      "metadata": {
        "id": "-9WCldTAYrdi"
      }
    },
    {
      "cell_type": "code",
      "source": [
        "from sklearn.neighbors import KNeighborsClassifier\n",
        "\n",
        "# Create the classifier\n",
        "knn = KNeighborsClassifier(metric='minkowski', p=2)\n",
        "\n",
        "# Make the grid and run search\n",
        "grid = {\n",
        "    'n_neighbors': [1, 3, 5, 7]\n",
        "}\n",
        "search = ms.GridSearchCV(knn, grid, scoring='accuracy', cv=4, n_jobs=-1)\n",
        "search.fit(xtrain, ytrain)\n",
        "\n",
        "# See the best params\n",
        "search.best_params_"
      ],
      "metadata": {
        "id": "XDQTgcJ5Yrdi",
        "colab": {
          "base_uri": "https://localhost:8080/"
        },
        "outputId": "f46ebeaf-ee0e-4d59-ffce-6583e53ed4d2"
      },
      "execution_count": 19,
      "outputs": [
        {
          "output_type": "execute_result",
          "data": {
            "text/plain": [
              "{'n_neighbors': 7}"
            ]
          },
          "metadata": {},
          "execution_count": 19
        }
      ]
    },
    {
      "cell_type": "markdown",
      "source": [
        "## Que 15\n",
        "\n",
        "What is the value of best accuracy score from grid search cv?\n"
      ],
      "metadata": {
        "id": "QDCCUHH2Yrdj"
      }
    },
    {
      "cell_type": "code",
      "source": [
        "search.best_score_"
      ],
      "metadata": {
        "id": "m8Mn9i22Yrdj",
        "colab": {
          "base_uri": "https://localhost:8080/"
        },
        "outputId": "080e31e0-d52a-4e89-f75e-10f368d99e42"
      },
      "execution_count": 20,
      "outputs": [
        {
          "output_type": "execute_result",
          "data": {
            "text/plain": [
              "0.91"
            ]
          },
          "metadata": {},
          "execution_count": 20
        }
      ]
    },
    {
      "cell_type": "markdown",
      "source": [
        "## Que 16\n",
        "\n",
        "Common Instructions for Q16-Q18\n",
        "\n",
        "Train the model using Decision Tree Classifier on training set. Set following parameters:\n",
        "\n",
        "* Take criterion as 'gini',\n",
        "* Set strategy to choose the split at each node as 'random',\n",
        "* minimum number of samples required to split an internal node = 5,\n",
        "* min_impurity_decrease = 0.001,\n",
        "* Use random_state = 32\n",
        "\n",
        "What is the mean accuracy score on test data upto 3 decimal places?\n"
      ],
      "metadata": {
        "id": "7RjuAfH0Yrdj"
      }
    },
    {
      "cell_type": "code",
      "source": [
        "from sklearn.tree import DecisionTreeClassifier\n",
        "\n",
        "# Create the tree\n",
        "tree = DecisionTreeClassifier(criterion='gini', splitter='random',\n",
        "                              min_samples_split=5, min_impurity_decrease=0.001,\n",
        "                              random_state=32)\n",
        "tree.fit(xtrain, ytrain)\n",
        "\n",
        "# mean accuracy score on test data\n",
        "tree.score(xtest, ytest)"
      ],
      "metadata": {
        "id": "_SiowIEAYrdj",
        "colab": {
          "base_uri": "https://localhost:8080/"
        },
        "outputId": "65904a7d-6a93-4b6d-fb73-da801d0a855d"
      },
      "execution_count": 21,
      "outputs": [
        {
          "output_type": "execute_result",
          "data": {
            "text/plain": [
              "0.95"
            ]
          },
          "metadata": {},
          "execution_count": 21
        }
      ]
    },
    {
      "cell_type": "markdown",
      "source": [
        "## Que 17\n",
        "\n",
        "What is the resultant depth of the tree?"
      ],
      "metadata": {
        "id": "5igU5lXHYr6U"
      }
    },
    {
      "cell_type": "code",
      "source": [
        "tree.tree_.max_depth"
      ],
      "metadata": {
        "id": "S2ghOoNJYr6V",
        "colab": {
          "base_uri": "https://localhost:8080/"
        },
        "outputId": "aee8de0f-f3d3-40a2-adc0-b85c1ee331e4"
      },
      "execution_count": 22,
      "outputs": [
        {
          "output_type": "execute_result",
          "data": {
            "text/plain": [
              "11"
            ]
          },
          "metadata": {},
          "execution_count": 22
        }
      ]
    },
    {
      "cell_type": "markdown",
      "source": [
        "## Que 18\n",
        "\n",
        "Visualize this tree model. What is the value of gini impurity at the right child of root?"
      ],
      "metadata": {
        "id": "_yqohGXtYr6W"
      }
    },
    {
      "cell_type": "code",
      "source": [
        "from sklearn.tree import plot_tree\n",
        "\n",
        "fig, ax = plt.subplots(figsize=(20, 8))\n",
        "\n",
        "# Limit the visualization to only a depth of 3,\n",
        "# otherwise becomes too large and unreadable.\n",
        "_ = plot_tree(tree, ax=ax, filled=True, impurity=True, max_depth=3)"
      ],
      "metadata": {
        "id": "XGStUgE3Yr6W",
        "colab": {
          "base_uri": "https://localhost:8080/",
          "height": 466
        },
        "outputId": "6dca5c64-33f3-4100-ca86-a63418e84950"
      },
      "execution_count": 23,
      "outputs": [
        {
          "output_type": "display_data",
          "data": {
            "text/plain": [
              "<Figure size 1440x576 with 1 Axes>"
            ],
            "image/png": "[encoded data removed]"
          },
          "metadata": {
            "needs_background": "light"
          }
        }
      ]
    },
    {
      "cell_type": "markdown",
      "source": [
        "## Que 19\n",
        "\n",
        "Take RandomForestClassifier (random state to be 32) with GridSearchCV to tune the number of decision trees with training set. The number of trees in forest can range from 10 to 15 (both inclusive). Mark the number of decision trees that will produce the best score on the training data."
      ],
      "metadata": {
        "id": "DPjWDFO1Yr6W"
      }
    },
    {
      "cell_type": "code",
      "source": [
        "from sklearn.ensemble import RandomForestClassifier\n",
        "\n",
        "rfc = RandomForestClassifier(random_state=32)\n",
        "grid = {\n",
        "    'n_estimators': [10, 11, 12, 13, 14, 15]\n",
        "}\n",
        "\n",
        "search = ms.GridSearchCV(rfc, grid, n_jobs=-1)\n",
        "search.fit(xtrain, ytrain)\n",
        "search.best_params_"
      ],
      "metadata": {
        "id": "NjcgaGroYr6W",
        "colab": {
          "base_uri": "https://localhost:8080/"
        },
        "outputId": "7e5da86e-ba15-4013-875a-a8e40bbe20bb"
      },
      "execution_count": 24,
      "outputs": [
        {
          "output_type": "execute_result",
          "data": {
            "text/plain": [
              "{'n_estimators': 14}"
            ]
          },
          "metadata": {},
          "execution_count": 24
        }
      ]
    },
    {
      "cell_type": "markdown",
      "source": [
        "## Que 20\n",
        "\n",
        "Train a separate BaggingClassifier on training set with each one of the following as base estimator:\n",
        "\n",
        "* support vector classifier (SVC)\n",
        "* LogisticRegression\n",
        "* KNeighborsClassifier and\n",
        "* DecisionTreeClassifier.\n",
        "\n",
        "Measure accuracy score on test set with each of these bagging classifiers. Which base estimator yields the highest accuracy score on test data?\n",
        "\n",
        "* Take random_state as 32 and n_estimators value as 15 for BaggingClassifier with each base estimator.\n",
        "* Take random_state as 32 individually for each of the following: support vector classifier(SVC), DecisionTreeClassifier and LogisticRegression."
      ],
      "metadata": {
        "id": "FQapaX4hYr6X"
      }
    },
    {
      "cell_type": "code",
      "source": [
        "from sklearn.ensemble import BaggingClassifier\n",
        "\n",
        "# Create the base estimators\n",
        "bases = {\n",
        "    'SVC': SVC(random_state=32),\n",
        "    'LogisticRegression': lm.LogisticRegression(random_state=32),\n",
        "    'knn': KNeighborsClassifier(),\n",
        "    'tree': DecisionTreeClassifier(random_state=32)\n",
        "}\n",
        "\n",
        "\n",
        "for name, base in bases.items():\n",
        "  bag = BaggingClassifier(base_estimator=base, n_estimators=15, random_state=32)\n",
        "  bag.fit(xtrain, ytrain)\n",
        "  print(name, bag.score(xtest, ytest))"
      ],
      "metadata": {
        "id": "gLoG-MrNYr6X",
        "colab": {
          "base_uri": "https://localhost:8080/"
        },
        "outputId": "6f7a1832-84c5-4a25-fda5-48ea7a892f9c"
      },
      "execution_count": 25,
      "outputs": [
        {
          "output_type": "stream",
          "name": "stdout",
          "text": [
            "SVC 0.9533333333333334\n",
            "LogisticRegression 0.81\n",
            "knn 0.9266666666666666\n",
            "tree 0.97\n"
          ]
        }
      ]
    },
    {
      "cell_type": "code",
      "source": [
        "# Seems like the decision tree is the best."
      ],
      "metadata": {
        "id": "kluohwlLC0HY"
      },
      "execution_count": 26,
      "outputs": []
    }
  ]
}