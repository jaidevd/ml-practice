{
  "nbformat": 4,
  "nbformat_minor": 0,
  "metadata": {
    "colab": {
      "name": "MLP_OPE_1_21f1003751.ipynb",
      "provenance": [],
      "collapsed_sections": []
    },
    "kernelspec": {
      "name": "python3",
      "display_name": "Python 3"
    },
    "language_info": {
      "name": "python"
    }
  },
  "cells": [
    {
      "cell_type": "markdown",
      "source": [
        "# MLP OPE 1 Examination"
      ],
      "metadata": {
        "id": "FsEw40SmizCI"
      }
    },
    {
      "cell_type": "markdown",
      "source": [
        "## Que 1"
      ],
      "metadata": {
        "id": "aD2pjlKgYfnC"
      }
    },
    {
      "cell_type": "code",
      "source": [
        "# Q: Which dataset are you using for this exam?\n",
        "# Ans: V5\n",
        "# Comments: Downloaded from the link in the portal and uploaded to the local storage of the Colab notebook"
      ],
      "metadata": {
        "id": "24HJeUdGYhET"
      },
      "execution_count": 4,
      "outputs": []
    },
    {
      "cell_type": "markdown",
      "source": [
        "## Que 2"
      ],
      "metadata": {
        "id": "NJTIVll4YoQD"
      }
    },
    {
      "cell_type": "code",
      "source": [
        "# Q: Load the dataset. What is its shape?\n",
        "\n",
        "import pandas as pd\n",
        "df = pd.read_csv('v5.csv')\n",
        "print(df.shape)"
      ],
      "metadata": {
        "id": "eTaIyRO-YoQF",
        "colab": {
          "base_uri": "https://localhost:8080/"
        },
        "outputId": "261272ad-4fa0-4edb-e56f-34ca1cc4b760"
      },
      "execution_count": 5,
      "outputs": [
        {
          "output_type": "stream",
          "name": "stdout",
          "text": [
            "(1000, 19)\n"
          ]
        }
      ]
    },
    {
      "cell_type": "code",
      "source": [
        "df.head()"
      ],
      "metadata": {
        "colab": {
          "base_uri": "https://localhost:8080/",
          "height": 340
        },
        "id": "ayBNXiEv2Chc",
        "outputId": "3a6bc725-cbb1-4d13-9d25-80558ea3c9aa"
      },
      "execution_count": 6,
      "outputs": [
        {
          "output_type": "execute_result",
          "data": {
            "text/plain": [
              "                                     Country      Status  Life_expectancy  \\\n",
              "0  The former Yugoslav republic of Macedonia  Developing             75.1   \n",
              "1                                    Namibia  Developing             57.4   \n",
              "2                                      Malta   Developed             78.2   \n",
              "3                                     Gambia  Developing             57.3   \n",
              "4                                   Pakistan  Developing             64.4   \n",
              "\n",
              "   Adult_Mortality  infant_deaths  Alcohol  percentage_expenditure  \\\n",
              "0             15.0              0     1.23                0.000000   \n",
              "1             41.0              3     5.73               35.809785   \n",
              "2             75.0              0     5.73             1552.740429   \n",
              "3            296.0              3     2.51                0.000000   \n",
              "4            178.0            367     0.03                3.912745   \n",
              "\n",
              "   Hepatitis_B  Measles   BMI  under-five_deaths  Polio  Total_expenditure  \\\n",
              "0         98.0        7  58.5                  0   97.0               6.76   \n",
              "1          NaN      469  24.5                  4    8.0               6.11   \n",
              "2          NaN        7  63.4                  0   95.0               7.86   \n",
              "3         95.0        0   2.3                  6   88.0               4.35   \n",
              "4         75.0     2801   2.1                459   75.0               3.35   \n",
              "\n",
              "   Diphtheria  HIV_AIDS           GDP  Population  \\\n",
              "0        95.0       0.1           NaN         NaN   \n",
              "1        79.0      22.8    257.995570   1899257.0   \n",
              "2        95.0       0.1  11843.939200    395969.0   \n",
              "3        87.0       2.9           NaN         NaN   \n",
              "4        75.0       0.1     95.432793  16332974.0   \n",
              "\n",
              "   Income_composition_of_resources  Schooling  \n",
              "0                            0.739       12.9  \n",
              "1                            0.559       11.5  \n",
              "2                            0.786       13.8  \n",
              "3                            0.404        7.6  \n",
              "4                            0.505        6.7  "
            ],
            "text/html": [
              "\n",
              "  <div id=\"df-f59d76b3-6503-438d-a108-5684efb6dff0\">\n",
              "    <div class=\"colab-df-container\">\n",
              "      <div>\n",
              "<style scoped>\n",
              "    .dataframe tbody tr th:only-of-type {\n",
              "        vertical-align: middle;\n",
              "    }\n",
              "\n",
              "    .dataframe tbody tr th {\n",
              "        vertical-align: top;\n",
              "    }\n",
              "\n",
              "    .dataframe thead th {\n",
              "        text-align: right;\n",
              "    }\n",
              "</style>\n",
              "<table border=\"1\" class=\"dataframe\">\n",
              "  <thead>\n",
              "    <tr style=\"text-align: right;\">\n",
              "      <th></th>\n",
              "      <th>Country</th>\n",
              "      <th>Status</th>\n",
              "      <th>Life_expectancy</th>\n",
              "      <th>Adult_Mortality</th>\n",
              "      <th>infant_deaths</th>\n",
              "      <th>Alcohol</th>\n",
              "      <th>percentage_expenditure</th>\n",
              "      <th>Hepatitis_B</th>\n",
              "      <th>Measles</th>\n",
              "      <th>BMI</th>\n",
              "      <th>under-five_deaths</th>\n",
              "      <th>Polio</th>\n",
              "      <th>Total_expenditure</th>\n",
              "      <th>Diphtheria</th>\n",
              "      <th>HIV_AIDS</th>\n",
              "      <th>GDP</th>\n",
              "      <th>Population</th>\n",
              "      <th>Income_composition_of_resources</th>\n",
              "      <th>Schooling</th>\n",
              "    </tr>\n",
              "  </thead>\n",
              "  <tbody>\n",
              "    <tr>\n",
              "      <th>0</th>\n",
              "      <td>The former Yugoslav republic of Macedonia</td>\n",
              "      <td>Developing</td>\n",
              "      <td>75.1</td>\n",
              "      <td>15.0</td>\n",
              "      <td>0</td>\n",
              "      <td>1.23</td>\n",
              "      <td>0.000000</td>\n",
              "      <td>98.0</td>\n",
              "      <td>7</td>\n",
              "      <td>58.5</td>\n",
              "      <td>0</td>\n",
              "      <td>97.0</td>\n",
              "      <td>6.76</td>\n",
              "      <td>95.0</td>\n",
              "      <td>0.1</td>\n",
              "      <td>NaN</td>\n",
              "      <td>NaN</td>\n",
              "      <td>0.739</td>\n",
              "      <td>12.9</td>\n",
              "    </tr>\n",
              "    <tr>\n",
              "      <th>1</th>\n",
              "      <td>Namibia</td>\n",
              "      <td>Developing</td>\n",
              "      <td>57.4</td>\n",
              "      <td>41.0</td>\n",
              "      <td>3</td>\n",
              "      <td>5.73</td>\n",
              "      <td>35.809785</td>\n",
              "      <td>NaN</td>\n",
              "      <td>469</td>\n",
              "      <td>24.5</td>\n",
              "      <td>4</td>\n",
              "      <td>8.0</td>\n",
              "      <td>6.11</td>\n",
              "      <td>79.0</td>\n",
              "      <td>22.8</td>\n",
              "      <td>257.995570</td>\n",
              "      <td>1899257.0</td>\n",
              "      <td>0.559</td>\n",
              "      <td>11.5</td>\n",
              "    </tr>\n",
              "    <tr>\n",
              "      <th>2</th>\n",
              "      <td>Malta</td>\n",
              "      <td>Developed</td>\n",
              "      <td>78.2</td>\n",
              "      <td>75.0</td>\n",
              "      <td>0</td>\n",
              "      <td>5.73</td>\n",
              "      <td>1552.740429</td>\n",
              "      <td>NaN</td>\n",
              "      <td>7</td>\n",
              "      <td>63.4</td>\n",
              "      <td>0</td>\n",
              "      <td>95.0</td>\n",
              "      <td>7.86</td>\n",
              "      <td>95.0</td>\n",
              "      <td>0.1</td>\n",
              "      <td>11843.939200</td>\n",
              "      <td>395969.0</td>\n",
              "      <td>0.786</td>\n",
              "      <td>13.8</td>\n",
              "    </tr>\n",
              "    <tr>\n",
              "      <th>3</th>\n",
              "      <td>Gambia</td>\n",
              "      <td>Developing</td>\n",
              "      <td>57.3</td>\n",
              "      <td>296.0</td>\n",
              "      <td>3</td>\n",
              "      <td>2.51</td>\n",
              "      <td>0.000000</td>\n",
              "      <td>95.0</td>\n",
              "      <td>0</td>\n",
              "      <td>2.3</td>\n",
              "      <td>6</td>\n",
              "      <td>88.0</td>\n",
              "      <td>4.35</td>\n",
              "      <td>87.0</td>\n",
              "      <td>2.9</td>\n",
              "      <td>NaN</td>\n",
              "      <td>NaN</td>\n",
              "      <td>0.404</td>\n",
              "      <td>7.6</td>\n",
              "    </tr>\n",
              "    <tr>\n",
              "      <th>4</th>\n",
              "      <td>Pakistan</td>\n",
              "      <td>Developing</td>\n",
              "      <td>64.4</td>\n",
              "      <td>178.0</td>\n",
              "      <td>367</td>\n",
              "      <td>0.03</td>\n",
              "      <td>3.912745</td>\n",
              "      <td>75.0</td>\n",
              "      <td>2801</td>\n",
              "      <td>2.1</td>\n",
              "      <td>459</td>\n",
              "      <td>75.0</td>\n",
              "      <td>3.35</td>\n",
              "      <td>75.0</td>\n",
              "      <td>0.1</td>\n",
              "      <td>95.432793</td>\n",
              "      <td>16332974.0</td>\n",
              "      <td>0.505</td>\n",
              "      <td>6.7</td>\n",
              "    </tr>\n",
              "  </tbody>\n",
              "</table>\n",
              "</div>\n",
              "      <button class=\"colab-df-convert\" onclick=\"convertToInteractive('df-f59d76b3-6503-438d-a108-5684efb6dff0')\"\n",
              "              title=\"Convert this dataframe to an interactive table.\"\n",
              "              style=\"display:none;\">\n",
              "        \n",
              "  <svg xmlns=\"http://www.w3.org/2000/svg\" height=\"24px\"viewBox=\"0 0 24 24\"\n",
              "       width=\"24px\">\n",
              "    <path d=\"M0 0h24v24H0V0z\" fill=\"none\"/>\n",
              "    <path d=\"M18.56 5.44l.94 2.06.94-2.06 2.06-.94-2.06-.94-.94-2.06-.94 2.06-2.06.94zm-11 1L8.5 8.5l.94-2.06 2.06-.94-2.06-.94L8.5 2.5l-.94 2.06-2.06.94zm10 10l.94 2.06.94-2.06 2.06-.94-2.06-.94-.94-2.06-.94 2.06-2.06.94z\"/><path d=\"M17.41 7.96l-1.37-1.37c-.4-.4-.92-.59-1.43-.59-.52 0-1.04.2-1.43.59L10.3 9.45l-7.72 7.72c-.78.78-.78 2.05 0 2.83L4 21.41c.39.39.9.59 1.41.59.51 0 1.02-.2 1.41-.59l7.78-7.78 2.81-2.81c.8-.78.8-2.07 0-2.86zM5.41 20L4 18.59l7.72-7.72 1.47 1.35L5.41 20z\"/>\n",
              "  </svg>\n",
              "      </button>\n",
              "      \n",
              "  <style>\n",
              "    .colab-df-container {\n",
              "      display:flex;\n",
              "      flex-wrap:wrap;\n",
              "      gap: 12px;\n",
              "    }\n",
              "\n",
              "    .colab-df-convert {\n",
              "      background-color: #E8F0FE;\n",
              "      border: none;\n",
              "      border-radius: 50%;\n",
              "      cursor: pointer;\n",
              "      display: none;\n",
              "      fill: #1967D2;\n",
              "      height: 32px;\n",
              "      padding: 0 0 0 0;\n",
              "      width: 32px;\n",
              "    }\n",
              "\n",
              "    .colab-df-convert:hover {\n",
              "      background-color: #E2EBFA;\n",
              "      box-shadow: 0px 1px 2px rgba(60, 64, 67, 0.3), 0px 1px 3px 1px rgba(60, 64, 67, 0.15);\n",
              "      fill: #174EA6;\n",
              "    }\n",
              "\n",
              "    [theme=dark] .colab-df-convert {\n",
              "      background-color: #3B4455;\n",
              "      fill: #D2E3FC;\n",
              "    }\n",
              "\n",
              "    [theme=dark] .colab-df-convert:hover {\n",
              "      background-color: #434B5C;\n",
              "      box-shadow: 0px 1px 3px 1px rgba(0, 0, 0, 0.15);\n",
              "      filter: drop-shadow(0px 1px 2px rgba(0, 0, 0, 0.3));\n",
              "      fill: #FFFFFF;\n",
              "    }\n",
              "  </style>\n",
              "\n",
              "      <script>\n",
              "        const buttonEl =\n",
              "          document.querySelector('#df-f59d76b3-6503-438d-a108-5684efb6dff0 button.colab-df-convert');\n",
              "        buttonEl.style.display =\n",
              "          google.colab.kernel.accessAllowed ? 'block' : 'none';\n",
              "\n",
              "        async function convertToInteractive(key) {\n",
              "          const element = document.querySelector('#df-f59d76b3-6503-438d-a108-5684efb6dff0');\n",
              "          const dataTable =\n",
              "            await google.colab.kernel.invokeFunction('convertToInteractive',\n",
              "                                                     [key], {});\n",
              "          if (!dataTable) return;\n",
              "\n",
              "          const docLinkHtml = 'Like what you see? Visit the ' +\n",
              "            '<a target=\"_blank\" href=https://colab.research.google.com/notebooks/data_table.ipynb>data table notebook</a>'\n",
              "            + ' to learn more about interactive tables.';\n",
              "          element.innerHTML = '';\n",
              "          dataTable['output_type'] = 'display_data';\n",
              "          await google.colab.output.renderOutput(dataTable, element);\n",
              "          const docLink = document.createElement('div');\n",
              "          docLink.innerHTML = docLinkHtml;\n",
              "          element.appendChild(docLink);\n",
              "        }\n",
              "      </script>\n",
              "    </div>\n",
              "  </div>\n",
              "  "
            ]
          },
          "metadata": {},
          "execution_count": 6
        }
      ]
    },
    {
      "cell_type": "markdown",
      "source": [
        "## Que 3"
      ],
      "metadata": {
        "id": "_AjLjgtwYoeE"
      }
    },
    {
      "cell_type": "code",
      "source": [
        "# Q: How many missing values are there in the column 'Life_expectancy'?\n",
        "# If there are, remove the corresponding rows from the data. Note that this modified data will be used for the subsequent questions.\n",
        "\n",
        "df.info()"
      ],
      "metadata": {
        "id": "AkUHAXmuYoeG",
        "colab": {
          "base_uri": "https://localhost:8080/"
        },
        "outputId": "c7f3ca2c-1208-4f8d-8c92-7b077a85dc67"
      },
      "execution_count": 7,
      "outputs": [
        {
          "output_type": "stream",
          "name": "stdout",
          "text": [
            "<class 'pandas.core.frame.DataFrame'>\n",
            "RangeIndex: 1000 entries, 0 to 999\n",
            "Data columns (total 19 columns):\n",
            " #   Column                           Non-Null Count  Dtype  \n",
            "---  ------                           --------------  -----  \n",
            " 0   Country                          1000 non-null   object \n",
            " 1   Status                           1000 non-null   object \n",
            " 2   Life_expectancy                  996 non-null    float64\n",
            " 3   Adult_Mortality                  996 non-null    float64\n",
            " 4   infant_deaths                    1000 non-null   int64  \n",
            " 5   Alcohol                          933 non-null    float64\n",
            " 6   percentage_expenditure           1000 non-null   float64\n",
            " 7   Hepatitis_B                      808 non-null    float64\n",
            " 8   Measles                          1000 non-null   int64  \n",
            " 9   BMI                              990 non-null    float64\n",
            " 10  under-five_deaths                1000 non-null   int64  \n",
            " 11  Polio                            994 non-null    float64\n",
            " 12  Total_expenditure                921 non-null    float64\n",
            " 13  Diphtheria                       994 non-null    float64\n",
            " 14  HIV_AIDS                         1000 non-null   float64\n",
            " 15  GDP                              846 non-null    float64\n",
            " 16  Population                       779 non-null    float64\n",
            " 17  Income_composition_of_resources  938 non-null    float64\n",
            " 18  Schooling                        941 non-null    float64\n",
            "dtypes: float64(14), int64(3), object(2)\n",
            "memory usage: 148.6+ KB\n"
          ]
        }
      ]
    },
    {
      "cell_type": "code",
      "source": [
        "# Comment: Seems like there are 4 null values in Life expectancy. Let's verify it\n",
        "df['Life_expectancy'].isna().sum()"
      ],
      "metadata": {
        "colab": {
          "base_uri": "https://localhost:8080/"
        },
        "id": "Ndzjdjfu2OSp",
        "outputId": "08728412-92da-4130-8dfd-2285ed9624d4"
      },
      "execution_count": 8,
      "outputs": [
        {
          "output_type": "execute_result",
          "data": {
            "text/plain": [
              "4"
            ]
          },
          "metadata": {},
          "execution_count": 8
        }
      ]
    },
    {
      "cell_type": "code",
      "source": [
        "# Comment: Now dropping those rows from the dataset\n",
        "df.dropna(subset=['Life_expectancy'], inplace=True)\n",
        "df['Life_expectancy'].isna().sum()  # should be zero now"
      ],
      "metadata": {
        "colab": {
          "base_uri": "https://localhost:8080/"
        },
        "id": "Y_My9jMp2epV",
        "outputId": "ace3dfd4-a465-4a11-9f70-bd9a5a8f5a65"
      },
      "execution_count": 9,
      "outputs": [
        {
          "output_type": "execute_result",
          "data": {
            "text/plain": [
              "0"
            ]
          },
          "metadata": {},
          "execution_count": 9
        }
      ]
    },
    {
      "cell_type": "code",
      "source": [
        "df.shape  # should be 996 now, since 4 rows containing null values for Life_expectancy are dropped"
      ],
      "metadata": {
        "colab": {
          "base_uri": "https://localhost:8080/"
        },
        "id": "pcXjLVqh23x5",
        "outputId": "ad43ca8f-7081-498c-e4ee-b35977852003"
      },
      "execution_count": 10,
      "outputs": [
        {
          "output_type": "execute_result",
          "data": {
            "text/plain": [
              "(996, 19)"
            ]
          },
          "metadata": {},
          "execution_count": 10
        }
      ]
    },
    {
      "cell_type": "markdown",
      "source": [
        "## Que 4"
      ],
      "metadata": {
        "id": "TNopt59wYozG"
      }
    },
    {
      "cell_type": "code",
      "source": [
        "# Q: How many categorical features are there in the dataset?\n",
        "# Comment: For each column, check if it is a Object dtype, and sum them up\n",
        "\n",
        "[col for col in df if pd.api.types.is_object_dtype(df[col])]"
      ],
      "metadata": {
        "id": "xR5eoBNJYozH",
        "colab": {
          "base_uri": "https://localhost:8080/"
        },
        "outputId": "41ea6622-2ed5-4eea-a3c1-f653d78e5e87"
      },
      "execution_count": 11,
      "outputs": [
        {
          "output_type": "execute_result",
          "data": {
            "text/plain": [
              "['Country', 'Status']"
            ]
          },
          "metadata": {},
          "execution_count": 11
        }
      ]
    },
    {
      "cell_type": "code",
      "source": [
        "df[['Country', 'Status']].head()"
      ],
      "metadata": {
        "colab": {
          "base_uri": "https://localhost:8080/",
          "height": 206
        },
        "id": "PN151_xt3WOj",
        "outputId": "c3b8e044-9c1a-43af-a473-69beab49caca"
      },
      "execution_count": 12,
      "outputs": [
        {
          "output_type": "execute_result",
          "data": {
            "text/plain": [
              "                                     Country      Status\n",
              "0  The former Yugoslav republic of Macedonia  Developing\n",
              "1                                    Namibia  Developing\n",
              "2                                      Malta   Developed\n",
              "3                                     Gambia  Developing\n",
              "4                                   Pakistan  Developing"
            ],
            "text/html": [
              "\n",
              "  <div id=\"df-5595109f-02a6-4b55-b38b-2c0585d36123\">\n",
              "    <div class=\"colab-df-container\">\n",
              "      <div>\n",
              "<style scoped>\n",
              "    .dataframe tbody tr th:only-of-type {\n",
              "        vertical-align: middle;\n",
              "    }\n",
              "\n",
              "    .dataframe tbody tr th {\n",
              "        vertical-align: top;\n",
              "    }\n",
              "\n",
              "    .dataframe thead th {\n",
              "        text-align: right;\n",
              "    }\n",
              "</style>\n",
              "<table border=\"1\" class=\"dataframe\">\n",
              "  <thead>\n",
              "    <tr style=\"text-align: right;\">\n",
              "      <th></th>\n",
              "      <th>Country</th>\n",
              "      <th>Status</th>\n",
              "    </tr>\n",
              "  </thead>\n",
              "  <tbody>\n",
              "    <tr>\n",
              "      <th>0</th>\n",
              "      <td>The former Yugoslav republic of Macedonia</td>\n",
              "      <td>Developing</td>\n",
              "    </tr>\n",
              "    <tr>\n",
              "      <th>1</th>\n",
              "      <td>Namibia</td>\n",
              "      <td>Developing</td>\n",
              "    </tr>\n",
              "    <tr>\n",
              "      <th>2</th>\n",
              "      <td>Malta</td>\n",
              "      <td>Developed</td>\n",
              "    </tr>\n",
              "    <tr>\n",
              "      <th>3</th>\n",
              "      <td>Gambia</td>\n",
              "      <td>Developing</td>\n",
              "    </tr>\n",
              "    <tr>\n",
              "      <th>4</th>\n",
              "      <td>Pakistan</td>\n",
              "      <td>Developing</td>\n",
              "    </tr>\n",
              "  </tbody>\n",
              "</table>\n",
              "</div>\n",
              "      <button class=\"colab-df-convert\" onclick=\"convertToInteractive('df-5595109f-02a6-4b55-b38b-2c0585d36123')\"\n",
              "              title=\"Convert this dataframe to an interactive table.\"\n",
              "              style=\"display:none;\">\n",
              "        \n",
              "  <svg xmlns=\"http://www.w3.org/2000/svg\" height=\"24px\"viewBox=\"0 0 24 24\"\n",
              "       width=\"24px\">\n",
              "    <path d=\"M0 0h24v24H0V0z\" fill=\"none\"/>\n",
              "    <path d=\"M18.56 5.44l.94 2.06.94-2.06 2.06-.94-2.06-.94-.94-2.06-.94 2.06-2.06.94zm-11 1L8.5 8.5l.94-2.06 2.06-.94-2.06-.94L8.5 2.5l-.94 2.06-2.06.94zm10 10l.94 2.06.94-2.06 2.06-.94-2.06-.94-.94-2.06-.94 2.06-2.06.94z\"/><path d=\"M17.41 7.96l-1.37-1.37c-.4-.4-.92-.59-1.43-.59-.52 0-1.04.2-1.43.59L10.3 9.45l-7.72 7.72c-.78.78-.78 2.05 0 2.83L4 21.41c.39.39.9.59 1.41.59.51 0 1.02-.2 1.41-.59l7.78-7.78 2.81-2.81c.8-.78.8-2.07 0-2.86zM5.41 20L4 18.59l7.72-7.72 1.47 1.35L5.41 20z\"/>\n",
              "  </svg>\n",
              "      </button>\n",
              "      \n",
              "  <style>\n",
              "    .colab-df-container {\n",
              "      display:flex;\n",
              "      flex-wrap:wrap;\n",
              "      gap: 12px;\n",
              "    }\n",
              "\n",
              "    .colab-df-convert {\n",
              "      background-color: #E8F0FE;\n",
              "      border: none;\n",
              "      border-radius: 50%;\n",
              "      cursor: pointer;\n",
              "      display: none;\n",
              "      fill: #1967D2;\n",
              "      height: 32px;\n",
              "      padding: 0 0 0 0;\n",
              "      width: 32px;\n",
              "    }\n",
              "\n",
              "    .colab-df-convert:hover {\n",
              "      background-color: #E2EBFA;\n",
              "      box-shadow: 0px 1px 2px rgba(60, 64, 67, 0.3), 0px 1px 3px 1px rgba(60, 64, 67, 0.15);\n",
              "      fill: #174EA6;\n",
              "    }\n",
              "\n",
              "    [theme=dark] .colab-df-convert {\n",
              "      background-color: #3B4455;\n",
              "      fill: #D2E3FC;\n",
              "    }\n",
              "\n",
              "    [theme=dark] .colab-df-convert:hover {\n",
              "      background-color: #434B5C;\n",
              "      box-shadow: 0px 1px 3px 1px rgba(0, 0, 0, 0.15);\n",
              "      filter: drop-shadow(0px 1px 2px rgba(0, 0, 0, 0.3));\n",
              "      fill: #FFFFFF;\n",
              "    }\n",
              "  </style>\n",
              "\n",
              "      <script>\n",
              "        const buttonEl =\n",
              "          document.querySelector('#df-5595109f-02a6-4b55-b38b-2c0585d36123 button.colab-df-convert');\n",
              "        buttonEl.style.display =\n",
              "          google.colab.kernel.accessAllowed ? 'block' : 'none';\n",
              "\n",
              "        async function convertToInteractive(key) {\n",
              "          const element = document.querySelector('#df-5595109f-02a6-4b55-b38b-2c0585d36123');\n",
              "          const dataTable =\n",
              "            await google.colab.kernel.invokeFunction('convertToInteractive',\n",
              "                                                     [key], {});\n",
              "          if (!dataTable) return;\n",
              "\n",
              "          const docLinkHtml = 'Like what you see? Visit the ' +\n",
              "            '<a target=\"_blank\" href=https://colab.research.google.com/notebooks/data_table.ipynb>data table notebook</a>'\n",
              "            + ' to learn more about interactive tables.';\n",
              "          element.innerHTML = '';\n",
              "          dataTable['output_type'] = 'display_data';\n",
              "          await google.colab.output.renderOutput(dataTable, element);\n",
              "          const docLink = document.createElement('div');\n",
              "          docLink.innerHTML = docLinkHtml;\n",
              "          element.appendChild(docLink);\n",
              "        }\n",
              "      </script>\n",
              "    </div>\n",
              "  </div>\n",
              "  "
            ]
          },
          "metadata": {},
          "execution_count": 12
        }
      ]
    },
    {
      "cell_type": "code",
      "source": [
        "# So there are two categorical columns"
      ],
      "metadata": {
        "id": "x3wynSAB3acq"
      },
      "execution_count": 13,
      "outputs": []
    },
    {
      "cell_type": "markdown",
      "source": [
        "## Que 5"
      ],
      "metadata": {
        "id": "TBsjUBPMYpAF"
      }
    },
    {
      "cell_type": "code",
      "source": [
        "# Q: What is the average BMI in the dataset?\n",
        "df['BMI'].mean()"
      ],
      "metadata": {
        "id": "Q-LdYac7YpAF",
        "colab": {
          "base_uri": "https://localhost:8080/"
        },
        "outputId": "6f05060e-b582-4ad2-a9ec-fba1f8c4faf3"
      },
      "execution_count": 14,
      "outputs": [
        {
          "output_type": "execute_result",
          "data": {
            "text/plain": [
              "37.63228744939271"
            ]
          },
          "metadata": {},
          "execution_count": 14
        }
      ]
    },
    {
      "cell_type": "markdown",
      "source": [
        "## Que 6"
      ],
      "metadata": {
        "id": "MSnWq7inYpLj"
      }
    },
    {
      "cell_type": "code",
      "source": [
        "# Q: How many missing values are there in the columns 'Hepatitis_B' and 'Population'?\n",
        "df[['Hepatitis_B', 'Population']].isna().sum(axis=0)"
      ],
      "metadata": {
        "id": "knm-E3nEYpLk",
        "colab": {
          "base_uri": "https://localhost:8080/"
        },
        "outputId": "168e4b75-cc47-4d0c-a4f4-e1741581a811"
      },
      "execution_count": 15,
      "outputs": [
        {
          "output_type": "execute_result",
          "data": {
            "text/plain": [
              "Hepatitis_B    192\n",
              "Population     218\n",
              "dtype: int64"
            ]
          },
          "metadata": {},
          "execution_count": 15
        }
      ]
    },
    {
      "cell_type": "markdown",
      "source": [
        "## Que 7"
      ],
      "metadata": {
        "id": "oXVlhz4cYpau"
      }
    },
    {
      "cell_type": "code",
      "source": [
        "# Q: How many unique countries are there in the dataset?\n",
        "df['Country'].nunique()"
      ],
      "metadata": {
        "id": "XPA4tjhJYpau",
        "colab": {
          "base_uri": "https://localhost:8080/"
        },
        "outputId": "22b6d1da-437b-47a2-fee8-4aae24a882e1"
      },
      "execution_count": 16,
      "outputs": [
        {
          "output_type": "execute_result",
          "data": {
            "text/plain": [
              "183"
            ]
          },
          "metadata": {},
          "execution_count": 16
        }
      ]
    },
    {
      "cell_type": "markdown",
      "source": [
        "## Que 8"
      ],
      "metadata": {
        "id": "WEYlKyD6Ypob"
      }
    },
    {
      "cell_type": "code",
      "source": [
        "# Q: The column 'Life_expectancy' is to be used as the target column.\n",
        "# Split the data into the feature matrix (X) and target column (y),\n",
        "# where 'Life_expectancy' goes to y and rest of the columns go to X.\n",
        "# What is the average 'Life_expectancy' in the dataset?\n",
        "\n",
        "X, y = df.drop(['Life_expectancy'], axis=1), df['Life_expectancy']\n",
        "\n",
        "# Average 'Life_expectancy'\n",
        "y.mean()"
      ],
      "metadata": {
        "id": "g2SmjUxSYpob",
        "colab": {
          "base_uri": "https://localhost:8080/"
        },
        "outputId": "373cfa92-1791-4a6e-b6c5-b9135cf5f3ec"
      },
      "execution_count": 17,
      "outputs": [
        {
          "output_type": "execute_result",
          "data": {
            "text/plain": [
              "69.18333333333334"
            ]
          },
          "metadata": {},
          "execution_count": 17
        }
      ]
    },
    {
      "cell_type": "markdown",
      "source": [
        "## Que 9"
      ],
      "metadata": {
        "id": "auAKncpsYrde"
      }
    },
    {
      "cell_type": "code",
      "source": [
        "# Q: Split X and y into X_train, X_test, y_train and y_test where 20% of the data goes to test set.\n",
        "# Keep the random_state to be 32.\n",
        "# What is the average value of GDP in training and test data (rounded to 2 decimal places)?\n",
        "\n",
        "from sklearn.model_selection import train_test_split\n",
        "\n",
        "X_train, X_test, y_train, y_test = train_test_split(X, y, test_size=0.2, random_state=32)\n",
        "\n",
        "# Average GDP in train and test sets, respectively\n",
        "X_train['GDP'].mean(), X_test['GDP'].mean()"
      ],
      "metadata": {
        "id": "ISFi4EwtYrdg",
        "colab": {
          "base_uri": "https://localhost:8080/"
        },
        "outputId": "94270305-cafd-4c29-abc0-e2591120a71c"
      },
      "execution_count": 18,
      "outputs": [
        {
          "output_type": "execute_result",
          "data": {
            "text/plain": [
              "(6347.623884226347, 8154.315378144317)"
            ]
          },
          "metadata": {},
          "execution_count": 18
        }
      ]
    },
    {
      "cell_type": "markdown",
      "source": [
        "## Que 10"
      ],
      "metadata": {
        "id": "r45IVOWgYrdg"
      }
    },
    {
      "cell_type": "code",
      "source": [
        "# Q: Plot the distribution of different numerical features in the training data. Which of the following features has close to normal distribution?\n",
        "# Percentage_expenditure\n",
        "# Measles\n",
        "# Under-five_deaths\n",
        "# HIV_AIDS\n",
        "# Schooling\n",
        "import matplotlib.pyplot as plt\n",
        "\n",
        "fig, ax = plt.subplots(nrows=3, ncols=2, figsize=(12, 8))\n",
        "cols = ['percentage_expenditure', 'Measles', 'under-five_deaths', 'HIV_AIDS', 'Schooling']\n",
        "\n",
        "for col, _ax in zip(cols, ax.ravel()[:-1]):\n",
        "  X_train[col].hist(bins=50, ax=_ax)\n",
        "  _ax.set_title(col)\n",
        "ax.ravel()[-1].set_axis_off()\n",
        "plt.tight_layout()"
      ],
      "metadata": {
        "id": "_V4tSSCUYrdh",
        "colab": {
          "base_uri": "https://localhost:8080/",
          "height": 585
        },
        "outputId": "ab66deb9-689e-447c-c8f8-2b1ff627f395"
      },
      "execution_count": 19,
      "outputs": [
        {
          "output_type": "display_data",
          "data": {
            "text/plain": [
              "<Figure size 864x576 with 6 Axes>"
            ],
            "image/png": "[encoded data removed]"
          },
          "metadata": {
            "needs_background": "light"
          }
        }
      ]
    },
    {
      "cell_type": "code",
      "source": [
        "# Seems like Schooling is close to Gaussian"
      ],
      "metadata": {
        "id": "7igQBi2V55kG"
      },
      "execution_count": 20,
      "outputs": []
    },
    {
      "cell_type": "markdown",
      "source": [
        "## Que 11"
      ],
      "metadata": {
        "id": "aXKv5R9WYrdh"
      }
    },
    {
      "cell_type": "code",
      "source": [
        "# Q: For the feature `Diphtheria` in the feature matrix training set `X_train`,\n",
        "# draw a violin plot and find which of the following ranges hold most of the values?\n",
        "\n",
        "import seaborn as sns\n",
        "\n",
        "sns.violinplot(X_train['Diphtheria'])"
      ],
      "metadata": {
        "id": "kPkGFTbfYrdh",
        "colab": {
          "base_uri": "https://localhost:8080/",
          "height": 351
        },
        "outputId": "fae599c7-8d6f-42eb-c6f6-ca098bfd09e5"
      },
      "execution_count": 21,
      "outputs": [
        {
          "output_type": "stream",
          "name": "stderr",
          "text": [
            "/usr/local/lib/python3.7/dist-packages/seaborn/_decorators.py:43: FutureWarning: Pass the following variable as a keyword arg: x. From version 0.12, the only valid positional argument will be `data`, and passing other arguments without an explicit keyword will result in an error or misinterpretation.\n",
            "  FutureWarning\n"
          ]
        },
        {
          "output_type": "execute_result",
          "data": {
            "text/plain": [
              "<matplotlib.axes._subplots.AxesSubplot at 0x7f6b135746d0>"
            ]
          },
          "metadata": {},
          "execution_count": 21
        },
        {
          "output_type": "display_data",
          "data": {
            "text/plain": [
              "<Figure size 432x288 with 1 Axes>"
            ],
            "image/png": "[encoded data removed]"
          },
          "metadata": {
            "needs_background": "light"
          }
        }
      ]
    },
    {
      "cell_type": "code",
      "source": [
        "# The peaks seem to be between 80-100, double check with a histogram, just to be sure.\n",
        "X_train['Diphtheria'].hist()"
      ],
      "metadata": {
        "colab": {
          "base_uri": "https://localhost:8080/",
          "height": 282
        },
        "id": "U3DHfYOV6iGh",
        "outputId": "17652d54-8c3b-42a0-e17f-5691aeda1a33"
      },
      "execution_count": 22,
      "outputs": [
        {
          "output_type": "execute_result",
          "data": {
            "text/plain": [
              "<matplotlib.axes._subplots.AxesSubplot at 0x7f6b13d12f50>"
            ]
          },
          "metadata": {},
          "execution_count": 22
        },
        {
          "output_type": "display_data",
          "data": {
            "text/plain": [
              "<Figure size 432x288 with 1 Axes>"
            ],
            "image/png": "[encoded data removed]"
          },
          "metadata": {
            "needs_background": "light"
          }
        }
      ]
    },
    {
      "cell_type": "markdown",
      "source": [
        "## Que 12"
      ],
      "metadata": {
        "id": "L1f6tplgYrdh"
      }
    },
    {
      "cell_type": "code",
      "source": [
        "# Q: By plotting a box plot for the numerical features of the feature matrix training set X_train,\n",
        "# find out which of the following features have no outliers?\n",
        "cols = ['Alcohol', 'under-five_deaths', 'Measles', 'GDP']\n",
        "\n",
        "fig, ax = plt.subplots(nrows=2, ncols=2, figsize=(8, 8))\n",
        "for col, _ax in zip(cols, ax.ravel()):\n",
        "  sns.boxplot(x=X_train[col], ax=_ax)\n",
        "plt.tight_layout()"
      ],
      "metadata": {
        "id": "5IuMAXLcYrdi",
        "colab": {
          "base_uri": "https://localhost:8080/",
          "height": 585
        },
        "outputId": "71131f93-79f1-476f-b969-83e6c4155869"
      },
      "execution_count": 23,
      "outputs": [
        {
          "output_type": "display_data",
          "data": {
            "text/plain": [
              "<Figure size 576x576 with 4 Axes>"
            ],
            "image/png": "[encoded data removed]"
          },
          "metadata": {
            "needs_background": "light"
          }
        }
      ]
    },
    {
      "cell_type": "code",
      "source": [
        "# Looks like everything has outliers"
      ],
      "metadata": {
        "id": "HtRqKHgT7Xpj"
      },
      "execution_count": 24,
      "outputs": []
    },
    {
      "cell_type": "markdown",
      "source": [
        "## Que 13\n",
        "\n",
        "Generate a new matrix consisting of all polynomial combinations of the features with degree 2 (For example, if an input sample is two dimensional and of the form [a,b] , the degree-2 polynomial features are $[1,a,b,a^2,ab,b^2]$) from the training set of feature matrix `X_train`. Fit and transform the training set of the feature matrix columns `[2:4]` and save it with the name `polydata`, after applying the polynomial transformation. Note that the `polydata` will not be utilized in subsequent questions. Choose the shape of `polydata` from the following options."
      ],
      "metadata": {
        "id": "-q0mvcDDYrdi"
      }
    },
    {
      "cell_type": "code",
      "source": [
        "from sklearn.preprocessing import PolynomialFeatures\n",
        "\n",
        "polyf = PolynomialFeatures(degree=2)\n",
        "polydata = polyf.fit_transform(X_train.values[:, 2:4])\n",
        "polydata.shape"
      ],
      "metadata": {
        "id": "7mpYcUxsYrdi",
        "colab": {
          "base_uri": "https://localhost:8080/"
        },
        "outputId": "cc503e21-7dcd-4148-9f66-b9263ed01e4b"
      },
      "execution_count": 25,
      "outputs": [
        {
          "output_type": "execute_result",
          "data": {
            "text/plain": [
              "(796, 6)"
            ]
          },
          "metadata": {},
          "execution_count": 25
        }
      ]
    },
    {
      "cell_type": "markdown",
      "source": [
        "## Que 14\n",
        "\n",
        "Prepare a pipeline `numeric_transformer` containing `SimpleImputer (strategy=\"mean\")` and `StandardScaler()` (in this sequence). Preprocess the \n",
        "of the given data `['Adult_Mortality', 'infant_deaths', 'Alcohol', 'percentage_expenditure', 'Hepatitis_B', 'Measles', 'BMI', 'under-five_deaths', 'Polio', 'Total_expenditure', 'Diphtheria', 'HIV_AIDS', 'GDP', 'Population', 'Income_composition_of_resources', 'Schooling']` using this pipeline.\n",
        "\n",
        "Apply `categorical_transformer = OneHotEncoder()` on the categorical_features `('Country', 'Status')` and other features will pass unchanged.\n",
        "\n",
        "IMPORTANT NOTE:\n",
        "\n",
        "1. The data obtained by transforming via this pipeline will be used for the rest of the questions.\n",
        "\n",
        "2. Use the pipeline to preprocess training data and then apply on test data\n",
        "\n",
        "What is the length of the `numeric_transformer` pipeline?\n",
        "\n",
        "![](https://backend.seek.onlinedegree.iitm.ac.in/22t2_mlp13/assets/img/Screenshot%202022-06-17%20100504.png)"
      ],
      "metadata": {
        "id": "-9WCldTAYrdi"
      }
    },
    {
      "cell_type": "markdown",
      "source": [
        "> Seems like we can't use OneHotEncoder separately on train and test splits for the \"Country\" column. The encoder might not see the same countries across the split!"
      ],
      "metadata": {
        "id": "-SqwAVFkAFMH"
      }
    },
    {
      "cell_type": "code",
      "source": [
        "import numpy as np\n",
        "from sklearn.pipeline import Pipeline\n",
        "from sklearn.preprocessing import OneHotEncoder, StandardScaler\n",
        "from sklearn.impute import SimpleImputer\n",
        "\n",
        "nums = ['Adult_Mortality', 'infant_deaths', 'Alcohol', 'percentage_expenditure',\n",
        "        'Hepatitis_B', 'Measles', 'BMI', 'under-five_deaths', 'Polio',\n",
        "        'Total_expenditure', 'Diphtheria', 'HIV_AIDS', 'GDP', 'Population',\n",
        "        'Income_composition_of_resources', 'Schooling']\n",
        "cats = ['Country', 'Status']\n",
        "\n",
        "num_pipe = Pipeline([\n",
        "  ('imputer', SimpleImputer(strategy='mean')),\n",
        "  ('scaler', StandardScaler())\n",
        "])\n",
        "X_train_nums = num_pipe.fit_transform(X_train[nums])\n",
        "\n",
        "print(len(num_pipe))  # Should be 2, one step for the imputer and the other for the scaler"
      ],
      "metadata": {
        "id": "XDQTgcJ5Yrdi",
        "colab": {
          "base_uri": "https://localhost:8080/"
        },
        "outputId": "99076fae-b395-41bf-83b2-5cbd07d12eae"
      },
      "execution_count": 26,
      "outputs": [
        {
          "output_type": "stream",
          "name": "stdout",
          "text": [
            "2\n"
          ]
        }
      ]
    },
    {
      "cell_type": "markdown",
      "source": [
        "## Que 15"
      ],
      "metadata": {
        "id": "QDCCUHH2Yrdj"
      }
    },
    {
      "cell_type": "code",
      "source": [
        "# Q: Calculate the shape of the training set of feature matrix X_train of the dataset.\n",
        "\n",
        "ohe = OneHotEncoder(sparse=False, handle_unknown='ignore')\n",
        "X_train_cats = ohe.fit_transform(X_train[cats])\n",
        "\n",
        "X_train_transformed = np.c_[X_train_nums, X_train_cats]\n",
        "X_train_transformed.shape"
      ],
      "metadata": {
        "id": "m8Mn9i22Yrdj",
        "colab": {
          "base_uri": "https://localhost:8080/"
        },
        "outputId": "1c44e8a5-5acc-4742-ff5b-c416e825b40a"
      },
      "execution_count": 27,
      "outputs": [
        {
          "output_type": "execute_result",
          "data": {
            "text/plain": [
              "(796, 200)"
            ]
          },
          "metadata": {},
          "execution_count": 27
        }
      ]
    },
    {
      "cell_type": "code",
      "source": [
        "X_test_cats = ohe.transform(X_test[cats])\n",
        "X_test_nums = num_pipe.transform(X_test[nums])\n",
        "X_test_transformed = np.c_[X_test_nums, X_test_cats]\n",
        "X_test_transformed.shape"
      ],
      "metadata": {
        "colab": {
          "base_uri": "https://localhost:8080/"
        },
        "id": "pObzpx7rFspA",
        "outputId": "5b855f60-6c4f-4cf7-8d46-74893d4ea19f"
      },
      "execution_count": 28,
      "outputs": [
        {
          "output_type": "execute_result",
          "data": {
            "text/plain": [
              "(200, 200)"
            ]
          },
          "metadata": {},
          "execution_count": 28
        }
      ]
    },
    {
      "cell_type": "markdown",
      "source": [
        "## Que 16\n",
        "\n",
        "Apply RFE and select 15 features from the training dataset and calculate the rank of each feature. Which of the following statements are true?\n",
        "(Count first feature as number 1, second feature as number 2 and so on.)"
      ],
      "metadata": {
        "id": "7RjuAfH0Yrdj"
      }
    },
    {
      "cell_type": "code",
      "source": [
        "from sklearn.linear_model import LinearRegression\n",
        "from sklearn.feature_selection import RFE\n",
        "\n",
        "estimator = LinearRegression()\n",
        "rfe = RFE(estimator, n_features_to_select=15)\n",
        "rfe.fit(X_train_transformed, y_train)\n",
        "\n",
        "rfe.support_"
      ],
      "metadata": {
        "id": "_SiowIEAYrdj",
        "colab": {
          "base_uri": "https://localhost:8080/"
        },
        "outputId": "544bf3a4-47de-49f1-9103-78014afb6009"
      },
      "execution_count": 29,
      "outputs": [
        {
          "output_type": "execute_result",
          "data": {
            "text/plain": [
              "array([False,  True, False, False, False, False, False,  True, False,\n",
              "       False, False, False, False, False, False, False, False, False,\n",
              "       False, False, False, False, False, False, False, False, False,\n",
              "       False, False, False, False, False, False, False, False, False,\n",
              "       False,  True, False, False, False, False, False, False, False,\n",
              "       False, False,  True, False, False, False, False, False, False,\n",
              "       False, False, False, False, False,  True, False, False, False,\n",
              "       False, False, False, False, False,  True, False, False, False,\n",
              "       False, False,  True, False, False, False, False, False, False,\n",
              "       False, False, False,  True, False, False, False, False, False,\n",
              "       False, False, False, False, False, False, False, False, False,\n",
              "       False, False, False, False, False, False, False, False, False,\n",
              "        True,  True, False, False, False, False,  True, False, False,\n",
              "       False, False, False, False, False, False, False, False, False,\n",
              "       False, False, False, False, False, False, False, False,  True,\n",
              "       False, False, False, False, False, False, False, False, False,\n",
              "       False, False, False, False, False, False, False, False, False,\n",
              "       False, False, False, False, False, False,  True, False, False,\n",
              "       False, False, False, False, False, False, False, False, False,\n",
              "        True, False, False, False, False, False, False, False, False,\n",
              "       False, False, False, False, False, False, False, False, False,\n",
              "       False, False, False, False, False, False, False, False,  True,\n",
              "       False, False])"
            ]
          },
          "metadata": {},
          "execution_count": 29
        }
      ]
    },
    {
      "cell_type": "markdown",
      "source": [
        "## Que 17\n",
        "Fit a LinearRegression model that uses the normal equation to learn the weights on the train data (X_train and y_train). Enter the value of score obtained using training data upto four decimal places."
      ],
      "metadata": {
        "id": "5igU5lXHYr6U"
      }
    },
    {
      "cell_type": "code",
      "source": [
        "lr = LinearRegression()\n",
        "lr.fit(X_train_transformed, y_train)\n",
        "lr.score(X_train_transformed, y_train)"
      ],
      "metadata": {
        "id": "S2ghOoNJYr6V",
        "colab": {
          "base_uri": "https://localhost:8080/"
        },
        "outputId": "9bb3ea83-3a7d-469c-f421-513357cbb163"
      },
      "execution_count": 30,
      "outputs": [
        {
          "output_type": "execute_result",
          "data": {
            "text/plain": [
              "0.9677126501420147"
            ]
          },
          "metadata": {},
          "execution_count": 30
        }
      ]
    },
    {
      "cell_type": "markdown",
      "source": [
        "## Que 18\n",
        "\n",
        "Using a Linear regression model, compute the cross-validation scores for 15 splits on training data (`X_train` and `y_train`) using `cross_val_score`.\n",
        "Enter the maximum value obtained upto four decimal places. By default `cross_val_score` uses `LinearRegression`'s scoring metric, which is R2.\n"
      ],
      "metadata": {
        "id": "_yqohGXtYr6W"
      }
    },
    {
      "cell_type": "code",
      "source": [
        "from sklearn.model_selection import cross_val_score\n",
        "\n",
        "scores = cross_val_score(LinearRegression(), X_train_transformed, y_train, cv=15)\n",
        "# print(scores)\n",
        "# print(scores.mean())\n",
        "print(scores.max())"
      ],
      "metadata": {
        "id": "XGStUgE3Yr6W",
        "colab": {
          "base_uri": "https://localhost:8080/"
        },
        "outputId": "6b77d597-c94d-4fc4-e6b5-b5bb164532e3"
      },
      "execution_count": 31,
      "outputs": [
        {
          "output_type": "stream",
          "name": "stdout",
          "text": [
            "0.9685080866600788\n"
          ]
        }
      ]
    },
    {
      "cell_type": "markdown",
      "source": [
        "## Que 19\n",
        "\n",
        "Fit a \n",
        "Stochastic Gradient Descent regressor model on the training data (`X_train` and `y_train`). Set the following parameters:\n",
        "\n",
        "i. penalty = l1\n",
        "\n",
        "ii. alpha = 0.001\n",
        "\n",
        "iii. learning_rate = 'constant'\n",
        "\n",
        "iv. initial learning rate = 0.001\n",
        "\n",
        "v. random state = 42\n",
        "\n",
        "\n",
        "Other parameters are initialized with default values.\n",
        "Compute the `mean_squared_error` for training data. Using the trained model, make predictions on test data and then compute the `mean_squared_error` for the test data also. Find the absolute difference between the training and testing errors computed and enter the value upto two decimal places, i.e.  $\\|MSE_{train}−MSE_{test}\\| .$"
      ],
      "metadata": {
        "id": "DPjWDFO1Yr6W"
      }
    },
    {
      "cell_type": "code",
      "source": [
        "# There might be a problem here since we're dealing with the test data for the first time,\n",
        "# And the \"country\" column has not been correctly One-hot encoded.\n",
        "\n",
        "from sklearn.linear_model import SGDRegressor\n",
        "from sklearn.metrics import mean_squared_error\n",
        "\n",
        "clf = SGDRegressor(penalty='l1', alpha=0.001, learning_rate='constant',\n",
        "                   eta0=0.001, random_state=42)\n",
        "clf.fit(X_train_transformed, y_train)\n",
        "\n",
        "mse_train = mean_squared_error(y_train, clf.predict(X_train_transformed))\n",
        "mse_test  = mean_squared_error(y_test, clf.predict(X_test_transformed))\n",
        "print(abs(mse_train - mse_test))"
      ],
      "metadata": {
        "id": "NjcgaGroYr6W",
        "colab": {
          "base_uri": "https://localhost:8080/"
        },
        "outputId": "f98afd33-9ab9-46d7-da7d-67cf8af9f8d4"
      },
      "execution_count": 32,
      "outputs": [
        {
          "output_type": "stream",
          "name": "stdout",
          "text": [
            "1.7657484972401658\n"
          ]
        }
      ]
    },
    {
      "cell_type": "markdown",
      "source": [
        "## Que 20\n",
        "\n",
        "Train a Stochastic Gradient Descent regressor model on the training data with different values for the parameters as follows:\n",
        "\n",
        "(i) penalty = l2\n",
        "\n",
        "(ii) alpha = 0.01\n",
        "\n",
        "(iii) learning_rate = 'adaptive'\n",
        "\n",
        "(iv) initial learning rate = 0.01\n",
        "\n",
        "(v) random state = 42\n",
        "\n",
        "(vi) loss = 'huber'\n",
        "\n",
        "Other parameters are initialized with default values.\n",
        "Using the trained model, make predictions on test data and then compute the `r2_score` for the test data. Enter the value upto four decimal places."
      ],
      "metadata": {
        "id": "FQapaX4hYr6X"
      }
    },
    {
      "cell_type": "code",
      "source": [
        "clf = SGDRegressor(penalty='l2', alpha=0.01, learning_rate='adaptive',\n",
        "                   eta0=0.01, random_state=42, loss=\"huber\")\n",
        "clf.fit(X_train_transformed, y_train)\n",
        "\n",
        "clf.score(X_test_transformed, y_test)"
      ],
      "metadata": {
        "id": "gLoG-MrNYr6X",
        "colab": {
          "base_uri": "https://localhost:8080/"
        },
        "outputId": "97fcc004-03a8-45e3-e5bc-10150365334c"
      },
      "execution_count": 33,
      "outputs": [
        {
          "output_type": "execute_result",
          "data": {
            "text/plain": [
              "0.8066855671012136"
            ]
          },
          "metadata": {},
          "execution_count": 33
        }
      ]
    },
    {
      "cell_type": "markdown",
      "source": [
        "## Que 21\n",
        "\n",
        "Apply cross validation strategy on SGD regression model with parameters same as that of previous question using `ShuffleSplit` with 10 number of splits and 0.2 test size on 'train data'. Use \n",
        "random_state=42 `ShuffleSplit`.\n",
        "Enter the standard deviation value of \n",
        "`cross_val_score` obtained upto four decimal places."
      ],
      "metadata": {
        "id": "3G9L9EPJYr6X"
      }
    },
    {
      "cell_type": "code",
      "source": [
        "from sklearn.model_selection import ShuffleSplit\n",
        "\n",
        "\n",
        "clf = SGDRegressor(penalty='l2', alpha=0.01, learning_rate='adaptive',\n",
        "                   eta0=0.01, loss=\"huber\")\n",
        "\n",
        "splitter = ShuffleSplit(n_splits=10, test_size=0.2, random_state=42)\n",
        "cross_val_score(clf, X_train_transformed, y_train, cv=splitter).std()"
      ],
      "metadata": {
        "id": "UYa1jrNOYr6X"
      },
      "execution_count": null,
      "outputs": []
    },
    {
      "cell_type": "markdown",
      "source": [
        "## Que 22\n",
        "\n",
        "Take Lasso estimator with regularization rate 0.05 to train the model using Training data. What would be the value of Mean Squared error for test data?(Set random state =42)"
      ],
      "metadata": {
        "id": "u0ftrc_9Yr6X"
      }
    },
    {
      "cell_type": "code",
      "source": [
        "from sklearn.linear_model import Lasso\n",
        "clf = Lasso(alpha=0.05, random_state=42)\n",
        "clf.fit(X_train_transformed, y_train)\n",
        "\n",
        "mean_squared_error(y_test, clf.predict(X_test_transformed))"
      ],
      "metadata": {
        "id": "vUaXXCTCYr6Y",
        "colab": {
          "base_uri": "https://localhost:8080/"
        },
        "outputId": "f3722455-0058-495c-dd70-ee6936556b1a"
      },
      "execution_count": 35,
      "outputs": [
        {
          "output_type": "execute_result",
          "data": {
            "text/plain": [
              "14.270832667572966"
            ]
          },
          "metadata": {},
          "execution_count": 35
        }
      ]
    },
    {
      "cell_type": "markdown",
      "source": [
        "## Que 23\n",
        "\n",
        "Create a baseline model using Ridge estimator with fixed learning rate 0.5. What is the R2 score you got on training data(Set random state =32 )?"
      ],
      "metadata": {
        "id": "mTX6CIUuYr6Y"
      }
    },
    {
      "cell_type": "code",
      "source": [
        "# This seems ambiguous - Ridge does not have a learning rate :-\\\n",
        "# Gets clarified in the next question - this is alpha, not learning rate\n",
        "\n",
        "from sklearn.linear_model import Ridge\n",
        "ridge = Ridge(alpha=0.5, random_state=32).fit(X_train_transformed, y_train)\n",
        "ridge.score(X_train_transformed, y_train)"
      ],
      "metadata": {
        "id": "J1D7Fm_oYr6Y",
        "colab": {
          "base_uri": "https://localhost:8080/"
        },
        "outputId": "34817909-c0af-469c-e35e-e976df257eae"
      },
      "execution_count": 36,
      "outputs": [
        {
          "output_type": "execute_result",
          "data": {
            "text/plain": [
              "0.9605523665381359"
            ]
          },
          "metadata": {},
          "execution_count": 36
        }
      ]
    },
    {
      "cell_type": "markdown",
      "source": [
        "## Que 24\n",
        "\n",
        "Using above baseline Ridge model with fixed regularization rate 0.5, Predict the R2 score for the test data?"
      ],
      "metadata": {
        "id": "uhhAr-ulYr6Y"
      }
    },
    {
      "cell_type": "code",
      "source": [
        "ridge.score(X_test_transformed, y_test)"
      ],
      "metadata": {
        "id": "WQjPW6mjYr6Y",
        "colab": {
          "base_uri": "https://localhost:8080/"
        },
        "outputId": "be0343c3-7b40-4f2f-bc7e-dfe404076a6a"
      },
      "execution_count": 37,
      "outputs": [
        {
          "output_type": "execute_result",
          "data": {
            "text/plain": [
              "0.9409185861412691"
            ]
          },
          "metadata": {},
          "execution_count": 37
        }
      ]
    },
    {
      "cell_type": "markdown",
      "source": [
        "## Que 25\n",
        "\n",
        "Common Instructions for Q25, Q26\n",
        "\n",
        "i) Use Ridgecv as an estimator to train the model.\n",
        "\n",
        "i) Use following list for alpha values. alpha_list = `[1e-4,1e-3, 1e-2, 1e-1, 1]`.\n",
        "\n",
        "ii) Keep r2_score as scoring parameter.\n",
        "\n",
        "iii) Keep Cross validation iterator \"RepeatedKFold\" for cv and keep splitting iterations parameter n_split=5,n_repeats=5 and random_state=rs.\n",
        "\n",
        "iv) Use Training data(X_train, y_train) for model training.\n",
        "\n",
        "\n",
        "Which of the following alpha value gives the best R2 score for training data?"
      ],
      "metadata": {
        "id": "DTX_9-kNYwVG"
      }
    },
    {
      "cell_type": "code",
      "source": [
        "# Question says random_state=rs?\n",
        "\n",
        "from sklearn.linear_model import RidgeCV\n",
        "from sklearn.model_selection import RepeatedKFold\n",
        "\n",
        "rkf = RepeatedKFold(n_splits=5, n_repeats=5)\n",
        "rcv = RidgeCV(alphas=[1e-4,1e-3, 1e-2, 1e-1, 1], cv=rkf)\n",
        "rcv.fit(X_train_transformed, y_train)\n",
        "rcv.alpha_"
      ],
      "metadata": {
        "id": "j8DYJMfBYwVH",
        "colab": {
          "base_uri": "https://localhost:8080/"
        },
        "outputId": "65506fa3-06e6-42a4-9419-cb59b176b66a"
      },
      "execution_count": 38,
      "outputs": [
        {
          "output_type": "execute_result",
          "data": {
            "text/plain": [
              "0.1"
            ]
          },
          "metadata": {},
          "execution_count": 38
        }
      ]
    },
    {
      "cell_type": "markdown",
      "source": [
        "## Que 26\n",
        "\n",
        "What is the best r2_score you got with best alpha value for training data?(Choose closest value)"
      ],
      "metadata": {
        "id": "bTxLE-UmYwVH"
      }
    },
    {
      "cell_type": "code",
      "source": [
        "rcv.best_score_"
      ],
      "metadata": {
        "id": "aGB_UBupYwVH",
        "colab": {
          "base_uri": "https://localhost:8080/"
        },
        "outputId": "56e8483b-aba2-429f-c5e3-b10dd11abfaf"
      },
      "execution_count": 39,
      "outputs": [
        {
          "output_type": "execute_result",
          "data": {
            "text/plain": [
              "0.9080265169869243"
            ]
          },
          "metadata": {},
          "execution_count": 39
        }
      ]
    },
    {
      "cell_type": "markdown",
      "source": [
        "## Que 27\n",
        "Create a pipeline Using PolynomialFeatures as transformer and Lasso as estimator. Use gridsearch with above pipeline and following hyperparameter values.\n",
        "\n",
        "i) Keep polynomial degree as : (1, 2, 3)\n",
        "\n",
        "ii) alpha value : np.logspace(-4, 0, num=10)\n",
        "\n",
        "iii) scoring : neg_mean_absolute_error\n",
        "\n",
        "iv) Use Training data(X_train, y_train) to fit the model.\n",
        "\n",
        "\n",
        "Enter the regularization rate which gives the lowest mean square error value for training data ?\n"
      ],
      "metadata": {
        "id": "v0YUAhuwYwVH"
      }
    },
    {
      "cell_type": "code",
      "source": [
        "from sklearn.model_selection import GridSearchCV\n",
        "GridSearchCV?"
      ],
      "metadata": {
        "id": "DBeTkHLiPI1X"
      },
      "execution_count": 40,
      "outputs": []
    },
    {
      "cell_type": "code",
      "source": [
        "from sklearn.model_selection import GridSearchCV\n",
        "\n",
        "pipe = Pipeline([\n",
        "  ('poly', PolynomialFeatures()),\n",
        "  ('est', Lasso())\n",
        "])\n",
        "\n",
        "grid = {\n",
        "    'poly__degree': [1, 2,],\n",
        "    'est__alpha': np.logspace(-4, 0, num=10),\n",
        "}\n",
        "gcv = GridSearchCV(pipe, param_grid=grid, scoring='neg_mean_absolute_error', n_jobs=-1)\n",
        "gcv.fit(X_train_transformed, y_train)\n",
        "\n",
        "print(gcv.best_score_)\n",
        "print(gcv.best_params_)\n",
        "\n",
        "\n",
        "# This crashes the notebook!"
      ],
      "metadata": {
        "id": "EQXNgGW5YwVI",
        "colab": {
          "base_uri": "https://localhost:8080/"
        },
        "outputId": "f7ef7646-fd98-4e5a-eeca-8300984d9c9e"
      },
      "execution_count": 43,
      "outputs": [
        {
          "output_type": "stream",
          "name": "stdout",
          "text": [
            "-1.6383192773937054\n",
            "{'est__alpha': 0.000774263682681127, 'poly__degree': 1}\n"
          ]
        },
        {
          "output_type": "stream",
          "name": "stderr",
          "text": [
            "/usr/local/lib/python3.7/dist-packages/sklearn/linear_model/_coordinate_descent.py:648: ConvergenceWarning: Objective did not converge. You might want to increase the number of iterations, check the scale of the features or consider increasing regularisation. Duality gap: 1.158e+03, tolerance: 6.917e+00\n",
            "  coef_, l1_reg, l2_reg, X, y, max_iter, tol, rng, random, positive\n"
          ]
        }
      ]
    },
    {
      "cell_type": "code",
      "source": [
        "# ^ This worked only because the polyfeats was removed!"
      ],
      "metadata": {
        "id": "PSK2ghV1Ql-X"
      },
      "execution_count": null,
      "outputs": []
    },
    {
      "cell_type": "markdown",
      "source": [
        "## Que 28"
      ],
      "metadata": {
        "id": "QQGCtwmVYwVI"
      }
    },
    {
      "cell_type": "code",
      "source": [
        ""
      ],
      "metadata": {
        "id": "SrQEEmy-YwVI"
      },
      "execution_count": null,
      "outputs": []
    },
    {
      "cell_type": "markdown",
      "source": [
        "## Rough work below this"
      ],
      "metadata": {
        "id": "Fx1oRhffAcQx"
      }
    },
    {
      "cell_type": "code",
      "source": [
        "# ohe = OneHotEncoder(sparse=False)\n",
        "# X_train_cats = ohe.fit_transform(X_train[cats])\n",
        "\n",
        "# X_train_transformed = np.c_[X_train_nums, X_train_cats]\n",
        "\n",
        "\n",
        "# # Do the same on the test data\n",
        "# X_test_nums = num_pipe.transform(X_test[nums])\n",
        "# X_test_cats = ohe.transform(X_test[cats])\n",
        "# X_test_transformed = np.c_[X_test_nums, X_test_cats]"
      ],
      "metadata": {
        "id": "UtFaDFdqAhsl"
      },
      "execution_count": null,
      "outputs": []
    }
  ]
}