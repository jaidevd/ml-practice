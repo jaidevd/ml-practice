{
 "cells": [
  {
   "cell_type": "code",
   "execution_count": 1,
   "id": "353271f4-74dc-4171-b88d-5ff1cded7151",
   "metadata": {},
   "outputs": [
    {
     "name": "stderr",
     "output_type": "stream",
     "text": [
      "/Users/jaidevd/anaconda/lib/python3.7/importlib/_bootstrap.py:219: RuntimeWarning: numpy.ufunc size changed, may indicate binary incompatibility. Expected 192 from C header, got 216 from PyObject\n",
      "  return f(*args, **kwds)\n",
      "/Users/jaidevd/anaconda/lib/python3.7/importlib/_bootstrap.py:219: RuntimeWarning: numpy.ufunc size changed, may indicate binary incompatibility. Expected 192 from C header, got 216 from PyObject\n",
      "  return f(*args, **kwds)\n",
      "/Users/jaidevd/anaconda/lib/python3.7/importlib/_bootstrap.py:219: RuntimeWarning: numpy.ufunc size changed, may indicate binary incompatibility. Expected 192 from C header, got 216 from PyObject\n",
      "  return f(*args, **kwds)\n"
     ]
    }
   ],
   "source": [
    "import pandas as pd\n",
    "from sklearn import neural_network as nn\n",
    "from sklearn.pipeline import Pipeline\n",
    "from sklearn import metrics\n",
    "from sklearn import preprocessing as prep"
   ]
  },
  {
   "cell_type": "code",
   "execution_count": 5,
   "id": "6cb7aebd-7fbc-453f-b977-db9819d0dfab",
   "metadata": {},
   "outputs": [
    {
     "data": {
      "text/html": [
       "<div>\n",
       "<style scoped>\n",
       "    .dataframe tbody tr th:only-of-type {\n",
       "        vertical-align: middle;\n",
       "    }\n",
       "\n",
       "    .dataframe tbody tr th {\n",
       "        vertical-align: top;\n",
       "    }\n",
       "\n",
       "    .dataframe thead th {\n",
       "        text-align: right;\n",
       "    }\n",
       "</style>\n",
       "<table border=\"1\" class=\"dataframe\">\n",
       "  <thead>\n",
       "    <tr style=\"text-align: right;\">\n",
       "      <th></th>\n",
       "      <th>CO(GT)</th>\n",
       "      <th>PT08.S1(CO)</th>\n",
       "      <th>NMHC(GT)</th>\n",
       "      <th>C6H6(GT)</th>\n",
       "      <th>PT08.S2(NMHC)</th>\n",
       "      <th>NOx(GT)</th>\n",
       "      <th>PT08.S3(NOx)</th>\n",
       "      <th>NO2(GT)</th>\n",
       "      <th>PT08.S4(NO2)</th>\n",
       "      <th>PT08.S5(O3)</th>\n",
       "      <th>T</th>\n",
       "      <th>RH</th>\n",
       "      <th>AH</th>\n",
       "    </tr>\n",
       "  </thead>\n",
       "  <tbody>\n",
       "    <tr>\n",
       "      <th>0</th>\n",
       "      <td>2.6</td>\n",
       "      <td>1360.0</td>\n",
       "      <td>150.0</td>\n",
       "      <td>11.9</td>\n",
       "      <td>1046.0</td>\n",
       "      <td>166.0</td>\n",
       "      <td>1056.0</td>\n",
       "      <td>113.0</td>\n",
       "      <td>1692.0</td>\n",
       "      <td>1268.0</td>\n",
       "      <td>13.6</td>\n",
       "      <td>48.9</td>\n",
       "      <td>0.7578</td>\n",
       "    </tr>\n",
       "    <tr>\n",
       "      <th>1</th>\n",
       "      <td>2.0</td>\n",
       "      <td>1292.0</td>\n",
       "      <td>112.0</td>\n",
       "      <td>9.4</td>\n",
       "      <td>955.0</td>\n",
       "      <td>103.0</td>\n",
       "      <td>1174.0</td>\n",
       "      <td>92.0</td>\n",
       "      <td>1559.0</td>\n",
       "      <td>972.0</td>\n",
       "      <td>13.3</td>\n",
       "      <td>47.7</td>\n",
       "      <td>0.7255</td>\n",
       "    </tr>\n",
       "    <tr>\n",
       "      <th>2</th>\n",
       "      <td>2.2</td>\n",
       "      <td>1402.0</td>\n",
       "      <td>88.0</td>\n",
       "      <td>9.0</td>\n",
       "      <td>939.0</td>\n",
       "      <td>131.0</td>\n",
       "      <td>1140.0</td>\n",
       "      <td>114.0</td>\n",
       "      <td>1555.0</td>\n",
       "      <td>1074.0</td>\n",
       "      <td>11.9</td>\n",
       "      <td>54.0</td>\n",
       "      <td>0.7502</td>\n",
       "    </tr>\n",
       "    <tr>\n",
       "      <th>3</th>\n",
       "      <td>2.2</td>\n",
       "      <td>1376.0</td>\n",
       "      <td>80.0</td>\n",
       "      <td>9.2</td>\n",
       "      <td>948.0</td>\n",
       "      <td>172.0</td>\n",
       "      <td>1092.0</td>\n",
       "      <td>122.0</td>\n",
       "      <td>1584.0</td>\n",
       "      <td>1203.0</td>\n",
       "      <td>11.0</td>\n",
       "      <td>60.0</td>\n",
       "      <td>0.7867</td>\n",
       "    </tr>\n",
       "    <tr>\n",
       "      <th>4</th>\n",
       "      <td>1.6</td>\n",
       "      <td>1272.0</td>\n",
       "      <td>51.0</td>\n",
       "      <td>6.5</td>\n",
       "      <td>836.0</td>\n",
       "      <td>131.0</td>\n",
       "      <td>1205.0</td>\n",
       "      <td>116.0</td>\n",
       "      <td>1490.0</td>\n",
       "      <td>1110.0</td>\n",
       "      <td>11.2</td>\n",
       "      <td>59.6</td>\n",
       "      <td>0.7888</td>\n",
       "    </tr>\n",
       "  </tbody>\n",
       "</table>\n",
       "</div>"
      ],
      "text/plain": [
       "   CO(GT)  PT08.S1(CO)  NMHC(GT)  C6H6(GT)  PT08.S2(NMHC)  NOx(GT)  \\\n",
       "0     2.6       1360.0     150.0      11.9         1046.0    166.0   \n",
       "1     2.0       1292.0     112.0       9.4          955.0    103.0   \n",
       "2     2.2       1402.0      88.0       9.0          939.0    131.0   \n",
       "3     2.2       1376.0      80.0       9.2          948.0    172.0   \n",
       "4     1.6       1272.0      51.0       6.5          836.0    131.0   \n",
       "\n",
       "   PT08.S3(NOx)  NO2(GT)  PT08.S4(NO2)  PT08.S5(O3)     T    RH      AH  \n",
       "0        1056.0    113.0        1692.0       1268.0  13.6  48.9  0.7578  \n",
       "1        1174.0     92.0        1559.0        972.0  13.3  47.7  0.7255  \n",
       "2        1140.0    114.0        1555.0       1074.0  11.9  54.0  0.7502  \n",
       "3        1092.0    122.0        1584.0       1203.0  11.0  60.0  0.7867  \n",
       "4        1205.0    116.0        1490.0       1110.0  11.2  59.6  0.7888  "
      ]
     },
     "execution_count": 5,
     "metadata": {},
     "output_type": "execute_result"
    }
   ],
   "source": [
    "df = pd.read_csv('AirQualityUCI.csv')\n",
    "df.drop(['Date', 'Time', 'Unnamed: 15', 'Unnamed: 16'], axis=1, inplace=True)\n",
    "df.dropna(inplace=True)\n",
    "df.head()"
   ]
  },
  {
   "cell_type": "code",
   "execution_count": 6,
   "id": "167baa2f-6768-4282-9077-4de2781b9c6f",
   "metadata": {},
   "outputs": [
    {
     "data": {
      "text/plain": [
       "(9357, 13)"
      ]
     },
     "execution_count": 6,
     "metadata": {},
     "output_type": "execute_result"
    }
   ],
   "source": [
    "df.shape"
   ]
  },
  {
   "cell_type": "code",
   "execution_count": 9,
   "id": "38169a71-9b94-4c5e-bb3f-c032bfb93f9d",
   "metadata": {},
   "outputs": [
    {
     "data": {
      "text/plain": [
       "-200.0000    366\n",
       " 0.7487        6\n",
       " 1.1199        6\n",
       " 0.8394        6\n",
       " 0.9722        6\n",
       "            ... \n",
       " 1.5861        1\n",
       " 0.8793        1\n",
       " 0.9818        1\n",
       " 0.9951        1\n",
       " 0.4684        1\n",
       "Name: AH, Length: 6684, dtype: int64"
      ]
     },
     "execution_count": 9,
     "metadata": {},
     "output_type": "execute_result"
    }
   ],
   "source": [
    "df['AH'].value_counts()"
   ]
  },
  {
   "cell_type": "code",
   "execution_count": 12,
   "id": "2606209f-9b34-4b36-9388-33b07b869a1d",
   "metadata": {},
   "outputs": [
    {
     "data": {
      "text/html": [
       "<div>\n",
       "<style scoped>\n",
       "    .dataframe tbody tr th:only-of-type {\n",
       "        vertical-align: middle;\n",
       "    }\n",
       "\n",
       "    .dataframe tbody tr th {\n",
       "        vertical-align: top;\n",
       "    }\n",
       "\n",
       "    .dataframe thead th {\n",
       "        text-align: right;\n",
       "    }\n",
       "</style>\n",
       "<table border=\"1\" class=\"dataframe\">\n",
       "  <thead>\n",
       "    <tr style=\"text-align: right;\">\n",
       "      <th></th>\n",
       "      <th>T</th>\n",
       "      <th>RH</th>\n",
       "    </tr>\n",
       "  </thead>\n",
       "  <tbody>\n",
       "    <tr>\n",
       "      <th>T</th>\n",
       "      <td>1.000000</td>\n",
       "      <td>0.885911</td>\n",
       "    </tr>\n",
       "    <tr>\n",
       "      <th>RH</th>\n",
       "      <td>0.885911</td>\n",
       "      <td>1.000000</td>\n",
       "    </tr>\n",
       "  </tbody>\n",
       "</table>\n",
       "</div>"
      ],
      "text/plain": [
       "           T        RH\n",
       "T   1.000000  0.885911\n",
       "RH  0.885911  1.000000"
      ]
     },
     "execution_count": 12,
     "metadata": {},
     "output_type": "execute_result"
    }
   ],
   "source": [
    "df[['T', 'RH']].corr()"
   ]
  },
  {
   "cell_type": "code",
   "execution_count": 13,
   "id": "322c16c4-234b-418f-bdd7-2971655193f2",
   "metadata": {},
   "outputs": [],
   "source": [
    "X = df.drop(['AH'], axis=1)\n",
    "y = df['AH']"
   ]
  },
  {
   "cell_type": "code",
   "execution_count": 14,
   "id": "31cc111f-d6cb-42a3-b762-d2fd81e1260f",
   "metadata": {},
   "outputs": [],
   "source": [
    "# split the dataset into training and test dataset in 80:20 proportion with \"random_state=1\"\n",
    "# Create a pipeline with scaler as StandardScaler and classifier as MLPRegressor.\n",
    "# Classifier should have the following properties:\n",
    "# Classifier should have three hidden layers with 50 neurons each.\n",
    "# set \n",
    "# tol=1e-2, alpha=1e-4,solver=\"adam\", learning_rate_init=0.1, max_iter=50, random_state=1"
   ]
  },
  {
   "cell_type": "code",
   "execution_count": 15,
   "id": "70a7a92d-41cd-4e1b-9f2a-34d516cc9b26",
   "metadata": {},
   "outputs": [],
   "source": [
    "from sklearn.model_selection import train_test_split\n",
    "\n",
    "xtr, xts, ytr, yts = train_test_split(X, y, test_size=0.2, random_state=1)\n",
    "pipe = Pipeline([\n",
    "    ('scaler', prep.StandardScaler()),\n",
    "    ('clf', nn.MLPRegressor([50, 50, 50], tol=1e-2, alpha=1e-4,solver=\"adam\", learning_rate_init=0.1, max_iter=50, random_state=1))\n",
    "])"
   ]
  },
  {
   "cell_type": "code",
   "execution_count": 16,
   "id": "025b11f2-fa1a-4d71-a449-6c644a754beb",
   "metadata": {},
   "outputs": [
    {
     "data": {
      "text/plain": [
       "(9357, 12)"
      ]
     },
     "execution_count": 16,
     "metadata": {},
     "output_type": "execute_result"
    }
   ],
   "source": [
    "X.shape"
   ]
  },
  {
   "cell_type": "code",
   "execution_count": 17,
   "id": "68241890-5a7c-4587-bde3-0727f8e859b9",
   "metadata": {},
   "outputs": [
    {
     "data": {
      "text/plain": [
       "(1872, 12)"
      ]
     },
     "execution_count": 17,
     "metadata": {},
     "output_type": "execute_result"
    }
   ],
   "source": [
    "xts.shape"
   ]
  },
  {
   "cell_type": "code",
   "execution_count": 18,
   "id": "3cd0a85f-aea8-48a7-ab20-04936e1eb33b",
   "metadata": {},
   "outputs": [
    {
     "data": {
      "text/plain": [
       "Pipeline(steps=[('scaler', StandardScaler()),\n",
       "                ('clf',\n",
       "                 MLPRegressor(hidden_layer_sizes=[50, 50, 50],\n",
       "                              learning_rate_init=0.1, max_iter=50,\n",
       "                              random_state=1, tol=0.01))])"
      ]
     },
     "execution_count": 18,
     "metadata": {},
     "output_type": "execute_result"
    }
   ],
   "source": [
    "pipe.fit(xtr, ytr)"
   ]
  },
  {
   "cell_type": "code",
   "execution_count": 19,
   "id": "5588d5b8-b55e-473a-9b64-2e9dda57462c",
   "metadata": {},
   "outputs": [
    {
     "data": {
      "text/plain": [
       "0.999992602958679"
      ]
     },
     "execution_count": 19,
     "metadata": {},
     "output_type": "execute_result"
    }
   ],
   "source": [
    "pipe.score(xtr, ytr)"
   ]
  },
  {
   "cell_type": "code",
   "execution_count": 20,
   "id": "2eb59fbc-7c1a-4c1b-af8c-8cf053af75f8",
   "metadata": {},
   "outputs": [
    {
     "data": {
      "text/plain": [
       "0.9999920781245708"
      ]
     },
     "execution_count": 20,
     "metadata": {},
     "output_type": "execute_result"
    }
   ],
   "source": [
    "pipe.score(xts, yts)"
   ]
  },
  {
   "cell_type": "code",
   "execution_count": 21,
   "id": "bab87edc-955a-4f5c-9ddb-a62868a3d49d",
   "metadata": {},
   "outputs": [
    {
     "data": {
      "text/plain": [
       "array([1.59775315])"
      ]
     },
     "execution_count": 21,
     "metadata": {},
     "output_type": "execute_result"
    }
   ],
   "source": [
    "pipe.predict(xtr[:1])"
   ]
  },
  {
   "cell_type": "code",
   "execution_count": 22,
   "id": "66f5ba6c-23d2-4f5d-9d9c-0315e8d8da18",
   "metadata": {},
   "outputs": [
    {
     "data": {
      "text/plain": [
       "5160    1.4898\n",
       "Name: AH, dtype: float64"
      ]
     },
     "execution_count": 22,
     "metadata": {},
     "output_type": "execute_result"
    }
   ],
   "source": [
    "ytr[:1]"
   ]
  }
 ],
 "metadata": {
  "kernelspec": {
   "display_name": "Python 3",
   "language": "python",
   "name": "python3"
  },
  "language_info": {
   "codemirror_mode": {
    "name": "ipython",
    "version": 3
   },
   "file_extension": ".py",
   "mimetype": "text/x-python",
   "name": "python",
   "nbconvert_exporter": "python",
   "pygments_lexer": "ipython3",
   "version": "3.7.3"
  }
 },
 "nbformat": 4,
 "nbformat_minor": 5
}
