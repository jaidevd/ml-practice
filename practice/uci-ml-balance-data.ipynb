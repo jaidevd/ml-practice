{
 "cells": [
  {
   "cell_type": "code",
   "execution_count": 3,
   "id": "ad5d17b0-81a0-47d5-955d-63370ca6f34e",
   "metadata": {},
   "outputs": [],
   "source": [
    "import pandas as pd\n",
    "df = pd.read_csv('../../mlt/data/balance-scale.data', header=None)"
   ]
  },
  {
   "cell_type": "code",
   "execution_count": 5,
   "id": "ac08a4c4-007e-4e40-be66-fe575c1e3097",
   "metadata": {},
   "outputs": [
    {
     "data": {
      "text/html": [
       "<div>\n",
       "<style scoped>\n",
       "    .dataframe tbody tr th:only-of-type {\n",
       "        vertical-align: middle;\n",
       "    }\n",
       "\n",
       "    .dataframe tbody tr th {\n",
       "        vertical-align: top;\n",
       "    }\n",
       "\n",
       "    .dataframe thead th {\n",
       "        text-align: right;\n",
       "    }\n",
       "</style>\n",
       "<table border=\"1\" class=\"dataframe\">\n",
       "  <thead>\n",
       "    <tr style=\"text-align: right;\">\n",
       "      <th></th>\n",
       "      <th>class</th>\n",
       "      <th>lwt</th>\n",
       "      <th>ldst</th>\n",
       "      <th>rwt</th>\n",
       "      <th>rdst</th>\n",
       "    </tr>\n",
       "  </thead>\n",
       "  <tbody>\n",
       "    <tr>\n",
       "      <th>0</th>\n",
       "      <td>B</td>\n",
       "      <td>1</td>\n",
       "      <td>1</td>\n",
       "      <td>1</td>\n",
       "      <td>1</td>\n",
       "    </tr>\n",
       "    <tr>\n",
       "      <th>1</th>\n",
       "      <td>R</td>\n",
       "      <td>1</td>\n",
       "      <td>1</td>\n",
       "      <td>1</td>\n",
       "      <td>2</td>\n",
       "    </tr>\n",
       "    <tr>\n",
       "      <th>2</th>\n",
       "      <td>R</td>\n",
       "      <td>1</td>\n",
       "      <td>1</td>\n",
       "      <td>1</td>\n",
       "      <td>3</td>\n",
       "    </tr>\n",
       "    <tr>\n",
       "      <th>3</th>\n",
       "      <td>R</td>\n",
       "      <td>1</td>\n",
       "      <td>1</td>\n",
       "      <td>1</td>\n",
       "      <td>4</td>\n",
       "    </tr>\n",
       "    <tr>\n",
       "      <th>4</th>\n",
       "      <td>R</td>\n",
       "      <td>1</td>\n",
       "      <td>1</td>\n",
       "      <td>1</td>\n",
       "      <td>5</td>\n",
       "    </tr>\n",
       "  </tbody>\n",
       "</table>\n",
       "</div>"
      ],
      "text/plain": [
       "  class  lwt  ldst  rwt  rdst\n",
       "0     B    1     1    1     1\n",
       "1     R    1     1    1     2\n",
       "2     R    1     1    1     3\n",
       "3     R    1     1    1     4\n",
       "4     R    1     1    1     5"
      ]
     },
     "execution_count": 5,
     "metadata": {},
     "output_type": "execute_result"
    }
   ],
   "source": [
    "df.columns = ['class', 'lwt', 'ldst', 'rwt', 'rdst']\n",
    "df.head()"
   ]
  },
  {
   "cell_type": "code",
   "execution_count": 12,
   "id": "443c5c8d-2f4b-41fc-a8de-fa04746bf92a",
   "metadata": {},
   "outputs": [
    {
     "data": {
      "text/plain": [
       "Text(0.5, 1.0, '% of classes')"
      ]
     },
     "execution_count": 12,
     "metadata": {},
     "output_type": "execute_result"
    },
    {
     "data": {
      "image/png": "[encoded data removed]",
      "text/plain": [
       "<Figure size 432x288 with 1 Axes>"
      ]
     },
     "metadata": {
      "needs_background": "light"
     },
     "output_type": "display_data"
    }
   ],
   "source": [
    "ax = df['class'].value_counts(normalize=True).plot(kind='bar')\n",
    "ax.set_title('% of classes')"
   ]
  },
  {
   "cell_type": "code",
   "execution_count": 17,
   "id": "3f44453a-30ea-4de5-b25d-028a170a591f",
   "metadata": {},
   "outputs": [
    {
     "data": {
      "text/plain": [
       "0.5936000000000001"
      ]
     },
     "execution_count": 17,
     "metadata": {},
     "output_type": "execute_result"
    }
   ],
   "source": [
    "from sklearn.tree import DecisionTreeClassifier\n",
    "from sklearn.model_selection import cross_val_score\n",
    "\n",
    "cross_val_score(DecisionTreeClassifier(), df.drop(['class'], axis=1), df['class'].values).mean()"
   ]
  },
  {
   "cell_type": "code",
   "execution_count": 8,
   "id": "1989b2d9-abb0-4a02-9f50-ab24ebbb8fda",
   "metadata": {},
   "outputs": [
    {
     "data": {
      "text/plain": [
       "(625, 5)"
      ]
     },
     "execution_count": 8,
     "metadata": {},
     "output_type": "execute_result"
    }
   ],
   "source": [
    "df.shape"
   ]
  },
  {
   "cell_type": "code",
   "execution_count": 9,
   "id": "66d10954-60bc-4078-8045-5dc9c5f69cf9",
   "metadata": {},
   "outputs": [],
   "source": [
    "X, y = df.drop(['class'], axis=1).values, df['class'].values"
   ]
  },
  {
   "cell_type": "code",
   "execution_count": 11,
   "id": "d1982f42-6dea-4b40-acb2-e2e349000ed3",
   "metadata": {},
   "outputs": [
    {
     "data": {
      "text/plain": [
       "{'class': array(['B', 'R', 'L'], dtype=object),\n",
       " 'lwt': array([1, 2, 3, 4, 5]),\n",
       " 'ldst': array([1, 2, 3, 4, 5]),\n",
       " 'rwt': array([1, 2, 3, 4, 5]),\n",
       " 'rdst': array([1, 2, 3, 4, 5])}"
      ]
     },
     "execution_count": 11,
     "metadata": {},
     "output_type": "execute_result"
    }
   ],
   "source": [
    "{col: df[col].unique() for col in df}"
   ]
  },
  {
   "cell_type": "code",
   "execution_count": 21,
   "id": "4d8dd68f-eaa6-45e8-bf1d-ecd3e3d8966d",
   "metadata": {},
   "outputs": [],
   "source": [
    "from sklearn.model_selection import train_test_split\n",
    "\n",
    "xtr, xts, ytr, yts = train_test_split(X, y, stratify=y, test_size=0.2, random_state=42)"
   ]
  },
  {
   "cell_type": "code",
   "execution_count": 22,
   "id": "ec8c8e2d-81f2-4cf1-a455-29f5043e4f17",
   "metadata": {},
   "outputs": [
    {
     "data": {
      "text/plain": [
       "R    0.462\n",
       "L    0.460\n",
       "B    0.078\n",
       "dtype: float64"
      ]
     },
     "execution_count": 22,
     "metadata": {},
     "output_type": "execute_result"
    }
   ],
   "source": [
    "pd.Series(ytr).value_counts(normalize=True)"
   ]
  },
  {
   "cell_type": "code",
   "execution_count": 23,
   "id": "e267c17b-22eb-4a40-a42e-294cc374789d",
   "metadata": {},
   "outputs": [
    {
     "data": {
      "text/plain": [
       "L    0.464\n",
       "R    0.456\n",
       "B    0.080\n",
       "dtype: float64"
      ]
     },
     "execution_count": 23,
     "metadata": {},
     "output_type": "execute_result"
    }
   ],
   "source": [
    "pd.Series(yts).value_counts(normalize=True)"
   ]
  },
  {
   "cell_type": "code",
   "execution_count": 42,
   "id": "9e53f239-8c7b-4fe1-bdc9-581f73966117",
   "metadata": {},
   "outputs": [
    {
     "data": {
      "text/plain": [
       "(0.838, 0.76)"
      ]
     },
     "execution_count": 42,
     "metadata": {},
     "output_type": "execute_result"
    }
   ],
   "source": [
    "dt = DecisionTreeClassifier(random_state=0, max_depth=4)\n",
    "dt.fit(xtr, ytr)\n",
    "dt.score(xtr, ytr), dt.score(xts, yts)"
   ]
  },
  {
   "cell_type": "code",
   "execution_count": 31,
   "id": "a0f1bfd1-d057-497a-9c84-889c1d6d9d63",
   "metadata": {},
   "outputs": [
    {
     "data": {
      "text/plain": [
       "10"
      ]
     },
     "execution_count": 31,
     "metadata": {},
     "output_type": "execute_result"
    }
   ],
   "source": [
    "dt.get_depth()"
   ]
  },
  {
   "cell_type": "code",
   "execution_count": 32,
   "id": "ec2fb03f-7fc8-415f-9012-1215d4fe8491",
   "metadata": {},
   "outputs": [
    {
     "data": {
      "text/plain": [
       "10"
      ]
     },
     "execution_count": 32,
     "metadata": {},
     "output_type": "execute_result"
    }
   ],
   "source": [
    "dt.tree_.max_depth"
   ]
  },
  {
   "cell_type": "code",
   "execution_count": 33,
   "id": "142c3919-9188-426f-9a5a-b453da2265c8",
   "metadata": {},
   "outputs": [
    {
     "data": {
      "text/plain": [
       "247"
      ]
     },
     "execution_count": 33,
     "metadata": {},
     "output_type": "execute_result"
    }
   ],
   "source": [
    "dt.tree_.node_count"
   ]
  },
  {
   "cell_type": "code",
   "execution_count": 34,
   "id": "49af80af-af8a-4ad6-b9de-4bb7472047a7",
   "metadata": {},
   "outputs": [
    {
     "data": {
      "text/plain": [
       "\u001b[0;31mSignature:\u001b[0m \u001b[0mdt\u001b[0m\u001b[0;34m.\u001b[0m\u001b[0mcost_complexity_pruning_path\u001b[0m\u001b[0;34m(\u001b[0m\u001b[0mX\u001b[0m\u001b[0;34m,\u001b[0m \u001b[0my\u001b[0m\u001b[0;34m,\u001b[0m \u001b[0msample_weight\u001b[0m\u001b[0;34m=\u001b[0m\u001b[0;32mNone\u001b[0m\u001b[0;34m)\u001b[0m\u001b[0;34m\u001b[0m\u001b[0;34m\u001b[0m\u001b[0m\n",
       "\u001b[0;31mDocstring:\u001b[0m\n",
       "Compute the pruning path during Minimal Cost-Complexity Pruning.\n",
       "\n",
       "See :ref:`minimal_cost_complexity_pruning` for details on the pruning\n",
       "process.\n",
       "\n",
       "Parameters\n",
       "----------\n",
       "X : {array-like, sparse matrix} of shape (n_samples, n_features)\n",
       "    The training input samples. Internally, it will be converted to\n",
       "    ``dtype=np.float32`` and if a sparse matrix is provided\n",
       "    to a sparse ``csc_matrix``.\n",
       "\n",
       "y : array-like of shape (n_samples,) or (n_samples, n_outputs)\n",
       "    The target values (class labels) as integers or strings.\n",
       "\n",
       "sample_weight : array-like of shape (n_samples,), default=None\n",
       "    Sample weights. If None, then samples are equally weighted. Splits\n",
       "    that would create child nodes with net zero or negative weight are\n",
       "    ignored while searching for a split in each node. Splits are also\n",
       "    ignored if they would result in any single class carrying a\n",
       "    negative weight in either child node.\n",
       "\n",
       "Returns\n",
       "-------\n",
       "ccp_path : :class:`~sklearn.utils.Bunch`\n",
       "    Dictionary-like object, with the following attributes.\n",
       "\n",
       "    ccp_alphas : ndarray\n",
       "        Effective alphas of subtree during pruning.\n",
       "\n",
       "    impurities : ndarray\n",
       "        Sum of the impurities of the subtree leaves for the\n",
       "        corresponding alpha value in ``ccp_alphas``.\n",
       "\u001b[0;31mFile:\u001b[0m      ~/conda/lib/python3.7/site-packages/sklearn/tree/_classes.py\n",
       "\u001b[0;31mType:\u001b[0m      method\n"
      ]
     },
     "metadata": {},
     "output_type": "display_data"
    }
   ],
   "source": [
    "dt.cost_complexity_pruning_path?"
   ]
  },
  {
   "cell_type": "code",
   "execution_count": null,
   "id": "a9aff0cb-a99a-485b-b71b-17f570c8648d",
   "metadata": {},
   "outputs": [],
   "source": []
  }
 ],
 "metadata": {
  "kernelspec": {
   "display_name": "Python 3 (ipykernel)",
   "language": "python",
   "name": "python3"
  },
  "language_info": {
   "codemirror_mode": {
    "name": "ipython",
    "version": 3
   },
   "file_extension": ".py",
   "mimetype": "text/x-python",
   "name": "python",
   "nbconvert_exporter": "python",
   "pygments_lexer": "ipython3",
   "version": "3.7.11"
  }
 },
 "nbformat": 4,
 "nbformat_minor": 5
}
