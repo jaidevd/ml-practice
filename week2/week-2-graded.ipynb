{
 "cells": [
  {
   "cell_type": "code",
   "execution_count": 52,
   "id": "b91bc157-ca78-47eb-8a0e-ebc374ae04ae",
   "metadata": {},
   "outputs": [],
   "source": [
    "import pandas as pd\n",
    "from sklearn.preprocessing import StandardScaler, OrdinalEncoder\n",
    "from sklearn.feature_selection import VarianceThreshold\n",
    "from sklearn.pipeline import Pipeline, FeatureUnion\n",
    "from sklearn.compose import ColumnTransformer\n",
    "from sklearn.impute import SimpleImputer\n",
    "import numpy as np"
   ]
  },
  {
   "cell_type": "code",
   "execution_count": 3,
   "id": "d6aba6dc-4293-47c4-81f8-fc201ea9491c",
   "metadata": {},
   "outputs": [
    {
     "data": {
      "text/html": [
       "<div>\n",
       "<style scoped>\n",
       "    .dataframe tbody tr th:only-of-type {\n",
       "        vertical-align: middle;\n",
       "    }\n",
       "\n",
       "    .dataframe tbody tr th {\n",
       "        vertical-align: top;\n",
       "    }\n",
       "\n",
       "    .dataframe thead th {\n",
       "        text-align: right;\n",
       "    }\n",
       "</style>\n",
       "<table border=\"1\" class=\"dataframe\">\n",
       "  <thead>\n",
       "    <tr style=\"text-align: right;\">\n",
       "      <th></th>\n",
       "      <th>V1</th>\n",
       "      <th>V2</th>\n",
       "      <th>V3</th>\n",
       "      <th>V4</th>\n",
       "      <th>V5</th>\n",
       "      <th>Target</th>\n",
       "    </tr>\n",
       "  </thead>\n",
       "  <tbody>\n",
       "    <tr>\n",
       "      <th>0</th>\n",
       "      <td>2.0</td>\n",
       "      <td>50.0</td>\n",
       "      <td>12500.0</td>\n",
       "      <td>98.0</td>\n",
       "      <td>NEGATIVE</td>\n",
       "      <td>YES</td>\n",
       "    </tr>\n",
       "    <tr>\n",
       "      <th>1</th>\n",
       "      <td>0.0</td>\n",
       "      <td>13.0</td>\n",
       "      <td>3250.0</td>\n",
       "      <td>28.0</td>\n",
       "      <td>NEGATIVE</td>\n",
       "      <td>YES</td>\n",
       "    </tr>\n",
       "    <tr>\n",
       "      <th>2</th>\n",
       "      <td>NaN</td>\n",
       "      <td>NaN</td>\n",
       "      <td>4000.0</td>\n",
       "      <td>35.0</td>\n",
       "      <td>NEGATIVE</td>\n",
       "      <td>YES</td>\n",
       "    </tr>\n",
       "    <tr>\n",
       "      <th>3</th>\n",
       "      <td>NaN</td>\n",
       "      <td>20.0</td>\n",
       "      <td>5000.0</td>\n",
       "      <td>45.0</td>\n",
       "      <td>NEGATIVE</td>\n",
       "      <td>YES</td>\n",
       "    </tr>\n",
       "    <tr>\n",
       "      <th>4</th>\n",
       "      <td>1.0</td>\n",
       "      <td>24.0</td>\n",
       "      <td>6000.0</td>\n",
       "      <td>77.0</td>\n",
       "      <td>NEGATIVE</td>\n",
       "      <td>NO</td>\n",
       "    </tr>\n",
       "  </tbody>\n",
       "</table>\n",
       "</div>"
      ],
      "text/plain": [
       "    V1    V2       V3    V4        V5 Target\n",
       "0  2.0  50.0  12500.0  98.0  NEGATIVE    YES\n",
       "1  0.0  13.0   3250.0  28.0  NEGATIVE    YES\n",
       "2  NaN   NaN   4000.0  35.0  NEGATIVE    YES\n",
       "3  NaN  20.0   5000.0  45.0  NEGATIVE    YES\n",
       "4  1.0  24.0   6000.0  77.0  NEGATIVE     NO"
      ]
     },
     "execution_count": 3,
     "metadata": {},
     "output_type": "execute_result"
    }
   ],
   "source": [
    "df = pd.read_csv('data/DataPreprocessingGraded_dataset.csv', na_values=['?'])\n",
    "df.head()"
   ]
  },
  {
   "cell_type": "code",
   "execution_count": 4,
   "id": "ea48bc88-d1cd-498b-a705-287b54f5715e",
   "metadata": {},
   "outputs": [
    {
     "name": "stdout",
     "output_type": "stream",
     "text": [
      "<class 'pandas.core.frame.DataFrame'>\n",
      "RangeIndex: 748 entries, 0 to 747\n",
      "Data columns (total 6 columns):\n",
      " #   Column  Non-Null Count  Dtype  \n",
      "---  ------  --------------  -----  \n",
      " 0   V1      743 non-null    float64\n",
      " 1   V2      743 non-null    float64\n",
      " 2   V3      748 non-null    float64\n",
      " 3   V4      748 non-null    float64\n",
      " 4   V5      748 non-null    object \n",
      " 5   Target  748 non-null    object \n",
      "dtypes: float64(4), object(2)\n",
      "memory usage: 35.2+ KB\n"
     ]
    }
   ],
   "source": [
    "df.info()"
   ]
  },
  {
   "cell_type": "code",
   "execution_count": 48,
   "id": "3ea178e5-ffa5-44a3-a28d-95a7c9e9a0c1",
   "metadata": {},
   "outputs": [],
   "source": [
    "imputer = ColumnTransformer([\n",
    "    ('imputer', SimpleImputer(strategy='mean'), [0, 1])\n",
    "], remainder='passthrough')\n",
    "\n",
    "ord_enc = ColumnTransformer([\n",
    "    ('encoder', OrdinalEncoder(), [4])\n",
    "])\n",
    "\n",
    "\n",
    "pre_pipe = Pipeline([\n",
    "    ('imputer', imputer),\n",
    "    ('scaler', ColumnTransformer([('scaler', StandardScaler(), [0, 1, 2, 3])])),\n",
    "])\n",
    "\n",
    "feat_un = FeatureUnion([\n",
    "    ('pipe', pre_pipe),\n",
    "    ('enc', ord_enc)\n",
    "])\n",
    "\n",
    "pipe = Pipeline([\n",
    "    ('union', feat_un),\n",
    "    ('varthresh', VarianceThreshold(threshold=0.1))\n",
    "])\n",
    "\n",
    "\n",
    "x_red = pre_pipe.fit_transform(df)"
   ]
  },
  {
   "cell_type": "code",
   "execution_count": 49,
   "id": "5a5abbb1-b738-4f80-84e3-c8856c4db247",
   "metadata": {},
   "outputs": [
    {
     "data": {
      "text/plain": [
       "(748, 4)"
      ]
     },
     "execution_count": 49,
     "metadata": {},
     "output_type": "execute_result"
    }
   ],
   "source": []
  },
  {
   "cell_type": "code",
   "execution_count": 53,
   "id": "f1c878cd-8cf8-4c87-bb7c-e7f2b4ded81c",
   "metadata": {},
   "outputs": [],
   "source": [
    "si = SimpleImputer(strategy='mean')\n",
    "x = si.fit_transform(df.values[:, :2])\n",
    "x = np.c_[x, df.values[:, 2:4]]\n",
    "x = StandardScaler().fit_transform(x)\n",
    "\n",
    "x = np.c_[x, OrdinalEncoder().fit_transform(df.values[:, 4].reshape(-1, 1))]\n",
    "x = VarianceThreshold(threshold=0.1).fit_transform(x)"
   ]
  },
  {
   "cell_type": "code",
   "execution_count": 54,
   "id": "f3fdd7c9-feb4-4004-b3ff-33fd15a0e816",
   "metadata": {},
   "outputs": [
    {
     "data": {
      "text/plain": [
       "(748, 4)"
      ]
     },
     "execution_count": 54,
     "metadata": {},
     "output_type": "execute_result"
    }
   ],
   "source": [
    "x.shape"
   ]
  },
  {
   "cell_type": "code",
   "execution_count": 55,
   "id": "82c88208-536b-4d6e-8c90-63c93b11db26",
   "metadata": {},
   "outputs": [
    {
     "data": {
      "text/plain": [
       "True"
      ]
     },
     "execution_count": 55,
     "metadata": {},
     "output_type": "execute_result"
    }
   ],
   "source": [
    "np.allclose(x, x_red)"
   ]
  },
  {
   "cell_type": "code",
   "execution_count": 58,
   "id": "39c3a9c1-a5db-470e-a440-b73dfeee9a54",
   "metadata": {},
   "outputs": [],
   "source": [
    "y = OrdinalEncoder().fit_transform(df['Target'].values.reshape(-1, 1))"
   ]
  },
  {
   "cell_type": "code",
   "execution_count": 60,
   "id": "7213a45a-baf2-4561-8df9-c66153eee799",
   "metadata": {},
   "outputs": [],
   "source": [
    "y = y.ravel()"
   ]
  },
  {
   "cell_type": "code",
   "execution_count": 61,
   "id": "e4b53808-7d66-447d-a653-16f60a3eb207",
   "metadata": {},
   "outputs": [],
   "source": [
    "from sklearn.linear_model import LogisticRegression"
   ]
  },
  {
   "cell_type": "code",
   "execution_count": 62,
   "id": "8916c93a-91e4-486f-be28-149cdcfade29",
   "metadata": {},
   "outputs": [],
   "source": [
    "from sklearn.feature_selection import RFE"
   ]
  },
  {
   "cell_type": "code",
   "execution_count": 64,
   "id": "bcd58988-4411-4805-80ac-09be247149dd",
   "metadata": {},
   "outputs": [
    {
     "data": {
      "text/plain": [
       "RFE(estimator=LogisticRegression(), n_features_to_select=2)"
      ]
     },
     "execution_count": 64,
     "metadata": {},
     "output_type": "execute_result"
    }
   ],
   "source": [
    "RFE(LogisticRegression(), n_features_to_select=2).fit(x_red, y)"
   ]
  },
  {
   "cell_type": "code",
   "execution_count": 65,
   "id": "c9bdf6a3-0572-4ee1-99da-a3255c91df61",
   "metadata": {},
   "outputs": [],
   "source": [
    "ref = _"
   ]
  },
  {
   "cell_type": "code",
   "execution_count": 66,
   "id": "ea57be2b-828f-4dcd-a0a7-e3732575ccf0",
   "metadata": {},
   "outputs": [
    {
     "data": {
      "text/plain": [
       "array([ True, False,  True, False])"
      ]
     },
     "execution_count": 66,
     "metadata": {},
     "output_type": "execute_result"
    }
   ],
   "source": [
    "ref.support_"
   ]
  },
  {
   "cell_type": "code",
   "execution_count": 67,
   "id": "d0381742-06da-45dc-af8b-0bbc076cf38e",
   "metadata": {},
   "outputs": [],
   "source": [
    "from sklearn.feature_selection import SequentialFeatureSelector"
   ]
  },
  {
   "cell_type": "code",
   "execution_count": 68,
   "id": "c52b8461-4514-4907-9013-e96cae0155a5",
   "metadata": {},
   "outputs": [
    {
     "data": {
      "text/plain": [
       "SequentialFeatureSelector(estimator=LogisticRegression(),\n",
       "                          n_features_to_select=2)"
      ]
     },
     "execution_count": 68,
     "metadata": {},
     "output_type": "execute_result"
    }
   ],
   "source": [
    "sfs = SequentialFeatureSelector(LogisticRegression(), n_features_to_select=2, direction='forward')\n",
    "sfs.fit(x_red, y)"
   ]
  },
  {
   "cell_type": "code",
   "execution_count": 69,
   "id": "0429b96e-6d2c-4ade-b96b-8bf0e0e1c02c",
   "metadata": {},
   "outputs": [
    {
     "data": {
      "text/plain": [
       "array([False,  True, False,  True])"
      ]
     },
     "execution_count": 69,
     "metadata": {},
     "output_type": "execute_result"
    }
   ],
   "source": [
    "sfs.support_"
   ]
  },
  {
   "cell_type": "code",
   "execution_count": 70,
   "id": "3b5fe6cc-6c3a-4586-8e33-1097a3ab8a98",
   "metadata": {},
   "outputs": [
    {
     "data": {
      "text/plain": [
       "array([[-9.38169390e-01,  7.70986653e+00,  7.62334626e+00,\n",
       "         2.61563344e+00],\n",
       "       [-1.18627754e+00,  1.30454949e+00,  1.28273826e+00,\n",
       "        -2.57880900e-01],\n",
       "       [ 0.00000000e+00, -1.53758496e-16,  1.79684161e+00,\n",
       "         2.94705348e-02],\n",
       "       ...,\n",
       "       [ 1.66696622e+00, -4.26617275e-01, -4.30939574e-01,\n",
       "         1.13782607e+00],\n",
       "       [ 3.65183145e+00, -7.72850628e-01, -7.73675141e-01,\n",
       "         1.93671355e-01],\n",
       "       [ 7.74561598e+00, -7.72850628e-01, -7.73675141e-01,\n",
       "         1.54832812e+00]])"
      ]
     },
     "execution_count": 70,
     "metadata": {},
     "output_type": "execute_result"
    }
   ],
   "source": [
    "x_red"
   ]
  },
  {
   "cell_type": "code",
   "execution_count": 71,
   "id": "d48735cb-03da-450c-b08c-b3d94c08d18e",
   "metadata": {},
   "outputs": [
    {
     "data": {
      "text/plain": [
       "array([False, False,  True,  True])"
      ]
     },
     "execution_count": 71,
     "metadata": {},
     "output_type": "execute_result"
    }
   ],
   "source": [
    "sfs = SequentialFeatureSelector(LogisticRegression(), n_features_to_select=2, direction='backward')\n",
    "sfs.fit(x_red, y)\n",
    "sfs.support_"
   ]
  },
  {
   "cell_type": "code",
   "execution_count": null,
   "id": "ec7145a4-f202-45ea-9de4-2f2a13c3fbaa",
   "metadata": {},
   "outputs": [],
   "source": []
  }
 ],
 "metadata": {
  "kernelspec": {
   "display_name": "Python 3 (ipykernel)",
   "language": "python",
   "name": "python3"
  },
  "language_info": {
   "codemirror_mode": {
    "name": "ipython",
    "version": 3
   },
   "file_extension": ".py",
   "mimetype": "text/x-python",
   "name": "python",
   "nbconvert_exporter": "python",
   "pygments_lexer": "ipython3",
   "version": "3.7.11"
  }
 },
 "nbformat": 4,
 "nbformat_minor": 5
}
