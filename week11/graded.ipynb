{
 "cells": [
  {
   "cell_type": "code",
   "execution_count": 1,
   "id": "85a6c928-4a60-4e47-8dad-59dc26a2af6a",
   "metadata": {},
   "outputs": [],
   "source": [
    "import pandas as pd\n",
    "from sklearn import cluster\n",
    "import numpy as np\n",
    "import matplotlib.pyplot as plt\n",
    "%matplotlib inline"
   ]
  },
  {
   "cell_type": "code",
   "execution_count": 2,
   "id": "dbc8b53f-b9dd-4dc7-ad4c-babf0468a366",
   "metadata": {},
   "outputs": [
    {
     "data": {
      "text/plain": [
       "(7050, 16)"
      ]
     },
     "execution_count": 2,
     "metadata": {},
     "output_type": "execute_result"
    }
   ],
   "source": [
    "# (Consider the statement for Q1- Q8) Load the dataset using following link\n",
    "\n",
    "# Url= \"https://archive.ics.uci.edu/ml/machine-learning-databases/00488/Live_20210128.csv\"\n",
    "\n",
    "# Check if any feature contains Null values.\n",
    "\n",
    "# Drop all the features which have Null values.\n",
    "\n",
    "# Save 'status_type' as target variable.\n",
    "\n",
    "# Drop the feature \"status_id\", \"status_type\" and \"status_published\" from training set.\n",
    "\n",
    "# Use LabelEncoder to transform the target variable.\n",
    "\n",
    "# Use standard scaler to scale the features.\n",
    "\n",
    "# For Q4,Q5 Train the model using Kmeans clustering (Take Random state=10)\n",
    "\n",
    "# For Q6,Q7,Q8 Train the model using Agglomerative Clustering by setting the parameter as following\n",
    "\n",
    "df = pd.read_csv('https://archive.ics.uci.edu/ml/machine-learning-databases/00488/Live_20210128.csv')\n",
    "df.shape"
   ]
  },
  {
   "cell_type": "code",
   "execution_count": 7,
   "id": "67654628-0593-46b6-9cbd-f3a5058859b8",
   "metadata": {},
   "outputs": [
    {
     "name": "stdout",
     "output_type": "stream",
     "text": [
      "<class 'pandas.core.frame.DataFrame'>\n",
      "RangeIndex: 7050 entries, 0 to 7049\n",
      "Data columns (total 16 columns):\n",
      "status_id           7050 non-null int64\n",
      "status_type         7050 non-null object\n",
      "status_published    7050 non-null object\n",
      "num_reactions       7050 non-null int64\n",
      "num_comments        7050 non-null int64\n",
      "num_shares          7050 non-null int64\n",
      "num_likes           7050 non-null int64\n",
      "num_loves           7050 non-null int64\n",
      "num_wows            7050 non-null int64\n",
      "num_hahas           7050 non-null int64\n",
      "num_sads            7050 non-null int64\n",
      "num_angrys          7050 non-null int64\n",
      "Column1             0 non-null float64\n",
      "Column2             0 non-null float64\n",
      "Column3             0 non-null float64\n",
      "Column4             0 non-null float64\n",
      "dtypes: float64(4), int64(10), object(2)\n",
      "memory usage: 881.4+ KB\n"
     ]
    }
   ],
   "source": [
    "df.info()"
   ]
  },
  {
   "cell_type": "code",
   "execution_count": 8,
   "id": "85e7fe6a-fef2-4913-a8bc-a2fe29ae6bca",
   "metadata": {},
   "outputs": [],
   "source": [
    "nullCols = [f'Column{i}' for i in range(1, 5)]\n",
    "df.drop(nullCols + ['status_id', 'status_published'], axis=1, inplace=True)"
   ]
  },
  {
   "cell_type": "code",
   "execution_count": 9,
   "id": "804a7411-2356-44f9-8e4c-aab1096a9dd2",
   "metadata": {},
   "outputs": [
    {
     "data": {
      "text/plain": [
       "(7050, 10)"
      ]
     },
     "execution_count": 9,
     "metadata": {},
     "output_type": "execute_result"
    }
   ],
   "source": [
    "df.shape"
   ]
  },
  {
   "cell_type": "code",
   "execution_count": 12,
   "id": "538d3f47-031e-4c8d-a0b2-7474459eecf5",
   "metadata": {},
   "outputs": [
    {
     "data": {
      "text/plain": [
       "15"
      ]
     },
     "execution_count": 12,
     "metadata": {},
     "output_type": "execute_result"
    }
   ],
   "source": [
    "df.shape[1] + len(nullCols) + 2 - 1"
   ]
  },
  {
   "cell_type": "code",
   "execution_count": 13,
   "id": "45c90b40-cd93-4068-9663-0e6a04b49215",
   "metadata": {},
   "outputs": [
    {
     "data": {
      "text/plain": [
       "photo     4288\n",
       "video     2334\n",
       "status     365\n",
       "link        63\n",
       "Name: status_type, dtype: int64"
      ]
     },
     "execution_count": 13,
     "metadata": {},
     "output_type": "execute_result"
    }
   ],
   "source": [
    "df['status_type'].value_counts()"
   ]
  },
  {
   "cell_type": "code",
   "execution_count": 14,
   "id": "2144d710-76ed-41c4-8177-1869ca72f1ad",
   "metadata": {},
   "outputs": [
    {
     "data": {
      "text/plain": [
       "4986391851.630981"
      ]
     },
     "execution_count": 14,
     "metadata": {},
     "output_type": "execute_result"
    }
   ],
   "source": [
    "X = df.drop(['status_type'], axis=1)\n",
    "km = cluster.KMeans(n_clusters=2, random_state=10)\n",
    "km.fit(X)\n",
    "km.inertia_"
   ]
  },
  {
   "cell_type": "code",
   "execution_count": 15,
   "id": "cf7db24a-66f1-4f57-924f-c7976d3e0d68",
   "metadata": {},
   "outputs": [
    {
     "data": {
      "text/plain": [
       "48278.09824220487"
      ]
     },
     "execution_count": 15,
     "metadata": {},
     "output_type": "execute_result"
    }
   ],
   "source": [
    "from sklearn.preprocessing import StandardScaler\n",
    "\n",
    "scaler = StandardScaler()\n",
    "X = scaler.fit_transform(X)\n",
    "\n",
    "\n",
    "km = cluster.KMeans(n_clusters=2, random_state=10)\n",
    "km.fit(X)\n",
    "km.inertia_"
   ]
  },
  {
   "cell_type": "code",
   "execution_count": 17,
   "id": "89e7bde7-6e34-47b5-8f72-6490cc3bc4d4",
   "metadata": {},
   "outputs": [],
   "source": [
    "from sklearn.preprocessing import LabelEncoder\n",
    "\n",
    "lenc = LabelEncoder().fit(df['status_type'].values)"
   ]
  },
  {
   "cell_type": "code",
   "execution_count": 21,
   "id": "99a19b85-7475-45ea-8699-1570159caaab",
   "metadata": {},
   "outputs": [],
   "source": [
    "y = LabelEncoder().fit_transform(df['status_type'].values)"
   ]
  },
  {
   "cell_type": "code",
   "execution_count": 22,
   "id": "8e04df58-1620-4860-bd2a-d9de6491d51e",
   "metadata": {},
   "outputs": [
    {
     "data": {
      "text/plain": [
       "176"
      ]
     },
     "execution_count": 22,
     "metadata": {},
     "output_type": "execute_result"
    }
   ],
   "source": [
    "km = cluster.KMeans(n_clusters=4, random_state=10)\n",
    "km.fit(X)\n",
    "\n",
    "(km.labels_ == y).sum()"
   ]
  },
  {
   "cell_type": "code",
   "execution_count": 20,
   "id": "06ec92c6-c370-4dae-872b-49182384e61a",
   "metadata": {},
   "outputs": [
    {
     "data": {
      "text/plain": [
       "(7050, 10)"
      ]
     },
     "execution_count": 20,
     "metadata": {},
     "output_type": "execute_result"
    }
   ],
   "source": [
    "df.shape"
   ]
  },
  {
   "cell_type": "code",
   "execution_count": 24,
   "id": "920697db-255a-4b1c-9a20-db50c016a6a7",
   "metadata": {},
   "outputs": [
    {
     "data": {
      "text/plain": [
       "3"
      ]
     },
     "execution_count": 24,
     "metadata": {},
     "output_type": "execute_result"
    }
   ],
   "source": [
    "ac = cluster.AgglomerativeClustering(n_clusters=4,affinity='euclidean', linkage='ward')\n",
    "ac.fit(X)\n",
    "ac.labels_[0]"
   ]
  },
  {
   "cell_type": "code",
   "execution_count": 25,
   "id": "5e875149-cefa-4063-b987-5130b3e9e4b9",
   "metadata": {},
   "outputs": [
    {
     "data": {
      "text/plain": [
       "7050"
      ]
     },
     "execution_count": 25,
     "metadata": {},
     "output_type": "execute_result"
    }
   ],
   "source": [
    "ac.n_leaves_"
   ]
  },
  {
   "cell_type": "code",
   "execution_count": 26,
   "id": "5e1f1e56-95f0-49e5-9f42-907ee0a08ab0",
   "metadata": {},
   "outputs": [
    {
     "data": {
      "text/plain": [
       "2009"
      ]
     },
     "execution_count": 26,
     "metadata": {},
     "output_type": "execute_result"
    }
   ],
   "source": [
    "(ac.labels_ == y).sum()"
   ]
  },
  {
   "cell_type": "code",
   "execution_count": 27,
   "id": "8f2d35fd-b1a0-4507-9ecc-23c855fa26a3",
   "metadata": {},
   "outputs": [],
   "source": [
    "from sklearn.metrics import accuracy_score"
   ]
  },
  {
   "cell_type": "code",
   "execution_count": 28,
   "id": "7425d637-ad3c-48aa-bcce-858e1ec8d341",
   "metadata": {},
   "outputs": [
    {
     "data": {
      "text/plain": [
       "0.2849645390070922"
      ]
     },
     "execution_count": 28,
     "metadata": {},
     "output_type": "execute_result"
    }
   ],
   "source": [
    "accuracy_score(y, ac.labels_)"
   ]
  },
  {
   "cell_type": "code",
   "execution_count": null,
   "id": "2603b695-05b8-4319-9cbb-e10a2a060f17",
   "metadata": {},
   "outputs": [],
   "source": []
  }
 ],
 "metadata": {
  "kernelspec": {
   "display_name": "Python 3",
   "language": "python",
   "name": "python3"
  },
  "language_info": {
   "codemirror_mode": {
    "name": "ipython",
    "version": 3
   },
   "file_extension": ".py",
   "mimetype": "text/x-python",
   "name": "python",
   "nbconvert_exporter": "python",
   "pygments_lexer": "ipython3",
   "version": "3.7.3"
  }
 },
 "nbformat": 4,
 "nbformat_minor": 5
}
