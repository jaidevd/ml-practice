{
 "cells": [
  {
   "cell_type": "code",
   "execution_count": 1,
   "id": "4a68505b-3759-4a9a-90a7-bf1d34207dec",
   "metadata": {},
   "outputs": [],
   "source": [
    "from sklearn.datasets import load_iris\n",
    "from sklearn.model_selection import train_test_split, GridSearchCV\n",
    "from sklearn.svm import SVC"
   ]
  },
  {
   "cell_type": "code",
   "execution_count": 2,
   "id": "0de7c512-02bd-44ae-a0d8-abec37f8da46",
   "metadata": {},
   "outputs": [],
   "source": [
    "X, y = load_iris(return_X_y=True)\n",
    "xtrain, xtest, ytrain, ytest = train_test_split(X, y, test_size=0.3, random_state=0)"
   ]
  },
  {
   "cell_type": "code",
   "execution_count": 8,
   "id": "82ccfab0-64a6-45f7-951e-4c0e7308b95b",
   "metadata": {},
   "outputs": [
    {
     "data": {
      "text/plain": [
       "0.9711538461538461"
      ]
     },
     "execution_count": 8,
     "metadata": {},
     "output_type": "execute_result"
    }
   ],
   "source": [
    "grid = {\n",
    "    'kernel': ['rbf'],\n",
    "    'C': [1, 15, 25],\n",
    "    'gamma': ['auto'],\n",
    "}\n",
    "gcv = GridSearchCV(SVC(), param_grid=grid, cv=4)\n",
    "\n",
    "gcv.fit(xtrain, ytrain)\n",
    "gcv.best_score_"
   ]
  },
  {
   "cell_type": "code",
   "execution_count": 12,
   "id": "17d279e7-6dd9-4b7c-a165-9229696d54cf",
   "metadata": {},
   "outputs": [],
   "source": [
    "import pandas as pd"
   ]
  },
  {
   "cell_type": "code",
   "execution_count": 14,
   "id": "00a1d8d2-4073-487f-8219-5f128c795da8",
   "metadata": {},
   "outputs": [],
   "source": [
    "df = pd.read_csv('Social_Network_Ads.csv')\n",
    "X, y = df.drop(['Purchased'], axis=1).values, df['Purchased'].values"
   ]
  },
  {
   "cell_type": "code",
   "execution_count": 15,
   "id": "a7395f78-287a-488c-b2e5-1b646fb99039",
   "metadata": {},
   "outputs": [],
   "source": [
    "\n",
    "from sklearn.preprocessing import StandardScaler\n",
    "\n",
    "scaler = StandardScaler()\n",
    "X = scaler.fit_transform(X)\n",
    "\n",
    "xtrain, xtest, ytrain, ytest = train_test_split(X, y, test_size=0.25, random_state=0)"
   ]
  },
  {
   "cell_type": "code",
   "execution_count": 16,
   "id": "7f3cf052-7bd9-4c13-952d-08c0819d6a1d",
   "metadata": {},
   "outputs": [],
   "source": [
    "svc = SVC(kernel='linear', random_state=0)"
   ]
  },
  {
   "cell_type": "code",
   "execution_count": 17,
   "id": "c4857d07-ac60-4f2e-87cc-7a0c5753035e",
   "metadata": {},
   "outputs": [
    {
     "data": {
      "text/plain": [
       "SVC(kernel='linear', random_state=0)"
      ]
     },
     "execution_count": 17,
     "metadata": {},
     "output_type": "execute_result"
    }
   ],
   "source": [
    "svc.fit(xtrain, ytrain)"
   ]
  },
  {
   "cell_type": "code",
   "execution_count": 18,
   "id": "25b9ad27-18a8-404c-9b61-07d195a425de",
   "metadata": {},
   "outputs": [
    {
     "data": {
      "text/plain": [
       "0.9"
      ]
     },
     "execution_count": 18,
     "metadata": {},
     "output_type": "execute_result"
    }
   ],
   "source": [
    "svc.score(xtest, ytest)"
   ]
  },
  {
   "cell_type": "code",
   "execution_count": 19,
   "id": "10b3a3b8-05e2-498a-a2fb-3286d8f8c69c",
   "metadata": {},
   "outputs": [],
   "source": [
    "ypred = svc.predict(xtest)"
   ]
  },
  {
   "cell_type": "code",
   "execution_count": 20,
   "id": "2b2995f0-2618-464d-9825-5af719aff4e4",
   "metadata": {},
   "outputs": [
    {
     "data": {
      "text/plain": [
       "array([[66,  2],\n",
       "       [ 8, 24]])"
      ]
     },
     "execution_count": 20,
     "metadata": {},
     "output_type": "execute_result"
    }
   ],
   "source": [
    "from sklearn.metrics import confusion_matrix\n",
    "confusion_matrix(ytest, ypred)"
   ]
  },
  {
   "cell_type": "code",
   "execution_count": 21,
   "id": "7b1c88f4-eeab-4e3e-a2ad-92dd1151c506",
   "metadata": {},
   "outputs": [
    {
     "data": {
      "text/plain": [
       "0.88"
      ]
     },
     "execution_count": 21,
     "metadata": {},
     "output_type": "execute_result"
    }
   ],
   "source": [
    "(63+25)/(63 + 25 + 7 + 5)"
   ]
  },
  {
   "cell_type": "code",
   "execution_count": 22,
   "id": "a081b3b0-bfdd-4110-b971-fd4ea0b6f9da",
   "metadata": {},
   "outputs": [],
   "source": [
    "from sklearn.datasets import fetch_openml\n",
    "\n",
    "mnist = fetch_openml('mnist_784', version=1)"
   ]
  },
  {
   "cell_type": "code",
   "execution_count": 23,
   "id": "7f1452f7-2ae2-4f29-8aff-33f2fc103f7c",
   "metadata": {},
   "outputs": [
    {
     "data": {
      "text/plain": [
       "array([[469,   0,   1,   0,   0,   5,   1,   1,   1,   0],\n",
       "       [  1, 555,   2,   4,   0,   1,   1,   1,   3,   0],\n",
       "       [  5,   4, 479,   6,   9,   1,   3,   6,   7,   1],\n",
       "       [  3,   3,  13, 462,   0,  19,   0,   3,   9,   4],\n",
       "       [  2,   0,   6,   0, 468,   1,   2,   4,   1,  16],\n",
       "       [ 14,   0,   0,  18,   2, 405,   3,   2,   7,   9],\n",
       "       [  1,   2,   2,   0,   6,   9, 471,   0,   0,   0],\n",
       "       [  0,   2,   4,   1,   7,   1,   0, 483,   0,   6],\n",
       "       [  3,  10,  11,  15,   0,  19,   6,   3, 396,   3],\n",
       "       [  3,   6,   1,   2,  21,   0,   0,  26,   2, 435]])"
      ]
     },
     "execution_count": 23,
     "metadata": {},
     "output_type": "execute_result"
    }
   ],
   "source": [
    "from sklearn.pipeline import Pipeline\n",
    "from sklearn.preprocessing import MinMaxScaler\n",
    "\n",
    "xtr, xts = mnist.data[:20_000], mnist.data[20_000:25_000]\n",
    "ytr, yts = mnist.target[:20_000], mnist.target[20_000:25_000]\n",
    "\n",
    "\n",
    "pipe = Pipeline([\n",
    "    ('scaler', MinMaxScaler()),\n",
    "    ('clf', SVC(kernel='linear', decision_function_shape='ovr', class_weight=None))\n",
    "])\n",
    "\n",
    "pipe.fit(xtr, ytr)\n",
    "confusion_matrix(yts, pipe.predict(xts))"
   ]
  },
  {
   "cell_type": "code",
   "execution_count": 24,
   "id": "cdffacab-bd04-463f-9077-cecc71d31d8b",
   "metadata": {},
   "outputs": [],
   "source": [
    "cm = _"
   ]
  },
  {
   "cell_type": "code",
   "execution_count": 26,
   "id": "f976d49d-b55c-47db-a3a8-480e0d0169ef",
   "metadata": {},
   "outputs": [
    {
     "data": {
      "text/plain": [
       "4623"
      ]
     },
     "execution_count": 26,
     "metadata": {},
     "output_type": "execute_result"
    }
   ],
   "source": [
    "import numpy as np\n",
    "np.diag(cm).sum()"
   ]
  },
  {
   "cell_type": "code",
   "execution_count": 27,
   "id": "139abe1e-a0c4-4d22-8894-1c5b7bd930e7",
   "metadata": {},
   "outputs": [
    {
     "data": {
      "text/plain": [
       "4623"
      ]
     },
     "execution_count": 27,
     "metadata": {},
     "output_type": "execute_result"
    }
   ],
   "source": [
    "pipe.fit(xtr, ytr)\n",
    "cm = confusion_matrix(yts, pipe.predict(xts))\n",
    "\n",
    "np.diag(cm).sum()"
   ]
  },
  {
   "cell_type": "code",
   "execution_count": 28,
   "id": "f25550d7-424b-418a-8f25-2993cc30ff3b",
   "metadata": {},
   "outputs": [],
   "source": [
    "from sklearn.metrics import precision_score, recall_score, f1_score"
   ]
  },
  {
   "cell_type": "code",
   "execution_count": 34,
   "id": "cfb0e14f-b67e-4cb0-8974-2645e3db406d",
   "metadata": {},
   "outputs": [
    {
     "name": "stdout",
     "output_type": "stream",
     "text": [
      "0.9245834577056025\n",
      "0.9246\n",
      "0.9242341822537996\n"
     ]
    }
   ],
   "source": [
    "pred = pipe.predict(xts)\n",
    "\n",
    "print(precision_score(yts, pred, average='weighted'))\n",
    "print(recall_score(yts, pred, average='weighted'))\n",
    "print(f1_score(yts, pred, average='weighted'))"
   ]
  },
  {
   "cell_type": "code",
   "execution_count": 35,
   "id": "db26ce0d-5258-41f3-b1c2-bba9131160b7",
   "metadata": {},
   "outputs": [],
   "source": [
    "xtr, xts, ytr, yts = train_test_split(mnist.data, mnist.target, test_size=0.5, random_state=42)\n",
    "\n",
    "pipe = Pipeline([\n",
    "    ('scaler', StandardScaler()),\n",
    "    ('clf', SVC(kernel='poly', degree=3, decision_function_shape='ovr', class_weight='balanced', C=10))\n",
    "])\n",
    "\n",
    "pipe.fit(xtr, ytr)\n",
    "\n",
    "pred = pipe.predict(xts)"
   ]
  },
  {
   "cell_type": "code",
   "execution_count": 36,
   "id": "e6c3cdbe-5e39-47e3-9da8-875969af9d37",
   "metadata": {},
   "outputs": [
    {
     "name": "stdout",
     "output_type": "stream",
     "text": [
      "              precision    recall  f1-score   support\n",
      "\n",
      "           0       0.99      0.98      0.99      3463\n",
      "           1       0.99      0.99      0.99      3927\n",
      "           2       0.96      0.97      0.96      3520\n",
      "           3       0.98      0.96      0.97      3551\n",
      "           4       0.96      0.98      0.97      3333\n",
      "           5       0.97      0.97      0.97      3144\n",
      "           6       0.98      0.98      0.98      3490\n",
      "           7       0.98      0.97      0.97      3718\n",
      "           8       0.96      0.96      0.96      3344\n",
      "           9       0.96      0.96      0.96      3510\n",
      "\n",
      "    accuracy                           0.97     35000\n",
      "   macro avg       0.97      0.97      0.97     35000\n",
      "weighted avg       0.97      0.97      0.97     35000\n",
      "\n"
     ]
    }
   ],
   "source": [
    "from sklearn.metrics import classification_report\n",
    "print(classification_report(yts, pred))"
   ]
  },
  {
   "cell_type": "code",
   "execution_count": 45,
   "id": "c9d2e979-cf1a-4eb1-af76-c8f5c7f3566f",
   "metadata": {},
   "outputs": [
    {
     "data": {
      "text/plain": [
       "0.9777777777777777"
      ]
     },
     "execution_count": 45,
     "metadata": {},
     "output_type": "execute_result"
    }
   ],
   "source": [
    "X, y = load_iris(return_X_y=True)\n",
    "\n",
    "\n",
    "\n",
    "clf = SVC(kernel='poly', C=10, gamma='auto')\n",
    "clf.fit(xtr, ytr)\n",
    "clf.score(xts, yts)"
   ]
  },
  {
   "cell_type": "code",
   "execution_count": 49,
   "id": "06022f6a-bdc9-4d0b-a794-5d268bf0911c",
   "metadata": {},
   "outputs": [
    {
     "data": {
      "text/plain": [
       "0.28888888888888886"
      ]
     },
     "execution_count": 49,
     "metadata": {},
     "output_type": "execute_result"
    }
   ],
   "source": [
    "\n",
    "xtr, xts, ytr, yts = train_test_split(X, y, train_size=0.7, random_state=42)\n",
    "\n",
    "clf = SVC(kernel='sigmoid', C=25, gamma='auto')\n",
    "clf.fit(xtr, ytr)\n",
    "clf.score(xts, yts)"
   ]
  },
  {
   "cell_type": "code",
   "execution_count": 50,
   "id": "aeef0a97-8551-48ba-9756-84e2af7bb60f",
   "metadata": {},
   "outputs": [],
   "source": [
    "iris = load_iris()\n",
    "df = pd.DataFrame(iris.data, columns=iris.feature_names)"
   ]
  },
  {
   "cell_type": "code",
   "execution_count": 52,
   "id": "03bda5c8-3085-40af-b900-428d367a15f7",
   "metadata": {},
   "outputs": [],
   "source": [
    "df['label'] = iris.target_names[iris.target]"
   ]
  },
  {
   "cell_type": "code",
   "execution_count": 53,
   "id": "5c44e715-ca40-4fe8-a94c-628f906a713b",
   "metadata": {},
   "outputs": [
    {
     "data": {
      "text/html": [
       "<div>\n",
       "<style scoped>\n",
       "    .dataframe tbody tr th:only-of-type {\n",
       "        vertical-align: middle;\n",
       "    }\n",
       "\n",
       "    .dataframe tbody tr th {\n",
       "        vertical-align: top;\n",
       "    }\n",
       "\n",
       "    .dataframe thead th {\n",
       "        text-align: right;\n",
       "    }\n",
       "</style>\n",
       "<table border=\"1\" class=\"dataframe\">\n",
       "  <thead>\n",
       "    <tr style=\"text-align: right;\">\n",
       "      <th></th>\n",
       "      <th>sepal length (cm)</th>\n",
       "      <th>sepal width (cm)</th>\n",
       "      <th>petal length (cm)</th>\n",
       "      <th>petal width (cm)</th>\n",
       "      <th>label</th>\n",
       "    </tr>\n",
       "  </thead>\n",
       "  <tbody>\n",
       "    <tr>\n",
       "      <th>0</th>\n",
       "      <td>5.1</td>\n",
       "      <td>3.5</td>\n",
       "      <td>1.4</td>\n",
       "      <td>0.2</td>\n",
       "      <td>setosa</td>\n",
       "    </tr>\n",
       "    <tr>\n",
       "      <th>1</th>\n",
       "      <td>4.9</td>\n",
       "      <td>3.0</td>\n",
       "      <td>1.4</td>\n",
       "      <td>0.2</td>\n",
       "      <td>setosa</td>\n",
       "    </tr>\n",
       "    <tr>\n",
       "      <th>2</th>\n",
       "      <td>4.7</td>\n",
       "      <td>3.2</td>\n",
       "      <td>1.3</td>\n",
       "      <td>0.2</td>\n",
       "      <td>setosa</td>\n",
       "    </tr>\n",
       "    <tr>\n",
       "      <th>3</th>\n",
       "      <td>4.6</td>\n",
       "      <td>3.1</td>\n",
       "      <td>1.5</td>\n",
       "      <td>0.2</td>\n",
       "      <td>setosa</td>\n",
       "    </tr>\n",
       "    <tr>\n",
       "      <th>4</th>\n",
       "      <td>5.0</td>\n",
       "      <td>3.6</td>\n",
       "      <td>1.4</td>\n",
       "      <td>0.2</td>\n",
       "      <td>setosa</td>\n",
       "    </tr>\n",
       "  </tbody>\n",
       "</table>\n",
       "</div>"
      ],
      "text/plain": [
       "   sepal length (cm)  sepal width (cm)  petal length (cm)  petal width (cm)  \\\n",
       "0                5.1               3.5                1.4               0.2   \n",
       "1                4.9               3.0                1.4               0.2   \n",
       "2                4.7               3.2                1.3               0.2   \n",
       "3                4.6               3.1                1.5               0.2   \n",
       "4                5.0               3.6                1.4               0.2   \n",
       "\n",
       "    label  \n",
       "0  setosa  \n",
       "1  setosa  \n",
       "2  setosa  \n",
       "3  setosa  \n",
       "4  setosa  "
      ]
     },
     "execution_count": 53,
     "metadata": {},
     "output_type": "execute_result"
    }
   ],
   "source": [
    "df.head()"
   ]
  },
  {
   "cell_type": "code",
   "execution_count": 54,
   "id": "11ad19fa-4767-4d66-ac91-5bb8c3104379",
   "metadata": {},
   "outputs": [],
   "source": [
    "df = df[df['label'] != 'setosa']"
   ]
  },
  {
   "cell_type": "code",
   "execution_count": 59,
   "id": "fe6fd717-4415-4512-abf3-b8a5fc8ef2eb",
   "metadata": {},
   "outputs": [
    {
     "data": {
      "text/plain": [
       "0.9314285714285714"
      ]
     },
     "execution_count": 59,
     "metadata": {},
     "output_type": "execute_result"
    }
   ],
   "source": [
    "X, y = df.drop(['label'], axis=1).values, df['label'].values\n",
    "\n",
    "xtr, xts, ytr, yts = train_test_split(X, y, train_size=0.75, random_state=0)\n",
    "\n",
    "pipe = Pipeline([\n",
    "    ('scaler', MinMaxScaler()),\n",
    "    ('clf', SVC())\n",
    "])\n",
    "\n",
    "pipe.fit(xtr, ytr)\n",
    "\n",
    "precision_score(yts, pipe.predict(xts), average='weighted')"
   ]
  },
  {
   "cell_type": "code",
   "execution_count": null,
   "id": "d13e8514-5eea-4cfe-a85d-be06ba150d15",
   "metadata": {},
   "outputs": [],
   "source": []
  }
 ],
 "metadata": {
  "kernelspec": {
   "display_name": "Python 3 (ipykernel)",
   "language": "python",
   "name": "python3"
  },
  "language_info": {
   "codemirror_mode": {
    "name": "ipython",
    "version": 3
   },
   "file_extension": ".py",
   "mimetype": "text/x-python",
   "name": "python",
   "nbconvert_exporter": "python",
   "pygments_lexer": "ipython3",
   "version": "3.7.11"
  }
 },
 "nbformat": 4,
 "nbformat_minor": 5
}
